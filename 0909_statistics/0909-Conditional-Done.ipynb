{
 "cells": [
  {
   "cell_type": "markdown",
   "metadata": {},
   "source": [
    "# Conditional probabilities\n",
    "\n",
    "We're going to analyze conditional probabilities of neighboring nucleotides in order to look for patterns in the yeast genome. We'll start by setting up Biopython and re-running our single-nucleotide counting analysis."
   ]
  },
  {
   "cell_type": "code",
   "execution_count": 1,
   "metadata": {},
   "outputs": [
    {
     "name": "stdout",
     "output_type": "stream",
     "text": [
      "Collecting biopython\n",
      "  Using cached https://files.pythonhosted.org/packages/ed/77/de3ba8f3d3015455f5df859c082729198ee6732deaeb4b87b9cfbfbaafe3/biopython-1.74-cp36-cp36m-manylinux1_x86_64.whl\n",
      "Requirement already satisfied: numpy in /srv/app/venv/lib/python3.6/site-packages (from biopython)\n",
      "Installing collected packages: biopython\n",
      "Successfully installed biopython-1.74\n"
     ]
    }
   ],
   "source": [
    "!pip3 install biopython"
   ]
  },
  {
   "cell_type": "markdown",
   "metadata": {},
   "source": [
    "Then, we need to import the `SeqIO` module, which has functions for reading Fasta-format files."
   ]
  },
  {
   "cell_type": "code",
   "execution_count": 2,
   "metadata": {},
   "outputs": [
    {
     "name": "stdout",
     "output_type": "stream",
     "text": [
      "Nucleotide counts: {'C': 2320576, 'A': 3766349, 'T': 3753080, 'G': 2317100}\n",
      "Total nucleotides: 12157105\n",
      "Nucleotide probabilities: {'C': 0.19088228653120953, 'A': 0.309806405390099, 'T': 0.3087149448820258, 'G': 0.19059636319666565}\n",
      "Total nucleotide probabilities: 0.9999999999999999\n"
     ]
    }
   ],
   "source": [
    "from Bio import SeqIO\n",
    "\n",
    "# Count occurrences of nucleotides in the yeast genome\n",
    "nt_counts = {}\n",
    "for record in SeqIO.parse(\"../S288C_R64-2-1/S288C_reference_sequence_R64-2-1_20150113.fsa\", \"fasta\"):\n",
    "    seq = str(record.seq)\n",
    "    for position in range(0, len(record.seq)):\n",
    "        nt = seq[position]\n",
    "        nt_counts[nt] = nt_counts.get(nt, 0) + 1\n",
    "print(\"Nucleotide counts:\", nt_counts)\n",
    "\n",
    "# Sum up total number of nucleotides\n",
    "nt_total = sum(nt_counts.values())\n",
    "print(\"Total nucleotides:\", nt_total)\n",
    "\n",
    "# Divide counts by nucleotide totals to get probabilities\n",
    "nt_probs = {}\n",
    "for nt in nt_counts:\n",
    "    nt_probs[nt] = nt_counts[nt] / nt_total\n",
    "print(\"Nucleotide probabilities:\", nt_probs)\n",
    "\n",
    "print(\"Total nucleotide probabilities:\", sum(nt_probs.values()))"
   ]
  },
  {
   "cell_type": "markdown",
   "metadata": {},
   "source": [
    "# Conditional Probabilities"
   ]
  },
  {
   "cell_type": "markdown",
   "metadata": {},
   "source": [
    "Next, we want to investigate the _dependence_ of adjacent nucleotides in the yeast genome. In probabilistic terms, we want to learn the _conditional probabilities_ of, for instance, seeing a `C` when the previous nucleotide was an `A`, and compare this to the unconditional probability of seeing a `C`.\n",
    "\n",
    "In this case, the easiest way to find these _conditional_ probabilities is to find the _joint_ probability of each dinucleotide in the genome and then use the formula for conditional probability.\n",
    "\n",
    "Since we're talking about neighboring nucleotides, the joint probability is the probability of a given dinuleotide pair."
   ]
  },
  {
   "cell_type": "code",
   "execution_count": 3,
   "metadata": {},
   "outputs": [
    {
     "name": "stdout",
     "output_type": "stream",
     "text": [
      "{'CC': 473632, 'CA': 786382, 'AC': 639445, 'AT': 1097112, 'TC': 754106, 'CT': 705263, 'TA': 902972, 'AA': 1320952, 'AG': 708838, 'GC': 453382, 'TG': 782421, 'GG': 470541, 'GT': 637132, 'TT': 1313572, 'CG': 355299, 'GA': 756039}\n"
     ]
    }
   ],
   "source": [
    "dint_counts = {}\n",
    "for record in SeqIO.parse(\"../S288C_R64-2-1/S288C_reference_sequence_R64-2-1_20150113.fsa\", \"fasta\"):\n",
    "    seq = str(record.seq)\n",
    "    for position in range(0, len(seq) - 1):\n",
    "        dint = seq[position:position+2]\n",
    "        dint_counts[dint] = dint_counts.get(dint, 0) + 1\n",
    "print(dint_counts)"
   ]
  },
  {
   "cell_type": "markdown",
   "metadata": {},
   "source": [
    "Next, we'll convert these into dinucleotide probabilities"
   ]
  },
  {
   "cell_type": "code",
   "execution_count": 7,
   "metadata": {},
   "outputs": [
    {
     "name": "stdout",
     "output_type": "stream",
     "text": [
      "12157088\n",
      "{'CC': 0.03895932973422583, 'CA': 0.06468506273870848, 'AC': 0.05259853346459284, 'AT': 0.09024463753161942, 'TC': 0.062030150641337795, 'CT': 0.05801249443945787, 'TA': 0.07427535278185039, 'AA': 0.10865694153073499, 'AG': 0.05830656157132366, 'GC': 0.03729363479148954, 'TG': 0.06435924458225523, 'GG': 0.03870507476790495, 'GT': 0.05240827408668918, 'TT': 0.10804988826271554, 'CG': 0.029225666541198025, 'GA': 0.06218915253389627}\n",
      "{'CC': 0.03895932973422583, 'CA': 0.06468506273870848, 'AC': 0.05259853346459284, 'AT': 0.09024463753161942, 'TC': 0.062030150641337795, 'CT': 0.05801249443945787, 'TA': 0.07427535278185039, 'AA': 0.10865694153073499, 'AG': 0.05830656157132366, 'GC': 0.03729363479148954, 'TG': 0.06435924458225523, 'GG': 0.03870507476790495, 'GT': 0.05240827408668918, 'TT': 0.10804988826271554, 'CG': 0.029225666541198025, 'GA': 0.06218915253389627}\n"
     ]
    }
   ],
   "source": [
    "dint_total = sum(dint_counts.values())\n",
    "print(dint_total)\n",
    "dint_probs = {}\n",
    "for dint,counts in dint_counts.items():\n",
    "    dint_probs[dint] = counts / dint_total\n",
    "print(dint_probs)\n",
    "# OR EQUIVALENTLY\n",
    "dint_probs_alt = {}\n",
    "for dint in dint_counts:\n",
    "    dint_probs_alt[dint] = dint_counts[dint] / dint_total\n",
    "print(dint_probs_alt)"
   ]
  },
  {
   "cell_type": "markdown",
   "metadata": {},
   "source": [
    "Note that some of these dinucleotides are related by symmetry -- our Fasta file contains the sequence of one DNA strand, and that choice is arbitrary, so for instance every 5'-AG-3' on one strand corresponds to a 5'-CT-3' on the opposite strand. For this reason, the number of `AG` and `CT` dinucleotides is almost the same. In some cases, like 5'-AT-3', the dinucleotide is its own reverse complement and so it does't have a dinucleotide \"partner\". There are six symmetric dinucleotide pairs and four individual dinucleotides.\n",
    "\n",
    "Recall that the formula for conditional probability is\n",
    "```\n",
    "Pr(event | condition) = Pr(event AND condition) / Pr(condition)\n",
    "```\n",
    "To look at the conditional dependence of neighboring nucleotides, the _event_ is the second nucleotide and the _condition_ is the first nucleotide. Thus, the Pr(event AND condition) is the dinucleotide probability, and the Pr(condition) is the single nucleotide probability we computed above.\n",
    "\n",
    "In order to compute these conditional probabilities for neighboring nucleotides, we'll nest two `for` loops, one for each possible first nucleotide, and one for each possible second nucleotide. We can create a dinucleotide sequence from two individual nucleotide sequences by \"adding together\" strings."
   ]
  },
  {
   "cell_type": "code",
   "execution_count": 9,
   "metadata": {},
   "outputs": [
    {
     "name": "stdout",
     "output_type": "stream",
     "text": [
      "A A AA\n",
      "A C AC\n",
      "A G AG\n",
      "A T AT\n",
      "C A CA\n",
      "C C CC\n",
      "C G CG\n",
      "C T CT\n",
      "G A GA\n",
      "G C GC\n",
      "G G GG\n",
      "G T GT\n",
      "T A TA\n",
      "T C TC\n",
      "T G TG\n",
      "T T TT\n"
     ]
    }
   ],
   "source": [
    "for nt1 in \"ACGT\":\n",
    "    for nt2 in \"ACGT\":\n",
    "        print(nt1, nt2, nt1+nt2)"
   ]
  },
  {
   "cell_type": "markdown",
   "metadata": {},
   "source": [
    "We can use this to build a dictionary of conditional nucleotide probabilities. As we build this table, we can also print out the relevant probabilities."
   ]
  },
  {
   "cell_type": "code",
   "execution_count": 11,
   "metadata": {},
   "outputs": [
    {
     "name": "stdout",
     "output_type": "stream",
     "text": [
      "A A AA 0.10865694153073499 0.309806405390099 0.3507252905049442\n",
      "A C AC 0.05259853346459284 0.309806405390099 0.16977871518944979\n",
      "A G AG 0.05830656157132366 0.309806405390099 0.18820321515917585\n",
      "A T AT 0.09024463753161942 0.309806405390099 0.29129364648863876\n",
      "C A CA 0.06468506273870848 0.19088228653120953 0.3388740983471632\n",
      "C C CC 0.03895932973422583 0.19088228653120953 0.20410133618058854\n",
      "C G CG 0.029225666541198025 0.19088228653120953 0.1531083217426756\n",
      "C T CT 0.05801249443945787 0.19088228653120953 0.3039176420907591\n",
      "G A GA 0.06218915253389627 0.19059636319666565 0.3262871939992202\n",
      "G C GC 0.03729363479148954 0.19059636319666565 0.1956681343022707\n",
      "G G GG 0.03870507476790495 0.19059636319666565 0.20307352206908252\n",
      "G T GT 0.05240827408668918 0.19059636319666565 0.274969958543291\n",
      "T A TA 0.07427535278185039 0.3087149448820258 0.24059526114044927\n",
      "T C TC 0.062030150641337795 0.3087149448820258 0.2009301838789903\n",
      "T G TG 0.06435924458225523 0.3087149448820258 0.20847466457074135\n",
      "T T TT 0.10804988826271554 0.3087149448820258 0.3499988907372346\n",
      "{'AA': 0.3507252905049442, 'AC': 0.16977871518944979, 'AG': 0.18820321515917585, 'AT': 0.29129364648863876, 'CA': 0.3388740983471632, 'CC': 0.20410133618058854, 'CG': 0.1531083217426756, 'CT': 0.3039176420907591, 'GA': 0.3262871939992202, 'GC': 0.1956681343022707, 'GG': 0.20307352206908252, 'GT': 0.274969958543291, 'TA': 0.24059526114044927, 'TC': 0.2009301838789903, 'TG': 0.20847466457074135, 'TT': 0.3499988907372346}\n"
     ]
    }
   ],
   "source": [
    "dint_conds = {}\n",
    "for nt1 in \"ACGT\":\n",
    "    for nt2 in \"ACGT\":\n",
    "        dint = nt1 + nt2\n",
    "        joint = dint_probs[dint]\n",
    "        marginal = nt_probs[nt1]\n",
    "        conditional = joint / marginal\n",
    "        print(nt1, nt2, dint, joint, marginal, conditional)\n",
    "        dint_conds[dint] = conditional\n",
    "print(dint_conds)"
   ]
  },
  {
   "cell_type": "markdown",
   "metadata": {},
   "source": [
    "You should notice that the _conditional_ probabilities of different values for `nt2` don't exactly match the _unconditional_ probabilities for that nucleotide. This means that adjacent nucleotides in the genome are not _independent_. We can look at how strong this dependence is by asking either\n",
    "* How different is the conditional probability `Pr(nt2=N|nt1=M)` from the marginal (unconditional) probability `Pr(nt2=N)`?\n",
    "* How different is the _actual_ dinucleotide probability `Pr(nt1=M AND nt2=N)` from the probability that we would expect under independence, i.e., `Pr(nt1=M) * Pr(nt2=N)`?\n",
    "\n",
    "It turns out that these are equivalent mathematically:\n",
    "```\n",
    "   Pr(nt1=M AND nt2=N) / (Pr(nt1=M)  * Pr(nt2=N))\n",
    "= (Pr(nt1=M AND nt2=N) /  Pr(nt1=M)) / Pr(nt2=N)\n",
    "=  Pr(nt2=N | nt1=M)                 / Pr(nt2=N)\n",
    "```"
   ]
  },
  {
   "cell_type": "code",
   "execution_count": 12,
   "metadata": {},
   "outputs": [
    {
     "name": "stdout",
     "output_type": "stream",
     "text": [
      "AA 0.3507252905049442 0.309806405390099 1.1320788866948097\n",
      "AC 0.16977871518944979 0.19088228653120953 0.8894419606697802\n",
      "AG 0.18820321515917585 0.19059636319666565 0.9874438945352779\n",
      "AT 0.29129364648863876 0.3087149448820258 0.9435683348597053\n",
      "CA 0.3388740983471632 0.309806405390099 1.0938253452844624\n",
      "CC 0.20410133618058854 0.19088228653120953 1.0692523643214933\n",
      "CG 0.1531083217426756 0.19059636319666565 0.803311874239131\n",
      "CT 0.3039176420907591 0.3087149448820258 0.9844604128475221\n",
      "GA 0.3262871939992202 0.309806405390099 1.0531970557173247\n",
      "GC 0.1956681343022707 0.19088228653120953 1.0250722466606594\n",
      "GG 0.20307352206908252 0.19059636319666565 1.0654637825357791\n",
      "GT 0.274969958543291 0.3087149448820258 0.8906920869942648\n",
      "TA 0.24059526114044927 0.309806405390099 0.776598730544318\n",
      "TC 0.2009301838789903 0.19088228653120953 1.0526392340031925\n",
      "TG 0.20847466457074135 0.19059636319666565 1.0938019019577414\n",
      "TT 0.3499988907372346 0.3087149448820258 1.133728368320443\n"
     ]
    }
   ],
   "source": [
    "for nt1 in \"ACGT\":\n",
    "    for nt2 in \"ACGT\":\n",
    "        dint = nt1 + nt2\n",
    "        conditional = dint_conds[dint]\n",
    "        unconditional = nt_probs[nt2]\n",
    "        ratio = conditional / unconditional\n",
    "        print(dint, conditional, unconditional, ratio)"
   ]
  },
  {
   "cell_type": "markdown",
   "metadata": {},
   "source": [
    "You should see that there are strong dependencies between adjacent nucleotides.\n",
    "\n",
    "Because the identity of a nucleotide at position *i* affects what nucleotide shows up at *i+1*, \n",
    "and the nucleotide at *i+1* in turn affects what happens at position *i+2*, you can see longer-range correlations in nucleotide sequences even with purely nearest-neighbor interactions.\n",
    "\n",
    "In reality, genomes have many different nearest-neighbor and longer-range interactions, but we won't worry about those today.\n",
    "\n",
    "```\n",
    "  Pr(nt3=P AND nt2=N AND nt1=M)\n",
    "= Pr(nt3=P |   nt2=N AND nt1=M) * Pr(nt2=N AND nt1=M)\n",
    "= Pr(nt3=P |   nt2=N)           * Pr(nt2=N AND nt1=M)\n",
    "```\n",
    "This last step relies on our assumption for the moment that there aren't any longer-range direct correlations, and so we can ignore the identity of `nt1` once we know that `nt2=N`.\n",
    "```\n",
    "= Pr(nt3=P | nt2=N) * Pr(nt2=N | nt1=M) * Pr(nt1=M)\n",
    "```\n",
    "\n",
    "Now we can use this to calculate the over- or under-representation of trinucleotide sequences:\n",
    "```\n",
    "   Pr(nt3=P AND nt2=N AND nt1=M)                     / (Pr(nt3=P) * Pr(nt2=N) * Pr(nt1=M)\n",
    "=  Pr(nt3=P | nt2=N) * Pr(nt2=N | nt1=M) * Pr(nt1=M) / (Pr(nt3=P) * Pr(nt2=N) * Pr(nt1=M)\n",
    "=  Pr(nt3=P | nt2=N) * Pr(nt2=N | nt1=M)             / (Pr(nt3=P) * Pr(nt2=N)\n",
    "= (Pr(nt3=P | nt2=N) / Pr(nt3=P)) * (Pr(nt2=N | nt1=M) / Pr(nt2=N))\n",
    "```\n",
    "That is, when `MNP` consists of over-represented dinucleotides `MN` and `NP`, the trinucleotide will be over-represented, and likewise for under-represented pairs of dinucleotides. Of course, the pairs must share the common nucleotide `N` in the middle.\n",
    "\n",
    "Based only on dinucleotide nearest-neighbor dependencies above, what trinucleotide sequence do you expect to be highly over-represented? Highly under-represented?"
   ]
  },
  {
   "cell_type": "code",
   "execution_count": 13,
   "metadata": {},
   "outputs": [
    {
     "name": "stdout",
     "output_type": "stream",
     "text": [
      "0 AB\n",
      "1 BC\n",
      "2 CD\n",
      "3 DE\n",
      "4 EF\n",
      "5 FG\n",
      "6 GH\n",
      "7 HI\n",
      "8 IJ\n",
      "0 AB\n",
      "2 CD\n",
      "4 EF\n",
      "6 GH\n",
      "8 IJ\n"
     ]
    }
   ],
   "source": [
    "x = \"ABCDEFGHIJ\"\n",
    "for position in range(0,len(x)-1):\n",
    "    y = x[position:position+2]\n",
    "    print(position, y)\n",
    "for position in range(0,len(x)-1,2):\n",
    "    y = x[position:position+2]\n",
    "    print(position, y)"
   ]
  },
  {
   "cell_type": "code",
   "execution_count": null,
   "metadata": {},
   "outputs": [],
   "source": []
  }
 ],
 "metadata": {
  "kernelspec": {
   "display_name": "Python 3",
   "language": "python",
   "name": "python3"
  },
  "language_info": {
   "codemirror_mode": {
    "name": "ipython",
    "version": 3
   },
   "file_extension": ".py",
   "mimetype": "text/x-python",
   "name": "python",
   "nbconvert_exporter": "python",
   "pygments_lexer": "ipython3",
   "version": "3.6.8"
  }
 },
 "nbformat": 4,
 "nbformat_minor": 2
}
