{
 "cells": [
  {
   "cell_type": "markdown",
   "metadata": {},
   "source": [
    "# Motif Searching\n",
    "\n",
    "We will start by loading `pandas`, a package for working with a kind of data table called a \"data frame\" in Python. Data frames are similar to spreadsheets -- they have rows and columns."
   ]
  },
  {
   "cell_type": "code",
   "execution_count": null,
   "metadata": {},
   "outputs": [],
   "source": [
    "import pandas as pd"
   ]
  },
  {
   "cell_type": "markdown",
   "metadata": {},
   "source": [
    "The cell below creates a data frame with observed nucleotide counts from 389 TATA boxes taken from eukaryotic promoters (Bucher, *J Mol Biol* (1990) **212**, 563-578).\n",
    "\n",
    "The data frame is built from a dictionary -- each key of the dictionary is a column name, and the associated value is a list of values for that column. In this example, all of the columns have integer values."
   ]
  },
  {
   "cell_type": "code",
   "execution_count": null,
   "metadata": {},
   "outputs": [],
   "source": [
    "tata_counts = pd.DataFrame({'A': [  16, 352,   3, 354, 268, 360, 222, 155],\n",
    "                            'C': [  46,   0,  10,   0,   0,   3,   2,  44],\n",
    "                            'G': [  18,   2,   2,   5,   0,  20,  44, 157],\n",
    "                            'T': [ 309,  35, 374,  30, 121,   6, 121,  33]})\n",
    "tata_counts"
   ]
  },
  {
   "cell_type": "markdown",
   "metadata": {},
   "source": [
    "Each row is a position in the `TATA` motif, and each column is a nucleotide. It's possible to read off the consensus sequence of `TATA(A/T)A(A/T)(A/G)`, sometimes written `TATAWAWR`, just from looking at the counts in the table.\n",
    "\n",
    "Data frames have many useful methods. For instance, we can use the `.sum()` method to take the sum across each row and create a new, column-like result."
   ]
  },
  {
   "cell_type": "code",
   "execution_count": null,
   "metadata": {},
   "outputs": [],
   "source": [
    "tata_counts.sum(1)"
   ]
  },
  {
   "cell_type": "markdown",
   "metadata": {},
   "source": [
    "We can then turn these counts into probabilities by dividing each nucleotide count by the total number of sequences counted. That is if 35 out of 389 TATA-box sequences have a `T` at the second position, then the probability of a `T` at position 1 in a random TATA-box sequence is 35/389, just under 10%."
   ]
  },
  {
   "cell_type": "code",
   "execution_count": null,
   "metadata": {},
   "outputs": [],
   "source": [
    "tata_probs = tata_counts / 389\n",
    "tata_probs"
   ]
  },
  {
   "cell_type": "markdown",
   "metadata": {},
   "source": [
    "We can index into data tables using square brackets, just like we index into lists and dictionaries. The format for doing this is to index the column first, by name, and then the row, by number. The cell below looks up column `T` and then finds row index 1 in that column -- this is the second row, since Python starts counting from 0."
   ]
  },
  {
   "cell_type": "code",
   "execution_count": null,
   "metadata": {},
   "outputs": [],
   "source": [
    "tata_probs['T'][1]"
   ]
  },
  {
   "cell_type": "markdown",
   "metadata": {},
   "source": [
    "We want to build a probabilistic model of TATA-box sequences. In this example, we'll assume that each nucleotide position in the TATA-box is independent. That allows us to multiply each of the probabilities together:\n",
    "\n",
    "```\n",
    "P(TATAAAAG) = P(T at 0) * P(A at 1) * ... * P(G at 7)\n",
    "```\n",
    "Of course, we need to know which position of the motif we're looking at in order to do this -- `P(T at 0)` is very different than `P(T at 1)`! The `enumerate()` function lets us loop over a string or list and keep track of the position as well. Our `for` loop needs two variables, of course -- `idx` for the index and `nt` for the nucleotide itself."
   ]
  },
  {
   "cell_type": "code",
   "execution_count": null,
   "metadata": {},
   "outputs": [],
   "source": [
    "sequ = 'TATAAAAG'\n",
    "for idx,nt in enumerate(sequ):\n",
    "    print(idx,nt)"
   ]
  },
  {
   "cell_type": "markdown",
   "metadata": {},
   "source": [
    "**Exercise** Complete the `for` loop below in order to look up the relevant probability `P(nt at idx)` along with the index and the nucleotide."
   ]
  },
  {
   "cell_type": "code",
   "execution_count": null,
   "metadata": {},
   "outputs": [],
   "source": [
    "for idx,nt in enumerate(sequ):\n",
    "    print(...)"
   ]
  },
  {
   "cell_type": "markdown",
   "metadata": {},
   "source": [
    "**Exercise** Complete the `for` loop below to compute the running product of each probability for each position of `sequ`"
   ]
  },
  {
   "cell_type": "code",
   "execution_count": null,
   "metadata": {},
   "outputs": [],
   "source": [
    "prob = 1\n",
    "for idx,nt in enumerate(sequ):\n",
    "    prob = ...\n",
    "print(prob)"
   ]
  },
  {
   "cell_type": "markdown",
   "metadata": {},
   "source": [
    "We computed the probability of one specific sequence -- the \"perfect\" TATA-box `TATAAAAG` -- under our probabilistic model of a TATA-box. Now compute the probability of the \"worst\" TATA box sequence, `ACGCGCCT`."
   ]
  },
  {
   "cell_type": "code",
   "execution_count": null,
   "metadata": {},
   "outputs": [],
   "source": [
    "sequ = 'ACGCGCCT'\n",
    "prob = 1\n",
    "for idx,nt in enumerate(sequ):\n",
    "    prob = prob * tata_probs[nt][idx]\n",
    "print(prob)"
   ]
  },
  {
   "cell_type": "markdown",
   "metadata": {},
   "source": [
    "While `P(ACGCGCCT)` is low, it probably shouldn't actually be  0 in our model. Positions 3 and 4 in our TATA-box data have some 0 counts for certain nucleotides. Of course, we only counted 389 TATA-boxes -- perhaps if we counted 389,000 different TATA-boxes we'd find a few with `C` and `G` nucleotides right in the middle.\n",
    "\n",
    "We often handle these situations by adding a _pseudocount_ to our data. In essensce, we add a fake count for every nucleotide at every position, in order to eliminate zero counts. The impact of this pseudocount depends on the number of real counts. If we add a pseudocount with 9 real observations, it represents 10% of our overall counts, but if we add a pseudocount with 999 real observations, it's only 0.1%. \n",
    "\n",
    "It's easy to just add 0.25 to every entry in our count table, and use this to compute a new table of probabilities."
   ]
  },
  {
   "cell_type": "code",
   "execution_count": null,
   "metadata": {},
   "outputs": [],
   "source": [
    "print(tata_counts + 0.25)\n",
    "print((tata_counts + 0.25).sum(1))\n",
    "tata_probs = (tata_counts + 0.25) / 390\n",
    "tata_probs"
   ]
  },
  {
   "cell_type": "markdown",
   "metadata": {},
   "source": [
    "Use the new probabilistic model with pseudocounts to compute the probabilities of the \"best\" and \"worst\" TATA-box sequences."
   ]
  },
  {
   "cell_type": "code",
   "execution_count": null,
   "metadata": {},
   "outputs": [],
   "source": [
    "sequ = 'TATAAAAG'\n",
    "prob_TATAAAAG = 1\n",
    "for idx,nt in enumerate(sequ):\n",
    "    prob_TATAAAAG = prob_TATAAAAG * tata_probs[nt][idx]\n",
    "print(prob_TATAAAAG)\n",
    "\n",
    "sequ = 'ACGCGCCT'\n",
    "prob_ACGCGCCT = 1\n",
    "for idx,nt in enumerate(sequ):\n",
    "    prob_ACGCGCCT = prob_ACGCGCCT * tata_probs[nt][idx]\n",
    "print(prob_ACGCGCCT)"
   ]
  },
  {
   "cell_type": "markdown",
   "metadata": {},
   "source": [
    "It's getting tedious to write the same `for` loop every time we want to try a different sequence.\n",
    "\n",
    "We can write our own function, `likelihood_tata()`, that will compute the likelihood of a sequence under our TATA-box probability model. We _define_ a function with `def` followed by the function name. The _arguments_ to the function are named in parentheses, and inside the function, these become _variables_ that take on a different value each time we use the function.\n",
    "\n",
    "In the cell below, we run the `likelihood_tata` function. Inside the function, `sequ` is a variable with the value `TATAAAAG`."
   ]
  },
  {
   "cell_type": "code",
   "execution_count": null,
   "metadata": {},
   "outputs": [],
   "source": [
    "def likelihood_tata(sequ):\n",
    "    prob = 1\n",
    "    for idx,nt in enumerate(sequ):\n",
    "        prob = prob * tata_probs[nt][idx]\n",
    "    return prob\n",
    "\n",
    "print(likelihood_tata('TATAAAAG'))"
   ]
  },
  {
   "cell_type": "markdown",
   "metadata": {},
   "source": [
    "Now we can easily use our function to compute the likelihood of some other possible TATA-box sequences. For example, the three sequences below are \"very good\" TATA-boxes that differ from the \"best\" TATA box at one of the three \"degenerate\" positions in the motif. Notice that the overall probability of getting one of these three imperfect motifs is substantially higher than the probability of the perfect TATA-box. In fact, although the TATA-box is a strong motif, fewer than 10% of the sequences generated according to our model will actually match the \"best\" sequence."
   ]
  },
  {
   "cell_type": "code",
   "execution_count": null,
   "metadata": {},
   "outputs": [],
   "source": [
    "prob_TATATAAG = likelihood_tata('TATATAAG')\n",
    "prob_TATAAATG = likelihood_tata('TATAAATG')\n",
    "prob_TATAAAAA = likelihood_tata('TATAAAAA')\n",
    "print(prob_TATATAAG, \n",
    "      prob_TATAAATG, \n",
    "      prob_TATAAAAA,\n",
    "      prob_TATATAAG + prob_TATAAATG + prob_TATAAAAA)"
   ]
  },
  {
   "cell_type": "markdown",
   "metadata": {},
   "source": [
    "Now, let's search for TATA boxes in yeast genomic sequence. Of course, the TATA-box is a very AT-rich motif and the yeast genome is very AT-rich, and we need to take this fact into account. We'll start with a background model for yeast nucleotide sequence based on our previous analysis. For simplicity, we won't include the nearest-neighbor correlations we discussed last time."
   ]
  },
  {
   "cell_type": "code",
   "execution_count": null,
   "metadata": {},
   "outputs": [],
   "source": [
    "background = {'A': 0.31, 'C': 0.19, 'G': 0.19, 'T': 0.31}\n",
    "background"
   ]
  },
  {
   "cell_type": "markdown",
   "metadata": {},
   "source": [
    "**Exercise** Complete the `for` loop below to compute the probability of the \"best\" TATA-box sequence `TATAAAAG` arising purely by chance according to our (very simple) background model."
   ]
  },
  {
   "cell_type": "code",
   "execution_count": null,
   "metadata": {},
   "outputs": [],
   "source": [
    "sequ = 'TATAAAAG'\n",
    "bkgnd_TATAAAAG = 1\n",
    "for idx,nt in enumerate(sequ):\n",
    "    ...\n",
    "print(bkgnd_TATAAAAG)"
   ]
  },
  {
   "cell_type": "markdown",
   "metadata": {},
   "source": [
    "**Exercise** Complete the function `likelihood_bkgnd(sequ)` below to compute the likelihood of a sequence under our background model, and use the function to compute the background likelihood of the \"worst\" TATA-box."
   ]
  },
  {
   "cell_type": "code",
   "execution_count": null,
   "metadata": {},
   "outputs": [],
   "source": [
    "def likelihood_bkgnd(sequ):\n",
    "    ...\n",
    "bkgnd_ACGCGCCT = likelihood_bkgnd('ACGCGCCT')\n",
    "print(bkgnd_ACGCGCCT)"
   ]
  },
  {
   "cell_type": "markdown",
   "metadata": {},
   "source": [
    "Since the \"worst\" TATA-box is GC-rich and the \"best\" TATA-box is AT-rich, the odds of getting the \"best\" TATA-box by chance in random sequence is somewhat higher. Of course, the chance of getting the \"best\" sequence under our TATA-box probabilistic model is dramatically higher than the chance of getting the \"worst\" sequence. We can use the _ratio_ of the likelihoods as a measure of how well two different models fit a given sequence.\n",
    "\n",
    "Below, we compute the likelihood ratios for the \"best\" sequence `TATAAAAG`, the \"worst\" sequence `ACGCGCCT`, and getting any one of the three very-good sequences `TATAAATG` and `TATAAAAA`. "
   ]
  },
  {
   "cell_type": "code",
   "execution_count": null,
   "metadata": {},
   "outputs": [],
   "source": [
    "print(prob_TATAAAAG / bkgnd_TATAAAAG)\n",
    "print(prob_ACGCGCCT / bkgnd_ACGCGCCT)\n",
    "\n",
    "print( (likelihood_tata('TATATAAG') + likelihood_tata('TATAAATG') + likelihood_tata('TATAAAAA'))\n",
    "       / (likelihood_bkgnd('TATATAAG') + likelihood_bkgnd('TATAAATG') + likelihood_bkgnd('TATAAAAA')) )"
   ]
  },
  {
   "cell_type": "markdown",
   "metadata": {},
   "source": [
    "**Exercise** Complete the `likelihood_ratio()` function below"
   ]
  },
  {
   "cell_type": "code",
   "execution_count": null,
   "metadata": {},
   "outputs": [],
   "source": [
    "def likelihood_ratio(sequ):\n",
    "    ...\n",
    "print(likelihood_ratio('TATAAAAG'))\n",
    "print(likelihood_ratio('ACGCGCCT'))"
   ]
  },
  {
   "cell_type": "markdown",
   "metadata": {},
   "source": [
    "Now that we have a likelihood ratio function, we can use it to search the entire yeast genome for potential TATA-boxes! We'll need to start by installing biopython and importing the `Bio.SeqIO` module that lets us read in and parse a Fasta file."
   ]
  },
  {
   "cell_type": "code",
   "execution_count": null,
   "metadata": {},
   "outputs": [],
   "source": [
    "!pip install biopython"
   ]
  },
  {
   "cell_type": "code",
   "execution_count": null,
   "metadata": {},
   "outputs": [],
   "source": [
    "from Bio import SeqIO"
   ]
  },
  {
   "cell_type": "markdown",
   "metadata": {},
   "source": [
    "**Exercise** Complete the loop below to find every perfect match to the \"ideal\" `TATAAAAG` sequence in the yeast genome and then print the chromosome name, position, and sequence."
   ]
  },
  {
   "cell_type": "code",
   "execution_count": null,
   "metadata": {},
   "outputs": [],
   "source": [
    "for record in SeqIO.parse(\"S288C_R64-2-1/S288C_reference_sequence_R64-2-1_20150113.fsa\", \"fasta\"):\n",
    "    seq = str(record.seq)\n",
    "    for position in range(0, len(record.seq) - 8):\n",
    "        subseq = ...\n",
    "        if subseq == \"TATAAAAG\":\n",
    "            print(record.id, position, subseq)"
   ]
  },
  {
   "cell_type": "markdown",
   "metadata": {},
   "source": [
    "**Exercise** Now, adapt the `for` loop to compute the likelihood ratio for each position, and print the name, position, sequence, and likelihood ratio whenever the ratio is greater than 200.\n",
    "\n",
    "You may want to stop this before it finishes running! It's both verbose and time-consuming..."
   ]
  },
  {
   "cell_type": "code",
   "execution_count": null,
   "metadata": {},
   "outputs": [],
   "source": [
    "for record in SeqIO.parse(\"S288C_R64-2-1/S288C_reference_sequence_R64-2-1_20150113.fsa\", \"fasta\"):\n",
    "    seq = str(record.seq)\n",
    "    for position in range(0, len(record.seq) - 8):\n",
    "        ..."
   ]
  },
  {
   "cell_type": "markdown",
   "metadata": {},
   "source": [
    "Biopython actually includes some tools to work with motifs, in the aptly-named `motifs` module."
   ]
  },
  {
   "cell_type": "code",
   "execution_count": null,
   "metadata": {},
   "outputs": [],
   "source": [
    "from Bio import motifs"
   ]
  },
  {
   "cell_type": "markdown",
   "metadata": {},
   "source": [
    "The `motifs` package contains a special kind of object, a `Motif`, that represents a sequence motif. We can create a `Motif` directly from our nucleotide counts."
   ]
  },
  {
   "cell_type": "code",
   "execution_count": null,
   "metadata": {},
   "outputs": [],
   "source": [
    "tata_motif = motifs.Motif(counts=tata_counts)\n",
    "print(tata_motif.counts)"
   ]
  },
  {
   "cell_type": "markdown",
   "metadata": {},
   "source": [
    "The `Motif` object has some useful methods. For instance, we can get the \"best\" sequence with `consensus`, the \"worst\" sequence with `anticonsensus`, and a representation of the motif with degenerate nucleotides using `degenerate_consensus`.\n",
    "\n",
    "We can also get a table of probabilities for each position, a Position Weight Matrix (PWM), using `pwm`."
   ]
  },
  {
   "cell_type": "code",
   "execution_count": null,
   "metadata": {},
   "outputs": [],
   "source": [
    "print(tata_motif.consensus)\n",
    "print(tata_motif.anticonsensus)\n",
    "print(tata_motif.degenerate_consensus)\n",
    "\n",
    "print(tata_motif.pwm)"
   ]
  },
  {
   "cell_type": "markdown",
   "metadata": {},
   "source": [
    "The PWM from the `Motif` object has the same problem as the probability matrix we constructed by hand: we see zero probabilities for certain nucleotides at key positions in the motif. We can set the `pseudocounts` property on the ,otif in order to include pseudocounts in our calculation. Since only two significant figures are displayed, we rarely see the effects of these pseudocounts, although we can see that the probability of `T` at the last position goes from 0.08 to 0.09."
   ]
  },
  {
   "cell_type": "code",
   "execution_count": null,
   "metadata": {},
   "outputs": [],
   "source": [
    "tata_motif.pseudocounts = 0.25\n",
    "print(tata_motif.pwm)"
   ]
  },
  {
   "cell_type": "markdown",
   "metadata": {},
   "source": [
    "When scoring motifs, we multiplied probabilities together. Some of the probabilities got quite small -- lower than 1e-16. For a variety of practical reasons, we often take the log of probabilities. When we do this, multiplication of probabilities turns into addition of log-probabilities, which is also more convenient. We can then consider the log-probability as a \"score\" for nucleotides and add up the score for each position. A matrix of log-probability scores is called a Position-Specific Scoring Matrix (PSSM)."
   ]
  },
  {
   "cell_type": "code",
   "execution_count": null,
   "metadata": {},
   "outputs": [],
   "source": [
    "print(tata_motif.pssm)"
   ]
  },
  {
   "cell_type": "markdown",
   "metadata": {},
   "source": [
    "The PSSM from the `pssm` method is actually another special Biopython object. In addition to the table of log-likelihood scores, it also has methods to score sequences."
   ]
  },
  {
   "cell_type": "code",
   "execution_count": null,
   "metadata": {},
   "outputs": [],
   "source": [
    "tata_pssm = tata_motif.pssm\n",
    "print(tata_pssm.calculate('TATAAAAG'))\n",
    "print(tata_pssm.calculate('ACGCCCCT'))\n",
    "print(tata_pssm.calculate('TATAAATA'))"
   ]
  },
  {
   "cell_type": "markdown",
   "metadata": {},
   "source": [
    "The `calculate` method will score each position of a longer sequence and return the result in an array with one entry per starting position."
   ]
  },
  {
   "cell_type": "code",
   "execution_count": null,
   "metadata": {},
   "outputs": [],
   "source": [
    "print(tata_pssm.calculate('CGCTATAAATATATAAGCGCCCCTAC'))"
   ]
  },
  {
   "cell_type": "markdown",
   "metadata": {},
   "source": [
    "This makes it easier to extract the sequence from a region of a yeast chromosome and plot the TATA-box score at each position. Below, we use `next()` to get the first entry in the yeast genome sequence in the `chr1` variable."
   ]
  },
  {
   "cell_type": "code",
   "execution_count": null,
   "metadata": {},
   "outputs": [],
   "source": [
    "import numpy as np\n",
    "import matplotlib.pyplot as plt\n",
    "\n",
    "chr1 = next(SeqIO.parse(\"S288C_R64-2-1/S288C_reference_sequence_R64-2-1_20150113.fsa\", \"fasta\"))\n",
    "print(chr1.id)"
   ]
  },
  {
   "cell_type": "markdown",
   "metadata": {},
   "source": [
    "We can score the entire chromosome I sequence for TATA motifs using the `calculate` method, and then plot these scores."
   ]
  },
  {
   "cell_type": "code",
   "execution_count": null,
   "metadata": {},
   "outputs": [],
   "source": [
    "score = tata_pssm.calculate(chr1.seq)\n",
    "plt.plot(score)"
   ]
  },
  {
   "cell_type": "markdown",
   "metadata": {},
   "source": [
    "the graph is too dense to see much of anything, since it covers over 200,000 chromosome positions.\n",
    "\n",
    "The glycolytic enzyme pyruvate kinase, encoded by _CDC19_, starts at position 71786 on chromosome I. Here, we'll extract the scores around the _CDC19_ promoter and gene in the range from 70,000 to 72,500. We'll plot each position along with its score."
   ]
  },
  {
   "cell_type": "code",
   "execution_count": null,
   "metadata": {},
   "outputs": [],
   "source": [
    "cdc19_region = range(70000,72500)\n",
    "plt.plot(np.array(cdc19_region), score[cdc19_region])"
   ]
  },
  {
   "cell_type": "markdown",
   "metadata": {},
   "source": [
    "The highest score seems to show up around 71,600, which is just upstream of the transcription start site for _CDC19_.\n",
    "\n",
    "**Exercise** Plot the region of scores from 71,500 to 71,700. Then zoom in more until you can figure out the exact position of the score peak. Use `plt.figure()` between each plot in order to make a new plot, rather than a new line on the existing plot."
   ]
  },
  {
   "cell_type": "code",
   "execution_count": null,
   "metadata": {},
   "outputs": [],
   "source": [
    "cdc19_promoter = ...\n",
    "plt.plot(...)\n",
    "plt.figure()\n",
    "..."
   ]
  },
  {
   "cell_type": "markdown",
   "metadata": {},
   "source": [
    "**Exercise** Slice out the sequence of the candidate TATA box and compute its score."
   ]
  },
  {
   "cell_type": "code",
   "execution_count": null,
   "metadata": {},
   "outputs": [],
   "source": [
    "box_seq = ...\n",
    "print(box_seq)\n",
    "print(...)"
   ]
  }
 ],
 "metadata": {
  "kernelspec": {
   "display_name": "Python 3",
   "language": "python",
   "name": "python3"
  },
  "language_info": {
   "codemirror_mode": {
    "name": "ipython",
    "version": 3
   },
   "file_extension": ".py",
   "mimetype": "text/x-python",
   "name": "python",
   "nbconvert_exporter": "python",
   "pygments_lexer": "ipython3",
   "version": "3.7.4"
  }
 },
 "nbformat": 4,
 "nbformat_minor": 2
}
