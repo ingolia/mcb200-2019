{
 "cells": [
  {
   "cell_type": "markdown",
   "metadata": {},
   "source": [
    "# Conditional probabilities\n",
    "\n",
    "We're going to analyze conditional probabilities of neighboring nucleotides in order to look for patterns in the yeast genome. We'll start by setting up Biopython and re-running our single-nucleotide counting analysis."
   ]
  },
  {
   "cell_type": "code",
   "execution_count": null,
   "metadata": {},
   "outputs": [],
   "source": [
    "!pip3 install biopython"
   ]
  },
  {
   "cell_type": "markdown",
   "metadata": {},
   "source": [
    "Then, we need to import the `SeqIO` module, which has functions for reading Fasta-format files."
   ]
  },
  {
   "cell_type": "code",
   "execution_count": null,
   "metadata": {},
   "outputs": [],
   "source": [
    "from Bio import SeqIO\n",
    "\n",
    "# Count occurrences of nucleotides in the yeast genome\n",
    "nt_counts = {}\n",
    "for record in SeqIO.parse(\"../S288C_R64-2-1/S288C_reference_sequence_R64-2-1_20150113.fsa\", \"fasta\"):\n",
    "    seq = str(record.seq)\n",
    "    for position in range(0, len(record.seq)):\n",
    "        nt = seq[position]\n",
    "        nt_counts[nt] = nt_counts.get(nt, 0) + 1\n",
    "print(\"Nucleotide counts:\", nt_counts)\n",
    "\n",
    "# Sum up total number of nucleotides\n",
    "nt_total = sum(nt_counts.values())\n",
    "print(\"Total nucleotides:\", nt_total)\n",
    "\n",
    "# Divide counts by nucleotide totals to get probabilities\n",
    "nt_probs = {}\n",
    "for nt in nt_counts:\n",
    "    nt_probs[nt] = nt_counts[nt] / nt_total\n",
    "print(\"Nucleotide probabilities:\", nt_probs)\n",
    "\n",
    "print(\"Total nucleotide probabilities:\", sum(nt_probs.values()))"
   ]
  },
  {
   "cell_type": "markdown",
   "metadata": {},
   "source": [
    "# Conditional Probabilities"
   ]
  },
  {
   "cell_type": "markdown",
   "metadata": {},
   "source": [
    "Next, we want to investigate the _dependence_ of adjacent nucleotides in the yeast genome. In probabilistic terms, we want to learn the _conditional probabilities_ of, for instance, seeing a `C` when the previous nucleotide was an `A`, and compare this to the unconditional probability of seeing a `C`.\n",
    "\n",
    "In this case, the easiest way to find these _conditional_ probabilities is to find the _joint_ probability of each dinucleotide in the genome and then use the formula for conditional probability.\n",
    "\n",
    "Since we're talking about neighboring nucleotides, the joint probability is the probability of a given dinuleotide pair."
   ]
  },
  {
   "cell_type": "code",
   "execution_count": null,
   "metadata": {},
   "outputs": [],
   "source": []
  },
  {
   "cell_type": "markdown",
   "metadata": {},
   "source": [
    "Next, we'll convert these into dinucleotide probabilities"
   ]
  },
  {
   "cell_type": "code",
   "execution_count": null,
   "metadata": {},
   "outputs": [],
   "source": []
  },
  {
   "cell_type": "markdown",
   "metadata": {},
   "source": [
    "Note that some of these dinucleotides are related by symmetry -- our Fasta file contains the sequence of one DNA strand, and that choice is arbitrary, so for instance every 5'-AG-3' on one strand corresponds to a 5'-CT-3' on the opposite strand. For this reason, the number of `AG` and `CT` dinucleotides is almost the same. In some cases, like 5'-AT-3', the dinucleotide is its own reverse complement and so it does't have a dinucleotide \"partner\". There are six symmetric dinucleotide pairs and four individual dinucleotides.\n",
    "\n",
    "Recall that the formula for conditional probability is\n",
    "```\n",
    "Pr(event | condition) = Pr(event AND condition) / Pr(condition)\n",
    "```\n",
    "To look at the conditional dependence of neighboring nucleotides, the _event_ is the second nucleotide and the _condition_ is the first nucleotide. Thus, the Pr(event AND condition) is the dinucleotide probability, and the Pr(condition) is the single nucleotide probability we computed above.\n",
    "\n",
    "In order to compute these conditional probabilities for neighboring nucleotides, we'll nest two `for` loops, one for each possible first nucleotide, and one for each possible second nucleotide. We can create a dinucleotide sequence from two individual nucleotide sequences by \"adding together\" strings."
   ]
  },
  {
   "cell_type": "code",
   "execution_count": null,
   "metadata": {},
   "outputs": [],
   "source": []
  },
  {
   "cell_type": "markdown",
   "metadata": {},
   "source": [
    "We can use this to build a dictionary of conditional nucleotide probabilities. As we build this table, we can also print out the relevant probabilities."
   ]
  },
  {
   "cell_type": "code",
   "execution_count": null,
   "metadata": {},
   "outputs": [],
   "source": []
  },
  {
   "cell_type": "markdown",
   "metadata": {},
   "source": [
    "You should notice that the _conditional_ probabilities of different values for `nt2` don't exactly match the _unconditional_ probabilities for that nucleotide. This means that adjacent nucleotides in the genome are not _independent_. We can look at how strong this dependence is by asking either\n",
    "* How different is the conditional probability `Pr(nt2=N|nt1=M)` from the marginal (unconditional) probability `Pr(nt2=N)`?\n",
    "* How different is the _actual_ dinucleotide probability `Pr(nt1=M AND nt2=N)` from the probability that we would expect under independence, i.e., `Pr(nt1=M) * Pr(nt2=N)`?\n",
    "\n",
    "It turns out that these are equivalent mathematically:\n",
    "```\n",
    "   Pr(nt1=M AND nt2=N) / (Pr(nt1=M)  * Pr(nt2=N))\n",
    "= (Pr(nt1=M AND nt2=N) /  Pr(nt1=M)) / Pr(nt2=N)\n",
    "=  Pr(nt2=N | nt1=M)                 / Pr(nt2=N)\n",
    "```"
   ]
  },
  {
   "cell_type": "code",
   "execution_count": null,
   "metadata": {},
   "outputs": [],
   "source": []
  },
  {
   "cell_type": "markdown",
   "metadata": {},
   "source": [
    "You should see that there are strong dependencies between adjacent nucleotides.\n",
    "\n",
    "Because the identity of a nucleotide at position *i* affects what nucleotide shows up at *i+1*, \n",
    "and the nucleotide at *i+1* in turn affects what happens at position *i+2*, you can see longer-range correlations in nucleotide sequences even with purely nearest-neighbor interactions.\n",
    "\n",
    "In reality, genomes have many different nearest-neighbor and longer-range interactions, but we won't worry about those today.\n",
    "\n",
    "```\n",
    "  Pr(nt3=P AND nt2=N AND nt1=M)\n",
    "= Pr(nt3=P |   nt2=N AND nt1=M) * Pr(nt2=N AND nt1=M)\n",
    "= Pr(nt3=P |   nt2=N)           * Pr(nt2=N AND nt1=M)\n",
    "```\n",
    "This last step relies on our assumption for the moment that there aren't any longer-range direct correlations, and so we can ignore the identity of `nt1` once we know that `nt2=N`.\n",
    "```\n",
    "= Pr(nt3=P | nt2=N) * Pr(nt2=N | nt1=M) * Pr(nt1=M)\n",
    "```\n",
    "\n",
    "Now we can use this to calculate the over- or under-representation of trinucleotide sequences:\n",
    "```\n",
    "   Pr(nt3=P AND nt2=N AND nt1=M)                     / (Pr(nt3=P) * Pr(nt2=N) * Pr(nt1=M)\n",
    "=  Pr(nt3=P | nt2=N) * Pr(nt2=N | nt1=M) * Pr(nt1=M) / (Pr(nt3=P) * Pr(nt2=N) * Pr(nt1=M)\n",
    "=  Pr(nt3=P | nt2=N) * Pr(nt2=N | nt1=M)             / (Pr(nt3=P) * Pr(nt2=N)\n",
    "= (Pr(nt3=P | nt2=N) / Pr(nt3=P)) * (Pr(nt2=N | nt1=M) / Pr(nt2=N))\n",
    "```\n",
    "That is, when `MNP` consists of over-represented dinucleotides `MN` and `NP`, the trinucleotide will be over-represented, and likewise for under-represented pairs of dinucleotides. Of course, the pairs must share the common nucleotide `N` in the middle.\n",
    "\n",
    "Based only on dinucleotide nearest-neighbor dependencies above, what trinucleotide sequence do you expect to be highly over-represented? Highly under-represented?"
   ]
  },
  {
   "cell_type": "code",
   "execution_count": null,
   "metadata": {},
   "outputs": [],
   "source": []
  }
 ],
 "metadata": {
  "kernelspec": {
   "display_name": "Python 3",
   "language": "python",
   "name": "python3"
  },
  "language_info": {
   "codemirror_mode": {
    "name": "ipython",
    "version": 3
   },
   "file_extension": ".py",
   "mimetype": "text/x-python",
   "name": "python",
   "nbconvert_exporter": "python",
   "pygments_lexer": "ipython3",
   "version": "3.7.4"
  }
 },
 "nbformat": 4,
 "nbformat_minor": 2
}
