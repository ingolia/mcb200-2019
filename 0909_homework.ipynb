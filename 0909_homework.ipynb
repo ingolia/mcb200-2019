{
 "cells": [
  {
   "cell_type": "markdown",
   "metadata": {},
   "source": [
    "### Amino acid frequencies\n",
    "\n",
    "I uploaded a Fasta-format file containing all yeast protein sequences to\n",
    "```\n",
    "../S288C_R64-2-1/orf_trans_all_R64-2-1_20150113.fasta\n",
    "```\n",
    "\n",
    "Following our approach from class, compute the amino acid probabilities for each amino acid in the yeast proteome."
   ]
  },
  {
   "cell_type": "code",
   "execution_count": null,
   "metadata": {},
   "outputs": [],
   "source": [
    "!pip3 install biopython\n",
    "\n",
    "from Bio import SeqIO\n",
    "\n",
    "...\n",
    "\n",
    "print(aa_probs)"
   ]
  },
  {
   "cell_type": "markdown",
   "metadata": {},
   "source": [
    "### Protein sequence likelihoods\n",
    "\n",
    "Using `aa_probs` from above, write a function `like_bkgnd()` that will compute and return the likelihood of generating a protein sequence, under the model that amino acids are chosen independently at each position according to their overall frequency in the yeast proteome."
   ]
  },
  {
   "cell_type": "code",
   "execution_count": null,
   "metadata": {},
   "outputs": [],
   "source": [
    "...\n",
    "\n",
    "print(\"P(EKLNS)=\", like_bkgnd('EKLNS'))\n",
    "print(\"P(CHMWY)=\", like_bkgnd('CHMWY'))"
   ]
  },
  {
   "cell_type": "markdown",
   "metadata": {},
   "source": [
    "### Signal sequences\n",
    "\n",
    "Many secreted proteins contain a signal peptide near their N-terminus that targets the protein for co-translational secretion. The most distinctive feature of the signal peptide is a hydrophobic region (\"h-region\") that is 8 - 12 residues long. For our purposes, assume that the h-region is exactly 11 residues.\n",
    "\n",
    "The `aa_h_probs` below give the probabilities of different amino acids in this \"h-region\" (taken from Nielsen H, Krogh A. (1998) Prediction of signal peptides and signal anchors by a hidden Markov model. _Proc Int Conf Intell Syst Mol Biol._ 6:122-130) "
   ]
  },
  {
   "cell_type": "code",
   "execution_count": null,
   "metadata": {},
   "outputs": [],
   "source": [
    "aa_h_region = { 'A': 0.116, 'C': 0.040, 'D': 0.001, 'E': 0.001, 'F': 0.080,\n",
    "                'G': 0.029, 'H': 0.003, 'I': 0.071, 'K': 0.000, 'L': 0.395,\n",
    "                'M': 0.017, 'N': 0.003, 'P': 0.011, 'Q': 0.006, 'R': 0.001,\n",
    "                'S': 0.048, 'T': 0.037, 'V': 0.117, 'W': 0.016, 'Y': 0.008}"
   ]
  },
  {
   "cell_type": "markdown",
   "metadata": {},
   "source": [
    "Use `aa_h_region` to write a function, `like_h_region`, that computes and returns the likelihood of generating a protein sequence, under the model that the amino acids are chosen independently from the hydrophobic region model."
   ]
  },
  {
   "cell_type": "code",
   "execution_count": null,
   "metadata": {},
   "outputs": [],
   "source": [
    "...\n",
    "\n",
    "print(like_h_region('LFVALCIVLLW'))\n",
    "print(like_h_region('EENHDYNDRQR'))\n",
    "\n",
    "print(like_bkgnd('LFVALCIVLLW'))\n",
    "print(like_bkgnd('EENHDYNDRQR'))"
   ]
  },
  {
   "cell_type": "markdown",
   "metadata": {},
   "source": [
    "The hydrophobic patch is near, but not necessarily at, the N-terminus of the protein. For our purposes, assume that the h-region starts within the first 10 residues of a protein.\n",
    "\n",
    "Search the yeast proteome for proteins with strong 11-residue hydrophobic regions starting within the first 10 positions of the protein sequence. Test each of these 10 positions in each protein. When the likelihood of the sequence under the \"hydrophobic region\" model is at least 10,000x the likelihood under the \"random protein\" model, print out:\n",
    "* the systematic name of the protein (which is the sequence name in the Fasta file of protein sequences I gave you)\n",
    "* the position in the sequence\n",
    "* the sequence of the candidate hydrophobic region, and\n",
    "* the likelihood of the candidate sequence under both models."
   ]
  },
  {
   "cell_type": "code",
   "execution_count": null,
   "metadata": {},
   "outputs": [],
   "source": [
    "..."
   ]
  },
  {
   "cell_type": "markdown",
   "metadata": {},
   "source": [
    "You should see a manageable number of candidates above. Pick one protein and look it up on the [_Saccharomyces_ Genome Database](https://yeastgenome.org) using its systematic name."
   ]
  }
 ],
 "metadata": {
  "kernelspec": {
   "display_name": "Python 3",
   "language": "python",
   "name": "python3"
  },
  "language_info": {
   "codemirror_mode": {
    "name": "ipython",
    "version": 3
   },
   "file_extension": ".py",
   "mimetype": "text/x-python",
   "name": "python",
   "nbconvert_exporter": "python",
   "pygments_lexer": "ipython3",
   "version": "3.7.4"
  }
 },
 "nbformat": 4,
 "nbformat_minor": 2
}
