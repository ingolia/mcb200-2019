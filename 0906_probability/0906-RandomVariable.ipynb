{
 "cells": [
  {
   "cell_type": "markdown",
   "metadata": {},
   "source": [
    "# Random Variables\n",
    "\n",
    "With random variables, we can talk about the _event_ that the random variable takes a particular value, and the _probability_ of that event. One fairly simple example of a random variable is the number of `C` nucleotides in a random nucleotide sequence. We will approach this in two ways.\n",
    "\n",
    "First, we'll generate all 8-nucleotide sequences and count what fraction of these sequences have zero `C` sequences, one `C` sequence, and so forth.\n",
    "\n",
    "Second, we'll generate random 8-nucleotide sequences by picking eight independent nucleotides and compare the distribution of `C`s in these random sequences.\n",
    "\n",
    "In the course of doing this, we'll also learn how to plot variables.\n",
    "\n",
    "First, we import modules: `numpy` is needed for choosing nucleotides randomly, and `matplotlib.pyplot` will allow us to make some graphs."
   ]
  },
  {
   "cell_type": "code",
   "execution_count": null,
   "metadata": {},
   "outputs": [],
   "source": [
    "import numpy as np\n",
    "import matplotlib.pyplot as plt"
   ]
  },
  {
   "cell_type": "markdown",
   "metadata": {},
   "source": [
    "We'll build up our exhaustive list of 8-nucleotide sequences in parts. The cell below uses a pair of nested `for` loops to build a list of all dinucleotides and then prints it."
   ]
  },
  {
   "cell_type": "code",
   "execution_count": null,
   "metadata": {},
   "outputs": [],
   "source": [
    "di_nts = []\n",
    "for nt1 in \"ACGT\":\n",
    "    for nt2 in \"ACGT\":\n",
    "        di_nts.append(nt1 + nt2)\n",
    "print(di_nts)"
   ]
  },
  {
   "cell_type": "markdown",
   "metadata": {},
   "source": [
    "There's another way to write this same idea in Python, using _list comprehensions_. When we're building a list out of one or more `for` loops, we can write that directly, as shown below:"
   ]
  },
  {
   "cell_type": "code",
   "execution_count": null,
   "metadata": {},
   "outputs": [],
   "source": [
    "print([ nt for nt in \"ACGT\" ])\n",
    "print([ nt1 + nt2 for nt1 in \"ACGT\" for nt2 in \"ACGT\"])"
   ]
  },
  {
   "cell_type": "markdown",
   "metadata": {},
   "source": [
    "We can use nested `for` loops over these dinucleotides (or a list comprehension) to build the full set of 256 distinct 4-nucleotide sequences."
   ]
  },
  {
   "cell_type": "code",
   "execution_count": null,
   "metadata": {},
   "outputs": [],
   "source": [
    "tetra_nts = []\n",
    "for di_nt1 in di_nts:\n",
    "    for di_nt2 in di_nts:\n",
    "        tetra_nts.append(di_nt1 + di_nt2)\n",
    "print(tetra_nts)"
   ]
  },
  {
   "cell_type": "markdown",
   "metadata": {},
   "source": [
    "Finally, we can use this same trick once more to build the full set of 256 x 256 = 65536 different 8-nucleotide sequences. We won't print this entire list -- we'll just check that the number of entries is correct."
   ]
  },
  {
   "cell_type": "code",
   "execution_count": null,
   "metadata": {},
   "outputs": [],
   "source": [
    "octo_nts = []\n",
    "for tetra_nt1 in tetra_nts:\n",
    "    for tetra_nt2 in tetra_nts:\n",
    "        octo_nts.append(tetra_nt1 + tetra_nt2)\n",
    "print(len(octo_nts))"
   ]
  },
  {
   "cell_type": "markdown",
   "metadata": {},
   "source": [
    "We can use a simple `for` loop to count up the number of `C` nucleotides in a sequence:"
   ]
  },
  {
   "cell_type": "code",
   "execution_count": null,
   "metadata": {},
   "outputs": [],
   "source": [
    "n_c = 0\n",
    "for nt in \"ACGTACGT\":\n",
    "    if nt == 'C':\n",
    "        n_c += 1\n",
    "print(n_c)"
   ]
  },
  {
   "cell_type": "markdown",
   "metadata": {},
   "source": [
    "Now we'll loop over our 65,536-entry long list of all 8-base sequences and count up how often we find 0 `C`s, with 1 `C`, and so forth.\n",
    "\n",
    "We could use a dictionary like we did above, with keys as the number of `C` nucleotides and values as the count of sequences. It could be hard to plot this, however.\n",
    "\n",
    "Instead, we will use a NumPy array, which is similar to a list. We'll need an array with 9 entries, for zero, one, ..., eight `C` nucleotides. In order for `x[8]` to be defined, we need the length of `x` to be 9, not just 8, since we start counting from 0."
   ]
  },
  {
   "cell_type": "code",
   "execution_count": null,
   "metadata": {},
   "outputs": [],
   "source": [
    "c_count = np.zeros(9)\n",
    "for sequence in octo_nts:\n",
    "    n_c = 0\n",
    "    for nt in sequence:\n",
    "        if nt == 'C':\n",
    "            n_c = n_c + 1\n",
    "    c_count[n_c] += 1\n",
    "print(c_count)"
   ]
  },
  {
   "cell_type": "markdown",
   "metadata": {},
   "source": [
    "Now, it's easy to plot these counts using the `plot()` command."
   ]
  },
  {
   "cell_type": "code",
   "execution_count": null,
   "metadata": {},
   "outputs": [],
   "source": [
    "plt.plot(c_count)"
   ]
  },
  {
   "cell_type": "markdown",
   "metadata": {},
   "source": [
    "We want to convert these into probabilities instead of counts. To do this, we'll just divide by the total counts in the array, which we can get with the `sum()` function. Since we looped over the 65,536 sequences in `octo_nts`, we expect that sum to be 65536."
   ]
  },
  {
   "cell_type": "code",
   "execution_count": null,
   "metadata": {},
   "outputs": [],
   "source": [
    "print(sum(c_count))\n",
    "c_prob = c_count / sum(c_count)\n",
    "print(c_prob)\n",
    "print(sum(c_prob))"
   ]
  },
  {
   "cell_type": "markdown",
   "metadata": {},
   "source": [
    "Now we can plot these probabilities. Here, we'll use a second argument to the `plt.plot()` function in order to plot with dots (`o`), solid lines connecting them (`-`), and in blue (`b`)."
   ]
  },
  {
   "cell_type": "code",
   "execution_count": null,
   "metadata": {},
   "outputs": [],
   "source": [
    "plt.plot(c_prob, 'o-b')"
   ]
  },
  {
   "cell_type": "markdown",
   "metadata": {},
   "source": [
    "Next, we'll generate some random sequences. The `random.choice()` function will make random choices from an array of alternatives. In the cell below, we give it an array containing the four nucleotide letters and ask for 8 random choices."
   ]
  },
  {
   "cell_type": "code",
   "execution_count": null,
   "metadata": {},
   "outputs": [],
   "source": [
    "random_nts = np.random.choice(np.array(['A', 'C', 'G', 'T']), 8)\n",
    "print(random_nts)"
   ]
  },
  {
   "cell_type": "markdown",
   "metadata": {},
   "source": [
    "The output of this choice is a list, and we want to combine all the entries of that list together into a single string. We can do this using the `join()` function. We want to join all of the characters in the array onto an empty string, `''`."
   ]
  },
  {
   "cell_type": "code",
   "execution_count": null,
   "metadata": {},
   "outputs": [],
   "source": [
    "print(''.join(random_nts))"
   ]
  },
  {
   "cell_type": "markdown",
   "metadata": {},
   "source": [
    "Notice that we _saved_ our random nucleotides above and then joined them together. Every time we run `np.random.choice(...)` we get a distinct array of 8 nucleotides, chosen randomly:"
   ]
  },
  {
   "cell_type": "code",
   "execution_count": null,
   "metadata": {},
   "outputs": [],
   "source": [
    "print(''.join(np.random.choice(np.array(['A', 'C', 'G', 'T']), 8)))"
   ]
  },
  {
   "cell_type": "markdown",
   "metadata": {},
   "source": [
    "So, we can make a list of 100 random sequences in a `for` loop that runs the same random choice 100 times and appends the random sequences onto a list:"
   ]
  },
  {
   "cell_type": "code",
   "execution_count": null,
   "metadata": {},
   "outputs": [],
   "source": [
    "seqs_100 = []\n",
    "for seqno in range(0,100):\n",
    "    seqs_100.append(''.join(np.random.choice(np.array(['A', 'C', 'G', 'T']), 8)))\n",
    "print(seqs_100)"
   ]
  },
  {
   "cell_type": "markdown",
   "metadata": {},
   "source": [
    "**Exercise** Complete the loop below in order to count the number of sequences with different numbers of `C`s and conver the counts into probabilities:"
   ]
  },
  {
   "cell_type": "code",
   "execution_count": null,
   "metadata": {},
   "outputs": [],
   "source": [
    "c_count_100 = np.zeros(9)\n",
    "for seq in seqs_100:\n",
    "    ...\n",
    "    c_count_100[n_c] += 1\n",
    "print(c_count_100)\n",
    "c_prob_100 = c_count_100 / sum(c_count_100)\n",
    "print(c_prob_100)"
   ]
  },
  {
   "cell_type": "markdown",
   "metadata": {},
   "source": [
    "Now, we can plot our random sequence probabilities and our exhaustive sequence probabilities on the same graph. We'll make the random sequence probabilities distinct using `'.--r'`, which uses small points, a dashed line, and red (instead of big points, solid line, and blue)."
   ]
  },
  {
   "cell_type": "code",
   "execution_count": null,
   "metadata": {},
   "outputs": [],
   "source": [
    "plt.plot(c_prob, 'o-b')\n",
    "plt.plot(c_prob_100, '.--r')"
   ]
  },
  {
   "cell_type": "markdown",
   "metadata": {},
   "source": [
    "Most of the time, the red graph is pretty similar in shape to the blue one, but not identical. If we analyze more sequences, we'll get a distribution closer to the \"ideal\" blue curve.\n",
    "\n",
    "**Exercise** Complete the loops below to \n",
    "1. construct a list of 1000 random sequences,\n",
    "2. tabulate `C`s per sequence,\n",
    "3. convert these counts into probabilities, and\n",
    "4. plot the probabilities"
   ]
  },
  {
   "cell_type": "code",
   "execution_count": null,
   "metadata": {},
   "outputs": [],
   "source": [
    "seqs_1000 = ...\n",
    "for seqno in range(0,1000):\n",
    "    ...\n",
    "c_count_1000 = ...\n",
    "for seq in seqs_1000:\n",
    "    ...\n",
    "c_prob_1000 = ...\n",
    "\n",
    "plt.plot(c_prob, 'o-b')\n",
    "plt.plot(...)"
   ]
  },
  {
   "cell_type": "markdown",
   "metadata": {},
   "source": [
    "**Exercise** Now, write a list comprehension that generates 10,000 random sequences."
   ]
  },
  {
   "cell_type": "code",
   "execution_count": null,
   "metadata": {},
   "outputs": [],
   "source": [
    "seqs_10000 = [...]"
   ]
  },
  {
   "cell_type": "markdown",
   "metadata": {},
   "source": [
    "**Exercise** Repeat the steps above to make a plot of `C`s per sequence in your 10,000 sample set."
   ]
  },
  {
   "cell_type": "code",
   "execution_count": null,
   "metadata": {},
   "outputs": [],
   "source": [
    "c_count_10000 = ...\n",
    "...\n",
    "c_prob_10000 = ...\n",
    "\n",
    "plt.plot(...)\n",
    "plt.plot(...)"
   ]
  },
  {
   "cell_type": "markdown",
   "metadata": {},
   "source": [
    "Of course, there's a third alternative to counting all 65,536 sequences or sampling many random sequences. We know that the number of `C` nucleotides per sequence should follow the _binomial distribution_. The `scipy.stats.binom` module implements the binomial distribution in a \"Probability Mass Function\" (PMF), which is just a technical way of saying that it tells you the probability of different events under the binomial distribution. To compute this probability, we need to know the number of independent trials (N) and the probability of success in each trial (p). Using those, we can compute the probability of k successful trials, using\n",
    "```\n",
    "binom.pmf(k, N, p)\n",
    "```\n",
    "For instance, the probability of a `C` is 1/4 = 0.25, and we look at 8 nucleotides, so the probability of exactly one `C` when we sample 8 nucleotides independently is computed as follows:"
   ]
  },
  {
   "cell_type": "code",
   "execution_count": null,
   "metadata": {},
   "outputs": [],
   "source": [
    "from scipy.stats import binom\n",
    "binom.pmf(1, 8, 0.25)"
   ]
  },
  {
   "cell_type": "markdown",
   "metadata": {},
   "source": [
    "We can also create a binomial distribution function for a fixed N and p, and then find the probability of an array of k values in that distribution. Below, we create an array of x values from 0 through 8 inclusive, and then compute the probability (PMF) for each k value. We plot those relative to our 65,536-sequence reference and they should be exactly identical."
   ]
  },
  {
   "cell_type": "code",
   "execution_count": null,
   "metadata": {},
   "outputs": [],
   "source": [
    "binom_dist = binom(8, 0.25)\n",
    "x = np.arange(0, 9)\n",
    "print(x)\n",
    "c_prob_binom = binom_dist.pmf(x)\n",
    "print(c_prob_binom)\n",
    "plt.plot(c_prob, 'o-b')\n",
    "plt.plot(c_prob_binom, '.--r')"
   ]
  },
  {
   "cell_type": "markdown",
   "metadata": {},
   "source": [
    "Using the binomial distribution and its PMF, we can try out uneven nucleotide distributions. For instance, below we make 3 different plots with p = 0.19 (like 19% C in the yeast genome), p = 0.25 (equal nucleotide frequencies), and p = 0.31 (like 31% T in the yeast genome, for instance). We then plot all three binomial PMFs in different colors -- cyan (`c`) for 19%, black for 25%, and magenta (`m`) for 31%.\n",
    "\n",
    "We also create a _legend_ for our figure -- we include a \"label\" argument in each of our `plot(...)` functions, capture the \"plot handle\" produced by each of the plots, and use the `legend(...)` function to create a legend for these handles."
   ]
  },
  {
   "cell_type": "code",
   "execution_count": null,
   "metadata": {},
   "outputs": [],
   "source": [
    "plot19, = plt.plot(binom.pmf(x, 8, 0.19), 'o-c', label='19%') ## Like 'C' in the yeast genome\n",
    "plot25, = plt.plot(binom.pmf(x, 8, 0.25), 'o-k', label=\"25%\") ## Equal probability\n",
    "plot31, = plt.plot(binom.pmf(x, 8, 0.31), 'o-m', label=\"31%\") ## Like 'T' in the yeast genome\n",
    "plt.legend(handles=[plot19, plot25,plot31])"
   ]
  }
 ],
 "metadata": {
  "kernelspec": {
   "display_name": "Python 3",
   "language": "python",
   "name": "python3"
  },
  "language_info": {
   "codemirror_mode": {
    "name": "ipython",
    "version": 3
   },
   "file_extension": ".py",
   "mimetype": "text/x-python",
   "name": "python",
   "nbconvert_exporter": "python",
   "pygments_lexer": "ipython3",
   "version": "3.7.4"
  }
 },
 "nbformat": 4,
 "nbformat_minor": 2
}
