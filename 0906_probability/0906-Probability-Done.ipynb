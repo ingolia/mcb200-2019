{
 "cells": [
  {
   "cell_type": "markdown",
   "metadata": {},
   "source": [
    "# Probability As Counting"
   ]
  },
  {
   "cell_type": "markdown",
   "metadata": {},
   "source": [
    "_MFA1_ is a fairly short budding yeast gene that encodes a-factor, a mating pheromone. The cell below creates a variable named `mfa1` that holds a string containing the nucleotide sequence of the _MFA1_ gene.\n",
    "\n",
    "Because even this short gene sequence is a long string, it is split across two lines, using a backslash (`\\`) to continue the string on the next line."
   ]
  },
  {
   "cell_type": "code",
   "execution_count": null,
   "metadata": {},
   "outputs": [],
   "source": [
    "mfa1=\"ATGCAACCATCTACCGCTACCGCCGCTCCAAAAGAAAAGACCAGCAGTGAAAAGAAGGAC\\\n",
    "AACTATATTATCAAAGGTGTCTTCTGGGACCCAGCATGTGTTATTGCTTAG\"\n",
    "mfa1"
   ]
  },
  {
   "cell_type": "markdown",
   "metadata": {},
   "source": [
    "We can use the `len()` function to find the length of this string, which should be a multiple of 3."
   ]
  },
  {
   "cell_type": "code",
   "execution_count": null,
   "metadata": {},
   "outputs": [],
   "source": [
    "len(mfa1)"
   ]
  },
  {
   "cell_type": "markdown",
   "metadata": {},
   "source": [
    "We can pick out individual nucleotides out of this string using square brackets to _index_ into the string. Python starts counting positions from 0, and so the first nucleotide is retrieved using `[0]`."
   ]
  },
  {
   "cell_type": "code",
   "execution_count": null,
   "metadata": {},
   "outputs": [],
   "source": [
    "mfa1[0]"
   ]
  },
  {
   "cell_type": "markdown",
   "metadata": {},
   "source": [
    "and the second nucleotide is retrieved using `[1]`"
   ]
  },
  {
   "cell_type": "code",
   "execution_count": null,
   "metadata": {},
   "outputs": [],
   "source": [
    "mfa1[1]"
   ]
  },
  {
   "cell_type": "markdown",
   "metadata": {},
   "source": [
    "**Exercise** retrieve the _last_ nucleotide of _MFA1_ from the string -- but don't just rely on knowing the length of _MFA1_, compute its length using `len()`."
   ]
  },
  {
   "cell_type": "code",
   "execution_count": null,
   "metadata": {},
   "outputs": [],
   "source": [
    "mfa1[len(mfa1) - 1]"
   ]
  },
  {
   "cell_type": "markdown",
   "metadata": {},
   "source": [
    "We can also _slice_ out a range of nucleotides using square brackets. The cell below will _slice_ out the second codon of _MFA1_."
   ]
  },
  {
   "cell_type": "code",
   "execution_count": null,
   "metadata": {},
   "outputs": [],
   "source": [
    "mfa1[3:6]"
   ]
  },
  {
   "cell_type": "markdown",
   "metadata": {},
   "source": [
    "In the cell above, we use a colon inside the square brackets to slice out a range of positions. The range is written `start:end`, but notice that the slice above runs from 3 to 6 in order to extract the nucleotides at positions 3, 4, 5 and _not_ 6. That is, the `start` is _included_ in the range but the `end` is _excluded_."
   ]
  },
  {
   "cell_type": "markdown",
   "metadata": {},
   "source": [
    "**Exercise** Slice out the last codon of _MFA1_, using `len()`. (_Hint_ the result should be a stop codon)"
   ]
  },
  {
   "cell_type": "code",
   "execution_count": null,
   "metadata": {},
   "outputs": [],
   "source": [
    "mfa1[len(mfa1)-3:len(mfa1)]"
   ]
  },
  {
   "cell_type": "markdown",
   "metadata": {},
   "source": [
    "Now, we want to count how many times each individual nucleotide appears in the _MFA1_ gene. We'll use a dictionary to keep a tally of how many times we encounter each nucleotide as we run down the length of the `mfa1` gene. In this dictionary, the _keys_ will be nucleotides and the _values_ will be counts.\n",
    "\n",
    "At each position, we'll look up the current nucleotide count and update it by adding one."
   ]
  },
  {
   "cell_type": "code",
   "execution_count": null,
   "metadata": {},
   "outputs": [],
   "source": [
    "nt_counts = {'A': 3, 'C': 7, 'T': 5}\n",
    "nt_counts['A'] = nt_counts['A'] + 1\n",
    "nt_counts"
   ]
  },
  {
   "cell_type": "markdown",
   "metadata": {},
   "source": [
    "We'll start with an empty dictionary, though, and so we won't have an entry for a nucleotide the first time we encounter it. The cell below produces an error because there's no entry for `G`."
   ]
  },
  {
   "cell_type": "code",
   "execution_count": null,
   "metadata": {
    "scrolled": true
   },
   "outputs": [],
   "source": [
    "nt_counts['G'] = nt_counts['G'] + 1"
   ]
  },
  {
   "cell_type": "markdown",
   "metadata": {},
   "source": [
    "Instead, we can use the `get()` function to look up a key, or return 0 if the key doesn't exist. In the cell below, we show how `get()` allows us to count the first occurrence of `G`, when it isn't in the dictionary yet, and also to count the eigth occurrence of `C`, by finding the old entry for `C` in the dictionary and adding one."
   ]
  },
  {
   "cell_type": "code",
   "execution_count": null,
   "metadata": {},
   "outputs": [],
   "source": [
    "print(nt_counts.get('G', 0))\n",
    "print(nt_counts.get('C', 0))\n",
    "nt_counts['G'] = nt_counts.get('G', 0) + 1\n",
    "nt_counts['C'] = nt_counts.get('C', 0) + 1\n",
    "nt_counts"
   ]
  },
  {
   "cell_type": "markdown",
   "metadata": {},
   "source": [
    "In order to get ready for some more complicated tasks later on, we'll write a `for` loop that iterates through each position of the `mfa1` gene and uses square brackets to look up the nucleotide at that position. We'll use the `range()` function to make this list. Here's an example of using `range()` in a `for` loop:"
   ]
  },
  {
   "cell_type": "code",
   "execution_count": null,
   "metadata": {},
   "outputs": [],
   "source": [
    "for position in range(0,4):\n",
    "    nt = mfa1[position]\n",
    "    print(position, nt)"
   ]
  },
  {
   "cell_type": "markdown",
   "metadata": {},
   "source": [
    "Now we can put all of this together in order to \n",
    "* create a new, empty dictionary for nucleotide counts\n",
    "* loop over each position in `mfa1`,\n",
    "* index into `mfa1` to find the nucleotide at that position, and\n",
    "* increment the count of nucleotides"
   ]
  },
  {
   "cell_type": "code",
   "execution_count": null,
   "metadata": {},
   "outputs": [],
   "source": [
    "nt_counts = {}\n",
    "for position in range(0, len(mfa1)):\n",
    "    nt = mfa1[position]\n",
    "    nt_counts[nt] = nt_counts.get(nt, 0) + 1\n",
    "nt_counts"
   ]
  },
  {
   "cell_type": "markdown",
   "metadata": {},
   "source": [
    "We can use a similar approach to count the _codons_ in `mfa1`. To do this, we need to make two changes to our nucleotide-counting approach:\n",
    "1. We need to slice out a whole codon rather than indexing a single position, and\n",
    "2. We need to loop over codon starting positions (0, 3, 6, 9, ...) and not nucleotide positions. Our `range()` function can go by steps of 3 like this: `range(start, end, 3)`.\n",
    "\n",
    "**Exercise** Fill in the `...` below in order to count how many times each codon occurs in _MFA1_."
   ]
  },
  {
   "cell_type": "code",
   "execution_count": null,
   "metadata": {},
   "outputs": [],
   "source": [
    "codon_counts = {}\n",
    "for position in range(0, len(mfa1), 3):\n",
    "    codon = mfa1[position:position + 3]\n",
    "    codon_counts[codon] = codon_counts.get(codon, 0) + 1\n",
    "codon_counts"
   ]
  },
  {
   "cell_type": "markdown",
   "metadata": {},
   "source": [
    "Next, we'll move on to counting nucleotides in the whole yeast genome. We don't want to include the whole genome sequence in this notebook, and so we'll use existing python tools to read it from a file. First, we need to install the `biopython` package"
   ]
  },
  {
   "cell_type": "code",
   "execution_count": null,
   "metadata": {},
   "outputs": [],
   "source": [
    "!pip install biopython"
   ]
  },
  {
   "cell_type": "markdown",
   "metadata": {},
   "source": [
    "Then, we need to import the `SeqIO` module, which has functions for reading Fasta-format files."
   ]
  },
  {
   "cell_type": "code",
   "execution_count": null,
   "metadata": {},
   "outputs": [],
   "source": [
    "from Bio import SeqIO"
   ]
  },
  {
   "cell_type": "markdown",
   "metadata": {},
   "source": [
    "The `SeqIO` module has a function called `parse()` that reads sequence entries from a Fasta-format file. The Fasta format is pretty simple: each sequence has a name on a line starting with a `>`, followed by the sequence itself. So, a Fasta file might look like:\n",
    "```\n",
    ">one\n",
    "AGCTACGT...\n",
    ">two\n",
    "TGACTGCA...\n",
    "...\n",
    "```\n",
    "The `parse()` function will turn each of these into a `SeqRecord`, a custom data type that holds the name and the sequence. You can get the sequence name from `record` using `record.id` and the sequence itself using `record.seq`. This sequence isn't an ordinary Python string -- it's another custom data type, called a `Seq`, but you can convert it into a string using `str(record.seq)`.\n",
    "\n",
    "The cell below will loop through entries from the yeast genome sequence and print the sequence name, the length of the sequence, and the first 20 nucleotides of the sequence. "
   ]
  },
  {
   "cell_type": "code",
   "execution_count": null,
   "metadata": {},
   "outputs": [],
   "source": [
    "for record in SeqIO.parse(\"S288C_R64-2-1/S288C_reference_sequence_R64-2-1_20150113.fsa\", \"fasta\"):\n",
    "    seq = str(record.seq)\n",
    "    print(record.id, \"\\t\", len(seq), \"\\t\", seq[0:20])"
   ]
  },
  {
   "cell_type": "markdown",
   "metadata": {},
   "source": [
    "**Exercise** Fill in the `...` below in order to count the occurrences of each nucleotide in the yeast genome."
   ]
  },
  {
   "cell_type": "code",
   "execution_count": null,
   "metadata": {},
   "outputs": [],
   "source": [
    "nt_counts = {}\n",
    "for record in SeqIO.parse(\"S288C_R64-2-1/S288C_reference_sequence_R64-2-1_20150113.fsa\", \"fasta\"):\n",
    "    seq = str(record.seq)\n",
    "    for position in range(0, len(record.seq)):\n",
    "        nt = seq[position]\n",
    "        nt_counts[nt] = nt_counts.get(nt, 0) + 1\n",
    "nt_counts"
   ]
  },
  {
   "cell_type": "markdown",
   "metadata": {},
   "source": [
    "Our `nt_counts` tells us the _frequency_ of each nucleotide, that is, the number of times it occurs in the genome. We now want to use this to calculate the _probability_ of each nucleotide. To do this, we can simply divide by the total number of nucleotides we counted. Although we do know the four possible nucleotide options and we could manually look up each of `A`, `C`, `G`, and `T` in the `nt_counts` dictionary, it's a better practice to do this in a more programmatic way.\n",
    "\n",
    "The `values()` method returns a kind of list of all the value entries in a dictionary:"
   ]
  },
  {
   "cell_type": "code",
   "execution_count": null,
   "metadata": {},
   "outputs": [],
   "source": [
    "nt_counts.values()"
   ]
  },
  {
   "cell_type": "markdown",
   "metadata": {},
   "source": [
    "We can loop over this list in a `for` loop:"
   ]
  },
  {
   "cell_type": "code",
   "execution_count": null,
   "metadata": {},
   "outputs": [],
   "source": [
    "for value in nt_counts.values():\n",
    "    print(value)"
   ]
  },
  {
   "cell_type": "markdown",
   "metadata": {},
   "source": [
    "**Exercise** Complete the for loop below in order to count the total number of nucleotides, which should match the size of the yeast genome."
   ]
  },
  {
   "cell_type": "code",
   "execution_count": null,
   "metadata": {},
   "outputs": [],
   "source": [
    "nt_total = 0\n",
    "for value in nt_counts.values():\n",
    "    nt_total = nt_total + value\n",
    "nt_total"
   ]
  },
  {
   "cell_type": "markdown",
   "metadata": {},
   "source": [
    "Since looping over a list and addig up all the values is a pretty common task, python includes a function, `sum()`, that carries out this task."
   ]
  },
  {
   "cell_type": "code",
   "execution_count": null,
   "metadata": {},
   "outputs": [],
   "source": [
    "sum(nt_counts.values())"
   ]
  },
  {
   "cell_type": "markdown",
   "metadata": {},
   "source": [
    "Now we have all the data we need to construct a new dictionary of nucleotide probabilities. Conceptually, we want to loop over each nucleotide and its count in the nt_counts dictionary and use thse to build a new `nt_probs` dictionary. Dictionaries have another method, `items()`, that produces a kind of list of keys (nucleotides) and values (counts)"
   ]
  },
  {
   "cell_type": "code",
   "execution_count": null,
   "metadata": {},
   "outputs": [],
   "source": [
    "nt_counts.items()"
   ]
  },
  {
   "cell_type": "markdown",
   "metadata": {},
   "source": [
    "We can loop over this list in a `for` loop as well. Notice how we capture the two parts of the \"item\" entry, the nucleotide and the count, using two different loop variables."
   ]
  },
  {
   "cell_type": "code",
   "execution_count": null,
   "metadata": {},
   "outputs": [],
   "source": [
    "for nt, count in nt_counts.items():\n",
    "    print(nt + \"\\t\" + str(count))"
   ]
  },
  {
   "cell_type": "markdown",
   "metadata": {},
   "source": [
    "**Exercise** Complete the cell below in order to build and print the dictionary of nucleotide probabilities."
   ]
  },
  {
   "cell_type": "code",
   "execution_count": null,
   "metadata": {},
   "outputs": [],
   "source": [
    "nt_probs = {}\n",
    "for nt, count in nt_counts.items():\n",
    "    nt_probs[nt] = count / nt_total\n",
    "nt_probs"
   ]
  },
  {
   "cell_type": "markdown",
   "metadata": {},
   "source": [
    "# Conditional Probabilities"
   ]
  },
  {
   "cell_type": "markdown",
   "metadata": {},
   "source": [
    "Next, we want to investigate the _dependence_ of adjacent nucleotides in the yeast genome. In probabilistic terms, we want to learn the _conditional probabilities_ of, for instance, seeing a `C` when the previous nucleotide was an `A`, and compare this to the unconditional probability of seeing a `C`.\n",
    "\n",
    "In this case, the easiest way to find these _conditional_ probabilities is to find the _joint_ probability of each dinucleotide in the genome and then use the formula for conditional probability.\n",
    "\n",
    "**Exercise** Complete the cell below in order to build and print the dictionary of dinucleotide counts in the yeast genome. Just as we saw in counting codons, we'll need to slice a dinucleotide out of the sequence string. However, we want to count _every_ dinucleotide, which is slightly different than the situation when counting codons. Also, we need to remember that the last _dinucleotide_ is the second-to-last nucleotide in the sequence. "
   ]
  },
  {
   "cell_type": "code",
   "execution_count": null,
   "metadata": {},
   "outputs": [],
   "source": [
    "dint_counts = {}\n",
    "for record in SeqIO.parse(\"S288C_R64-2-1/S288C_reference_sequence_R64-2-1_20150113.fsa\", \"fasta\"):\n",
    "    seq = str(record.seq)\n",
    "    for position in range(0, len(record.seq)-1):\n",
    "        nt = seq[position:position+2]\n",
    "        dint_counts[nt] = dint_counts.get(nt, 0) + 1\n",
    "dint_counts"
   ]
  },
  {
   "cell_type": "markdown",
   "metadata": {},
   "source": [
    "**Exercise** Complete the cell below in order to compute dinucleotide probabilities"
   ]
  },
  {
   "cell_type": "code",
   "execution_count": null,
   "metadata": {},
   "outputs": [],
   "source": [
    "dint_total = sum(dint_counts.values())\n",
    "dint_probs = {}\n",
    "for dint,count in dint_counts.items():\n",
    "    dint_probs[dint] = dint_counts[dint] / dint_total\n",
    "dint_probs"
   ]
  },
  {
   "cell_type": "markdown",
   "metadata": {},
   "source": [
    "Note that some of these dinucleotides are related by symmetry -- our Fasta file contains the sequence of one DNA strand, and that choice is arbitrary, so for instance every 5'-AG-3' on one strand corresponds to a 5'-CT-3' on the opposite strand. For this reason, the number of `AG` and `CT` dinucleotides is almost the same. In some cases, like 5'-AT-3', the dinucleotide is its own reverse complement and so it does't have a dinucleotide \"partner\". There are six symmetric dinucleotide pairs and four individual dinucleotides.\n",
    "\n",
    "Recall that the formula for conditional probability is\n",
    "```\n",
    "Pr(event | condition) = Pr(event AND condition) / Pr(condition)\n",
    "```\n",
    "To look at the conditional dependence of neighboring nucleotides, the _event_ is the second nucleotide and the _condition_ is the first nucleotide. Thus, the Pr(event AND condition) is the dinucleotide probability, and the Pr(condition) is the single nucleotide probability we computed above.\n",
    "\n",
    "In order to compute these conditional probabilities for neighboring nucleotides, we'll nest two `for` loops, one for each possible first nucleotide, and one for each possible second nucleotide. We can create a dinucleotide sequence from two individual nucleotide sequences by \"adding together\" strings."
   ]
  },
  {
   "cell_type": "code",
   "execution_count": null,
   "metadata": {},
   "outputs": [],
   "source": [
    "for nt1 in \"ACGT\":\n",
    "    for nt2 in \"ACGT\":\n",
    "        print(nt1 + nt2)"
   ]
  },
  {
   "cell_type": "markdown",
   "metadata": {},
   "source": [
    "**Exercise** Complete the cell below in order to compute a dictionary of conditional probabilities for adjacent nucleotides."
   ]
  },
  {
   "cell_type": "code",
   "execution_count": null,
   "metadata": {},
   "outputs": [],
   "source": [
    "dint_conds = {}\n",
    "for nt1 in \"ACGT\":\n",
    "    for nt2 in \"ACGT\":\n",
    "        dint = nt1+nt2\n",
    "        dint_conds[dint] = dint_probs[dint] / nt_probs[nt1]\n",
    "dint_conds"
   ]
  },
  {
   "cell_type": "markdown",
   "metadata": {},
   "source": [
    "You should notice that the _conditional_ probabilities of different values for `nt2` don't exactly match the _unconditional_ probabilities for that nucleotide. This means that adjacent nucleotides in the genome are not _independent_. We can look at how strong this dependence is by asking either\n",
    "* How different is the conditional probability `Pr(nt2=N|nt1=M)` from the marginal (unconditional) probability `Pr(nt2=N)`?\n",
    "* How different is the _actual_ dinucleotide probability `Pr(nt1=M AND nt2=N)` from the probability that we would expect under independence, i.e., `Pr(nt1=M) * Pr(nt2=N)`?\n",
    "\n",
    "It turns out that these are equivalent mathematically:\n",
    "```\n",
    "   Pr(nt1=M AND nt2=N) / (Pr(nt1=M)  * Pr(nt2=N))\n",
    "= (Pr(nt1=M AND nt2=N) /  Pr(nt1=M)) / Pr(nt2=N)\n",
    "=  Pr(nt2=N | nt1=M)                 / Pr(nt2=N)\n",
    "```"
   ]
  },
  {
   "cell_type": "code",
   "execution_count": null,
   "metadata": {},
   "outputs": [],
   "source": [
    "dint_dependence = {}\n",
    "for nt1 in \"ACGT\":\n",
    "    for nt2 in \"ACGT\":\n",
    "        dint = nt1+nt2\n",
    "        dint_dependence[dint] = dint_conds[dint] / nt_probs[nt2]\n",
    "dint_dependence"
   ]
  },
  {
   "cell_type": "markdown",
   "metadata": {},
   "source": [
    "You should see that there are strong dependencies between adjacent nucleotides.\n",
    "\n",
    "Because the identity of a nucleotide at position *i* affects what nucleotide shows up at *i+1*, \n",
    "and the nucleotide at *i+1* in turn affects what happens at position *i+2*, you can see longer-range correlations in nucleotide sequences even with purely nearest-neighbor interactions.\n",
    "\n",
    "In reality, genomes have many different nearest-neighbor and longer-range interactions, but we won't worry about those today.\n",
    "\n",
    "```\n",
    "  Pr(nt3=P AND nt2=N AND nt1=M)\n",
    "= Pr(nt3=P |   nt2=N AND nt1=M) * Pr(nt2=N AND nt1=M)\n",
    "= Pr(nt3=P |   nt2=N)           * Pr(nt2=N AND nt1=M)\n",
    "```\n",
    "This last step relies on our assumption for the moment that there aren't any longer-range direct correlations, and so we can ignore the identity of `nt1` once we know that `nt2=N`.\n",
    "```\n",
    "= Pr(nt3=P | nt2=N) * Pr(nt2=N | nt1=M) * Pr(nt1=M)\n",
    "```\n",
    "\n",
    "Now we can use this to calculate the over- or under-representation of trinucleotide sequences:\n",
    "```\n",
    "   Pr(nt3=P AND nt2=N AND nt1=M)                     / (Pr(nt3=P) * Pr(nt2=N) * Pr(nt1=M)\n",
    "=  Pr(nt3=P | nt2=N) * Pr(nt2=N | nt1=M) * Pr(nt1=M) / (Pr(nt3=P) * Pr(nt2=N) * Pr(nt1=M)\n",
    "=  Pr(nt3=P | nt2=N) * Pr(nt2=N | nt1=M)             / (Pr(nt3=P) * Pr(nt2=N)\n",
    "= (Pr(nt3=P | nt2=N) / Pr(nt3=P)) * (Pr(nt2=N | nt1=M) / Pr(nt2=N))\n",
    "```\n",
    "That is, when `MNP` consists of over-represented dinucleotides `MN` and `NP`, the trinucleotide will be over-represented, and likewise for under-represented pairs of dinucleotides. Of course, the pairs must share the common nucleotide `N` in the middle.\n",
    "\n",
    "**Exercise** Based only on dinucleotide nearest-neighbor dependencies above, what trinucleotide sequence do you expect to be highly over-represented? Highly under-represented?"
   ]
  },
  {
   "cell_type": "code",
   "execution_count": null,
   "metadata": {},
   "outputs": [],
   "source": [
    "over_represented = \"AAA\"\n",
    "under_represented = \"TAC\""
   ]
  },
  {
   "cell_type": "markdown",
   "metadata": {},
   "source": [
    "# Random Variables\n",
    "\n",
    "With random variables, we can talk about the _event_ that the random variable takes a particular value, and the _probability_ of that event. One fairly simple example of a random variable is the number of `C` nucleotides in a random nucleotide sequence. We will approach this in two ways.\n",
    "\n",
    "First, we'll generate all 8-nucleotide sequences and count what fraction of these sequences have zero `C` sequences, one `C` sequence, and so forth.\n",
    "\n",
    "Second, we'll generate random 8-nucleotide sequences by picking eight independent nucleotides and compare the distribution of `C`s in these random sequences.\n",
    "\n",
    "In the course of doing this, we'll also learn how to plot variables.\n",
    "\n",
    "First, we import modules: `numpy` is needed for choosing nucleotides randomly, and `matplotlib.pyplot` will allow us to make some graphs."
   ]
  },
  {
   "cell_type": "code",
   "execution_count": null,
   "metadata": {},
   "outputs": [],
   "source": [
    "import numpy as np\n",
    "import matplotlib.pyplot as plt"
   ]
  },
  {
   "cell_type": "markdown",
   "metadata": {},
   "source": [
    "We'll build up our exhaustive list of 8-nucleotide sequences in parts. The cell below uses a pair of nested `for` loops to build a list of all dinucleotides and then prints it."
   ]
  },
  {
   "cell_type": "code",
   "execution_count": null,
   "metadata": {},
   "outputs": [],
   "source": [
    "di_nts = []\n",
    "for nt1 in \"ACGT\":\n",
    "    for nt2 in \"ACGT\":\n",
    "        di_nts.append(nt1 + nt2)\n",
    "print(di_nts)"
   ]
  },
  {
   "cell_type": "markdown",
   "metadata": {},
   "source": [
    "There's another way to write this same idea in Python, using _list comprehensions_. When we're building a list out of one or more `for` loops, we can write that directly, as shown below:"
   ]
  },
  {
   "cell_type": "code",
   "execution_count": null,
   "metadata": {},
   "outputs": [],
   "source": [
    "print([ nt for nt in \"ACGT\" ])\n",
    "print([ nt1 + nt2 for nt1 in \"ACGT\" for nt2 in \"ACGT\"])"
   ]
  },
  {
   "cell_type": "markdown",
   "metadata": {},
   "source": [
    "We can use nested `for` loops over these dinucleotides (or a list comprehension) to build the full set of 256 distinct 4-nucleotide sequences."
   ]
  },
  {
   "cell_type": "code",
   "execution_count": null,
   "metadata": {},
   "outputs": [],
   "source": [
    "tetra_nts = []\n",
    "for di_nt1 in di_nts:\n",
    "    for di_nt2 in di_nts:\n",
    "        tetra_nts.append(di_nt1 + di_nt2)\n",
    "print(tetra_nts)"
   ]
  },
  {
   "cell_type": "markdown",
   "metadata": {},
   "source": [
    "Finally, we can use this same trick once more to build the full set of 256 x 256 = 65536 different 8-nucleotide sequences. We won't print this entire list -- we'll just check that the number of entries is correct."
   ]
  },
  {
   "cell_type": "code",
   "execution_count": null,
   "metadata": {},
   "outputs": [],
   "source": [
    "octo_nts = []\n",
    "for tetra_nt1 in tetra_nts:\n",
    "    for tetra_nt2 in tetra_nts:\n",
    "        octo_nts.append(tetra_nt1 + tetra_nt2)\n",
    "print(len(octo_nts))"
   ]
  },
  {
   "cell_type": "markdown",
   "metadata": {},
   "source": [
    "We can use a simple `for` loop to count up the number of `C` nucleotides in a sequence:"
   ]
  },
  {
   "cell_type": "code",
   "execution_count": null,
   "metadata": {},
   "outputs": [],
   "source": [
    "n_c = 0\n",
    "for nt in \"ACGTACGT\":\n",
    "    if nt == 'C':\n",
    "        n_c += 1\n",
    "print(n_c)"
   ]
  },
  {
   "cell_type": "markdown",
   "metadata": {},
   "source": [
    "Now we'll loop over our 65,536-entry long list of all 8-base sequences and count up how often we find 0 `C`s, with 1 `C`, and so forth.\n",
    "\n",
    "We could use a dictionary like we did above, with keys as the number of `C` nucleotides and values as the count of sequences. It could be hard to plot this, however.\n",
    "\n",
    "Instead, we will use a NumPy array, which is similar to a list. We'll need an array with 9 entries, for zero, one, ..., eight `C` nucleotides. In order for `x[8]` to be defined, we need the length of `x` to be 9, not just 8, since we start counting from 0."
   ]
  },
  {
   "cell_type": "code",
   "execution_count": null,
   "metadata": {},
   "outputs": [],
   "source": [
    "c_count = np.zeros(9)\n",
    "for sequence in octo_nts:\n",
    "    n_c = 0\n",
    "    for nt in sequence:\n",
    "        if nt == 'C':\n",
    "            n_c = n_c + 1\n",
    "    c_count[n_c] += 1\n",
    "print(c_count)"
   ]
  },
  {
   "cell_type": "markdown",
   "metadata": {},
   "source": [
    "Now, it's easy to plot these counts using the `plot()` command."
   ]
  },
  {
   "cell_type": "code",
   "execution_count": null,
   "metadata": {},
   "outputs": [],
   "source": [
    "plt.plot(c_count)"
   ]
  },
  {
   "cell_type": "markdown",
   "metadata": {},
   "source": [
    "We want to convert these into probabilities instead of counts. To do this, we'll just divide by the total counts in the array, which we can get with the `sum()` function. Since we looped over the 65,536 sequences in `octo_nts`, we expect that sum to be 65536."
   ]
  },
  {
   "cell_type": "code",
   "execution_count": null,
   "metadata": {},
   "outputs": [],
   "source": [
    "print(sum(c_count))\n",
    "c_prob = c_count / sum(c_count)\n",
    "print(c_prob)\n",
    "print(sum(c_prob))"
   ]
  },
  {
   "cell_type": "markdown",
   "metadata": {},
   "source": [
    "Now we can plot these probabilities. Here, we'll use a second argument to the `plt.plot()` function in order to plot with dots (`o`), solid lines connecting them (`-`), and in blue (`b`)."
   ]
  },
  {
   "cell_type": "code",
   "execution_count": null,
   "metadata": {},
   "outputs": [],
   "source": [
    "plt.plot(c_prob, 'o-b')"
   ]
  },
  {
   "cell_type": "markdown",
   "metadata": {},
   "source": [
    "Next, we'll generate some random sequences. The `random.choice()` function will make random choices from an array of alternatives. In the cell below, we give it an array containing the four nucleotide letters and ask for 8 random choices."
   ]
  },
  {
   "cell_type": "code",
   "execution_count": null,
   "metadata": {},
   "outputs": [],
   "source": [
    "random_nts = np.random.choice(np.array(['A', 'C', 'G', 'T']), 8)\n",
    "print(random_nts)"
   ]
  },
  {
   "cell_type": "markdown",
   "metadata": {},
   "source": [
    "The output of this choice is a list, and we want to combine all the entries of that list together into a single string. We can do this using the `join()` function. We want to join all of the characters in the array onto an empty string, `''`."
   ]
  },
  {
   "cell_type": "code",
   "execution_count": null,
   "metadata": {},
   "outputs": [],
   "source": [
    "print(''.join(random_nts))"
   ]
  },
  {
   "cell_type": "markdown",
   "metadata": {},
   "source": [
    "Notice that we _saved_ our random nucleotides above and then joined them together. Every time we run `np.random.choice(...)` we get a distinct array of 8 nucleotides, chosen randomly:"
   ]
  },
  {
   "cell_type": "code",
   "execution_count": null,
   "metadata": {},
   "outputs": [],
   "source": [
    "print(''.join(np.random.choice(np.array(['A', 'C', 'G', 'T']), 8)))"
   ]
  },
  {
   "cell_type": "markdown",
   "metadata": {},
   "source": [
    "So, we can make a list of 100 random sequences in a `for` loop that runs the same random choice 100 times and appends the random sequences onto a list:"
   ]
  },
  {
   "cell_type": "code",
   "execution_count": null,
   "metadata": {},
   "outputs": [],
   "source": [
    "seqs_100 = []\n",
    "for seqno in range(0,100):\n",
    "    seqs_100.append(''.join(np.random.choice(np.array(['A', 'C', 'G', 'T']), 8)))\n",
    "print(seqs_100)"
   ]
  },
  {
   "cell_type": "markdown",
   "metadata": {},
   "source": [
    "**Exercise** Complete the loop below in order to count the number of sequences with different numbers of `C`s and conver the counts into probabilities:"
   ]
  },
  {
   "cell_type": "code",
   "execution_count": null,
   "metadata": {},
   "outputs": [],
   "source": [
    "c_count_100 = np.zeros(9)\n",
    "for seq in seqs_100:\n",
    "    n_c = 0\n",
    "    for nt in seq:\n",
    "        if nt == 'C':\n",
    "            n_c += 1\n",
    "    c_count_100[n_c] += 1\n",
    "print(c_count_100)\n",
    "c_prob_100 = c_count_100 / sum(c_count_100)\n",
    "print(c_prob_100)"
   ]
  },
  {
   "cell_type": "markdown",
   "metadata": {},
   "source": [
    "Now, we can plot our random sequence probabilities and our exhaustive sequence probabilities on the same graph. We'll make the random sequence probabilities distinct using `'.--r'`, which uses small points, a dashed line, and red (instead of big points, solid line, and blue)."
   ]
  },
  {
   "cell_type": "code",
   "execution_count": null,
   "metadata": {},
   "outputs": [],
   "source": [
    "plt.plot(c_prob, 'o-b')\n",
    "plt.plot(c_prob_100, '.--r')"
   ]
  },
  {
   "cell_type": "markdown",
   "metadata": {},
   "source": [
    "Most of the time, the red graph is pretty similar in shape to the blue one, but not identical. If we analyze more sequences, we'll get a distribution closer to the \"ideal\" blue curve.\n",
    "\n",
    "**Exercise** Complete the loops below to \n",
    "1. construct a list of 1000 random sequences,\n",
    "2. tabulate `C`s per sequence,\n",
    "3. convert these counts into probabilities, and\n",
    "4. plot the probabilities"
   ]
  },
  {
   "cell_type": "code",
   "execution_count": null,
   "metadata": {},
   "outputs": [],
   "source": [
    "seqs_1000 = []\n",
    "for seqno in range(0,1000):\n",
    "    seqs_1000.append(''.join(np.random.choice(np.array(['A', 'C', 'G', 'T']), 8)))\n",
    "c_count_1000 = np.zeros(9)\n",
    "for seq in seqs_1000:\n",
    "    n_c = 0\n",
    "    for nt in seq:\n",
    "        if nt == 'C':\n",
    "            n_c += 1\n",
    "    c_count_1000[n_c] += 1\n",
    "c_prob_1000 = c_count_1000 / sum(c_count_1000)\n",
    "\n",
    "plt.plot(c_prob, 'o-b')\n",
    "plt.plot(c_prob_1000, '.--r')"
   ]
  },
  {
   "cell_type": "markdown",
   "metadata": {},
   "source": [
    "**Exercise** Now, write a list comprehension that generates 10,000 random sequences."
   ]
  },
  {
   "cell_type": "code",
   "execution_count": null,
   "metadata": {},
   "outputs": [],
   "source": [
    "seqs_10000 = [ ''.join(np.random.choice(np.array(['A', 'C', 'G', 'T']), 8)) for seqno in range(0,10000)]"
   ]
  },
  {
   "cell_type": "markdown",
   "metadata": {},
   "source": [
    "**Exercise** Repeat the steps above to make a plot of `C`s per sequence in your 10,000 sample set."
   ]
  },
  {
   "cell_type": "code",
   "execution_count": null,
   "metadata": {},
   "outputs": [],
   "source": [
    "c_count_10000 = np.zeros(9)\n",
    "for seq in seqs_10000:\n",
    "    n_c = 0\n",
    "    for nt in seq:\n",
    "        if nt == 'C':\n",
    "            n_c += 1\n",
    "    c_count_10000[n_c] += 1\n",
    "c_prob_10000 = c_count_10000 / sum(c_count_10000)\n",
    "\n",
    "plt.plot(c_prob, 'o-b')\n",
    "plt.plot(c_prob_10000, '.--r')"
   ]
  },
  {
   "cell_type": "markdown",
   "metadata": {},
   "source": [
    "Of course, there's a third alternative to counting all 65,536 sequences or sampling many random sequences. We know that the number of `C` nucleotides per sequence should follow the _binomial distribution_. The `scipy.stats.binom` module implements the binomial distribution in a \"Probability Mass Function\" (PMF), which is just a technical way of saying that it tells you the probability of different events under the binomial distribution. To compute this probability, we need to know the number of independent trials (N) and the probability of success in each trial (p). Using those, we can compute the probability of k successful trials, using\n",
    "```\n",
    "binom.pmf(k, N, p)\n",
    "```\n",
    "For instance, the probability of a `C` is 1/4 = 0.25, and we look at 8 nucleotides, so the probability of exactly one `C` when we sample 8 nucleotides independently is computed as follows:"
   ]
  },
  {
   "cell_type": "code",
   "execution_count": null,
   "metadata": {},
   "outputs": [],
   "source": [
    "from scipy.stats import binom\n",
    "binom.pmf(1, 8, 0.25)"
   ]
  },
  {
   "cell_type": "markdown",
   "metadata": {},
   "source": [
    "We can also create a binomial distribution function for a fixed N and p, and then find the probability of an array of k values in that distribution. Below, we create an array of x values from 0 through 8 inclusive, and then compute the probability (PMF) for each k value. We plot those relative to our 65,536-sequence reference and they should be exactly identical."
   ]
  },
  {
   "cell_type": "code",
   "execution_count": null,
   "metadata": {},
   "outputs": [],
   "source": [
    "binom_dist = binom(8, 0.25)\n",
    "x = np.arange(0, 9)\n",
    "print(x)\n",
    "c_prob_binom = binom_dist.pmf(x)\n",
    "print(c_prob_binom)\n",
    "plt.plot(c_prob, 'o-b')\n",
    "plt.plot(c_prob_binom, '.--r')"
   ]
  },
  {
   "cell_type": "markdown",
   "metadata": {},
   "source": [
    "Using the binomial distribution and its PMF, we can try out uneven nucleotide distributions. For instance, below we make 3 different plots with p = 0.19 (like 19% C in the yeast genome), p = 0.25 (equal nucleotide frequencies), and p = 0.31 (like 31% T in the yeast genome, for instance). We then plot all three binomial PMFs in different colors -- cyan (`c`) for 19%, black for 25%, and magenta (`m`) for 31%.\n",
    "\n",
    "We also create a _legend_ for our figure -- we include a \"label\" argument in each of our `plot(...)` functions, capture the \"plot handle\" produced by each of the plots, and use the `legend(...)` function to create a legend for these handles."
   ]
  },
  {
   "cell_type": "code",
   "execution_count": null,
   "metadata": {},
   "outputs": [],
   "source": [
    "plot19, = plt.plot(binom.pmf(x, 8, 0.19), 'o-c', label='19%') ## Like 'C' in the yeast genome\n",
    "plot25, = plt.plot(binom.pmf(x, 8, 0.25), 'o-k', label=\"25%\") ## Equal probability\n",
    "plot31, = plt.plot(binom.pmf(x, 8, 0.31), 'o-m', label=\"31%\") ## Like 'T' in the yeast genome\n",
    "plt.legend(handles=[plot19, plot25,plot31])"
   ]
  }
 ],
 "metadata": {
  "kernelspec": {
   "display_name": "Python 3",
   "language": "python",
   "name": "python3"
  },
  "language_info": {
   "codemirror_mode": {
    "name": "ipython",
    "version": 3
   },
   "file_extension": ".py",
   "mimetype": "text/x-python",
   "name": "python",
   "nbconvert_exporter": "python",
   "pygments_lexer": "ipython3",
   "version": "3.6.8"
  }
 },
 "nbformat": 4,
 "nbformat_minor": 2
}
