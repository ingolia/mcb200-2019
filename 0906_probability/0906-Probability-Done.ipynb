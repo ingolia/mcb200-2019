{
 "cells": [
  {
   "cell_type": "markdown",
   "metadata": {},
   "source": [
    "# Probability As Counting\n",
    "\n",
    "## Strings"
   ]
  },
  {
   "cell_type": "markdown",
   "metadata": {},
   "source": [
    "Python has a data type for _strings_. String variables are enclosed in quotes -- either single or double quotes can be used. So, to create a string:"
   ]
  },
  {
   "cell_type": "code",
   "execution_count": 1,
   "metadata": {},
   "outputs": [
    {
     "name": "stdout",
     "output_type": "stream",
     "text": [
      "printing my_name: Nick\n"
     ]
    },
    {
     "data": {
      "text/plain": [
       "'Nick'"
      ]
     },
     "execution_count": 1,
     "metadata": {},
     "output_type": "execute_result"
    }
   ],
   "source": [
    "my_name = 'Nick'\n",
    "print(\"printing my_name:\", my_name)\n",
    "my_name"
   ]
  },
  {
   "cell_type": "markdown",
   "metadata": {},
   "source": [
    "Notice that when we `print(...)` a string, we see the contents of the string. When the output of a cell is a string, we get that string in quotes. This lets us distinguish between the numeric value 1 and the string `'1'`"
   ]
  },
  {
   "cell_type": "code",
   "execution_count": 4,
   "metadata": {},
   "outputs": [
    {
     "name": "stdout",
     "output_type": "stream",
     "text": [
      "22\n",
      "4\n"
     ]
    },
    {
     "data": {
      "text/plain": [
       "4"
      ]
     },
     "execution_count": 4,
     "metadata": {},
     "output_type": "execute_result"
    }
   ],
   "source": [
    "print('2' + '2')\n",
    "print(2+2)\n",
    "2 + 2"
   ]
  },
  {
   "cell_type": "markdown",
   "metadata": {},
   "source": [
    "_MFA1_ is a fairly short budding yeast gene that encodes a-factor, a mating pheromone. The cell below creates a variable named `mfa1` that holds a string containing the nucleotide sequence of the _MFA1_ gene.\n",
    "\n",
    "Because even this short gene sequence is a long string, it is split across two lines, using a backslash (`\\`) to continue the string on the next line."
   ]
  },
  {
   "cell_type": "code",
   "execution_count": 5,
   "metadata": {},
   "outputs": [
    {
     "data": {
      "text/plain": [
       "'ATGCAACCATCTACCGCTACCGCCGCTCCAAAAGAAAAGACCAGCAGTGAAAAGAAGGACAACTATATTATCAAAGGTGTCTTCTGGGACCCAGCATGTGTTATTGCTTAG'"
      ]
     },
     "execution_count": 5,
     "metadata": {},
     "output_type": "execute_result"
    }
   ],
   "source": [
    "mfa1='ATGCAACCATCTACCGCTACCGCCGCTCCAAAAGAAAAGACCAGCAGTGAAAAGAAGGAC\\\n",
    "AACTATATTATCAAAGGTGTCTTCTGGGACCCAGCATGTGTTATTGCTTAG'\n",
    "mfa1"
   ]
  },
  {
   "cell_type": "markdown",
   "metadata": {},
   "source": [
    "In many ways, we can treat a string like a list of characters.\n",
    "\n",
    "We can use the `len()` function to find the length of this string, which should be a multiple of 3."
   ]
  },
  {
   "cell_type": "code",
   "execution_count": 6,
   "metadata": {},
   "outputs": [
    {
     "data": {
      "text/plain": [
       "111"
      ]
     },
     "execution_count": 6,
     "metadata": {},
     "output_type": "execute_result"
    }
   ],
   "source": [
    "len(mfa1)"
   ]
  },
  {
   "cell_type": "markdown",
   "metadata": {},
   "source": [
    "We can pick out individual nucleotides out of this string using square brackets to _index_ into the string. Python starts counting positions from 0, and so the first nucleotide is retrieved using `[0]`."
   ]
  },
  {
   "cell_type": "code",
   "execution_count": 7,
   "metadata": {},
   "outputs": [
    {
     "data": {
      "text/plain": [
       "'A'"
      ]
     },
     "execution_count": 7,
     "metadata": {},
     "output_type": "execute_result"
    }
   ],
   "source": [
    "mfa1[0]"
   ]
  },
  {
   "cell_type": "markdown",
   "metadata": {},
   "source": [
    "and the second nucleotide is retrieved using `[1]`"
   ]
  },
  {
   "cell_type": "code",
   "execution_count": 8,
   "metadata": {},
   "outputs": [
    {
     "data": {
      "text/plain": [
       "'T'"
      ]
     },
     "execution_count": 8,
     "metadata": {},
     "output_type": "execute_result"
    }
   ],
   "source": [
    "mfa1[1]"
   ]
  },
  {
   "cell_type": "markdown",
   "metadata": {},
   "source": [
    "**Exercise** retrieve the _last_ nucleotide of _MFA1_ from the string -- but don't just rely on knowing the length of _MFA1_, compute its length using `len()`."
   ]
  },
  {
   "cell_type": "code",
   "execution_count": 9,
   "metadata": {},
   "outputs": [
    {
     "data": {
      "text/plain": [
       "'G'"
      ]
     },
     "execution_count": 9,
     "metadata": {},
     "output_type": "execute_result"
    }
   ],
   "source": [
    "mfa1[len(mfa1) - 1]"
   ]
  },
  {
   "cell_type": "markdown",
   "metadata": {},
   "source": [
    "We can also _slice_ out a range of nucleotides using square brackets. The cell below will _slice_ out the second codon of _MFA1_."
   ]
  },
  {
   "cell_type": "code",
   "execution_count": 10,
   "metadata": {},
   "outputs": [
    {
     "data": {
      "text/plain": [
       "'CAA'"
      ]
     },
     "execution_count": 10,
     "metadata": {},
     "output_type": "execute_result"
    }
   ],
   "source": [
    "mfa1[3:6]"
   ]
  },
  {
   "cell_type": "markdown",
   "metadata": {},
   "source": [
    "In the cell above, we use a colon inside the square brackets to slice out a range of positions. The range is written `start:end`, but notice that the slice above runs from 3 to 6 in order to extract the nucleotides at positions 3, 4, 5 and _not_ 6. That is, the `start` is _included_ in the range but the `end` is _excluded_."
   ]
  },
  {
   "cell_type": "markdown",
   "metadata": {},
   "source": [
    "**Exercise** Slice out the last codon of _MFA1_, using `len()`. (Hint: the result should be a stop codon)"
   ]
  },
  {
   "cell_type": "code",
   "execution_count": 12,
   "metadata": {},
   "outputs": [
    {
     "data": {
      "text/plain": [
       "'TAG'"
      ]
     },
     "execution_count": 12,
     "metadata": {},
     "output_type": "execute_result"
    }
   ],
   "source": [
    "mfa1[len(mfa1)-3:len(mfa1)]"
   ]
  },
  {
   "cell_type": "markdown",
   "metadata": {},
   "source": [
    "## Dictionaries (\"Dicts\")\n",
    "\n",
    "Dictionaries are incredibly useful data structures that link keys with values. You can have one dictionary entry per key, and keys can be almost anything -- numbers, strings, tuples, and so forth. It's very fast to look up a key in the dictionary.\n",
    "\n",
    "We might want a dictionary in order to look up the standard name of a yeast gene given its systematic name. Since we want to quickly find entries according to the systematic name, this is the key. We can create a dictionary using curly braces around `key:value` pairs separated by commas:"
   ]
  },
  {
   "cell_type": "code",
   "execution_count": 13,
   "metadata": {},
   "outputs": [
    {
     "name": "stdout",
     "output_type": "stream",
     "text": [
      "{'YAL001C': 'TFC3', 'YAL002W': 'VPS8', 'YAL003W': 'EFB1'}\n"
     ]
    }
   ],
   "source": [
    "yeast_genes = { 'YAL001C': 'TFC3', 'YAL002W': 'VPS8', 'YAL003W': 'EFB1'}\n",
    "print(yeast_genes)"
   ]
  },
  {
   "cell_type": "markdown",
   "metadata": {},
   "source": [
    "We can look up entries from the dictionary using square brackets, just like looking up entries in a list"
   ]
  },
  {
   "cell_type": "code",
   "execution_count": 15,
   "metadata": {},
   "outputs": [
    {
     "data": {
      "text/plain": [
       "'TFC3'"
      ]
     },
     "execution_count": 15,
     "metadata": {},
     "output_type": "execute_result"
    }
   ],
   "source": [
    "yeast_genes['YAL001C']"
   ]
  },
  {
   "cell_type": "markdown",
   "metadata": {},
   "source": [
    "We can also add or replace entries using square brackets:"
   ]
  },
  {
   "cell_type": "code",
   "execution_count": 16,
   "metadata": {},
   "outputs": [
    {
     "name": "stdout",
     "output_type": "stream",
     "text": [
      "{'YAL001C': 'TFC3', 'YAL002W': 'VPS8', 'YAL003W': 'EFB1'}\n",
      "{'YAL001C': 'TFC3', 'YAL002W': 'VPS8', 'YAL003W': 'TEF5', 'YAL005C': 'SSA1'}\n"
     ]
    }
   ],
   "source": [
    "print(yeast_genes)\n",
    "yeast_genes['YAL003W'] = 'TEF5'\n",
    "yeast_genes['YAL005C'] = 'SSA1'\n",
    "print(yeast_genes)"
   ]
  },
  {
   "cell_type": "markdown",
   "metadata": {},
   "source": [
    "We can use a `for` loop to run through all the keys in a dictionary. We **are not** guaranteed anything about the order of the keys in this loop."
   ]
  },
  {
   "cell_type": "code",
   "execution_count": 19,
   "metadata": {},
   "outputs": [
    {
     "name": "stdout",
     "output_type": "stream",
     "text": [
      "gene YAL001C is TFC3\n",
      "gene YAL002W is VPS8\n",
      "gene YAL003W is TEF5\n",
      "gene YAL005C is SSA1\n"
     ]
    }
   ],
   "source": [
    "for zzz in sorted(yeast_genes):\n",
    "    print(\"gene\", zzz, \"is\", yeast_genes[zzz])"
   ]
  },
  {
   "cell_type": "markdown",
   "metadata": {},
   "source": [
    "Alternately, we can use `items()` to get `(key, value)` pairs directly"
   ]
  },
  {
   "cell_type": "code",
   "execution_count": 24,
   "metadata": {},
   "outputs": [
    {
     "name": "stdout",
     "output_type": "stream",
     "text": [
      "gene YAL001C is TFC3\n",
      "gene YAL002W is VPS8\n",
      "gene YAL003W is TEF5\n",
      "gene YAL005C is SSA1\n",
      "backwards: {'TFC3': 'YAL001C', 'VPS8': 'YAL002W', 'TEF5': 'YAL003W', 'SSA1': 'YAL005C'}\n"
     ]
    }
   ],
   "source": [
    "for key,value in yeast_genes.items():\n",
    "    print(\"gene\",key,\"is\",value)\n",
    "    \n",
    "backwards = {}\n",
    "for systematic,standard in yeast_genes.items():\n",
    "    backwards[standard] = systematic\n",
    "print(\"backwards:\",backwards)"
   ]
  },
  {
   "cell_type": "markdown",
   "metadata": {},
   "source": [
    "We can also quickly test whether a dictionary contains a key using `in`"
   ]
  },
  {
   "cell_type": "code",
   "execution_count": 29,
   "metadata": {},
   "outputs": [
    {
     "name": "stdout",
     "output_type": "stream",
     "text": [
      "YAL001C in yeast_genes? False\n",
      "YPR204W in yeast_genes? False\n",
      "True\n",
      "Yes it is\n"
     ]
    }
   ],
   "source": [
    "print(\"YAL001C in yeast_genes?\", 'YAL001C' in yeast_genes)\n",
    "print(\"YPR204W in yeast_genes?\", 'YPR204W' in yeast_genes)\n",
    "print( 7 > 5 )\n",
    "if 'YAL002W' in yeast_genes:\n",
    "    print(\"Yes it is\")\n",
    "else:\n",
    "    print(\"No it is not\")"
   ]
  },
  {
   "cell_type": "markdown",
   "metadata": {},
   "source": [
    "We can delete entries from a dictionary using `del`"
   ]
  },
  {
   "cell_type": "code",
   "execution_count": 26,
   "metadata": {},
   "outputs": [
    {
     "name": "stdout",
     "output_type": "stream",
     "text": [
      "{'YAL002W': 'VPS8', 'YAL003W': 'TEF5', 'YAL005C': 'SSA1'}\n"
     ]
    }
   ],
   "source": [
    "del yeast_genes['YAL001C']\n",
    "print(yeast_genes)"
   ]
  },
  {
   "cell_type": "code",
   "execution_count": 30,
   "metadata": {},
   "outputs": [
    {
     "name": "stdout",
     "output_type": "stream",
     "text": [
      "A 37 C 27 G 23 T 24\n"
     ]
    }
   ],
   "source": [
    "a = 0\n",
    "c = 0\n",
    "g = 0\n",
    "t = 0\n",
    "for nt in mfa1:\n",
    "    if nt == 'A':\n",
    "        a = a + 1\n",
    "    elif nt == 'C':\n",
    "        c = c + 1\n",
    "    elif nt == 'G':\n",
    "        g = g + 1\n",
    "    elif nt == 'T':\n",
    "        t = t + 1\n",
    "print(\"A\", a, \"C\", c, \"G\", g, \"T\", t)    \n"
   ]
  },
  {
   "cell_type": "markdown",
   "metadata": {},
   "source": [
    "## Counting things with dictionaries\n",
    "\n",
    "Now, we want to count how many times each individual nucleotide appears in the _MFA1_ gene. We'll use a dictionary to keep a tally of how many times we encounter each nucleotide as we run down the length of the `mfa1` gene. In this dictionary, the keys will be nucleotides and the values will be counts.\n",
    "\n",
    "At each position, we'll look up the current nucleotide count and update it by adding one."
   ]
  },
  {
   "cell_type": "code",
   "execution_count": 31,
   "metadata": {},
   "outputs": [
    {
     "name": "stdout",
     "output_type": "stream",
     "text": [
      "{'A': 4, 'C': 7, 'T': 5}\n"
     ]
    }
   ],
   "source": [
    "nt_counts = {'A': 3, 'C': 7, 'T': 5}\n",
    "nt_counts['A'] = nt_counts['A'] + 1\n",
    "print(nt_counts)"
   ]
  },
  {
   "cell_type": "markdown",
   "metadata": {},
   "source": [
    "We'll start with an empty dictionary, though, and so we won't have an entry for a nucleotide the first time we encounter it. The cell below produces an error because there's no entry for `G`."
   ]
  },
  {
   "cell_type": "code",
   "execution_count": 36,
   "metadata": {
    "scrolled": true
   },
   "outputs": [
    {
     "name": "stdout",
     "output_type": "stream",
     "text": [
      "{'A': 4, 'C': 7, 'T': 5, 'G': 4}\n"
     ]
    },
    {
     "data": {
      "text/plain": [
       "0"
      ]
     },
     "execution_count": 36,
     "metadata": {},
     "output_type": "execute_result"
    }
   ],
   "source": [
    "nt_counts['G'] = nt_counts.get('G', 0) + 1\n",
    "print(nt_counts)\n",
    "nt_counts.get('U', 0)"
   ]
  },
  {
   "cell_type": "markdown",
   "metadata": {},
   "source": [
    "Instead, we can use the `get()` function to look up a key, or return 0 if the key doesn't exist. In the cell below, we show how `get()` allows us to count the first occurrence of `G`, when it isn't in the dictionary yet, and also to count the eigth occurrence of `C`, by finding the old entry for `C` in the dictionary and adding one."
   ]
  },
  {
   "cell_type": "code",
   "execution_count": 37,
   "metadata": {},
   "outputs": [
    {
     "name": "stdout",
     "output_type": "stream",
     "text": [
      "{'A': 4, 'C': 8, 'T': 5, 'G': 5}\n"
     ]
    }
   ],
   "source": [
    "nt_counts['G'] = nt_counts.get('G', 0) + 1\n",
    "nt_counts['C'] = nt_counts.get('C', 0) + 1\n",
    "print(nt_counts)"
   ]
  },
  {
   "cell_type": "markdown",
   "metadata": {},
   "source": [
    "Now we can put all of this together in order to \n",
    "* create a new, empty dictionary for nucleotide counts\n",
    "* loop over each position in `mfa1`,\n",
    "  * index into `mfa1` to find the nucleotide at that position, and\n",
    "  * increment the count of nucleotides"
   ]
  },
  {
   "cell_type": "code",
   "execution_count": 40,
   "metadata": {},
   "outputs": [
    {
     "name": "stdout",
     "output_type": "stream",
     "text": [
      "{'A': 37, 'T': 24, 'G': 23, 'C': 27, 'U': 3}\n"
     ]
    }
   ],
   "source": [
    "mfa1 = mfa1 + 'UUU'\n",
    "nt_counts = {}\n",
    "for position in range(0, len(mfa1)):\n",
    "    nt = mfa1[position]\n",
    "    nt_counts[nt] = nt_counts.get(nt, 0) + 1\n",
    "print(nt_counts)"
   ]
  },
  {
   "cell_type": "markdown",
   "metadata": {},
   "source": [
    "We can use a similar approach to count the _codons_ in `mfa1`. To do this, we need to make two changes to our nucleotide-counting approach:\n",
    "1. We need to slice out a whole codon rather than indexing a single position, and\n",
    "2. We need to loop over codon starting positions (0, 3, 6, 9, ...) and not nucleotide positions. Our `range()` function can go by steps of 3 like this: `range(start, end, 3)`.\n",
    "\n",
    "**Exercise** Fill in the `...` below in order to count how many times each codon occurs in _MFA1_."
   ]
  },
  {
   "cell_type": "code",
   "execution_count": 47,
   "metadata": {},
   "outputs": [
    {
     "name": "stdout",
     "output_type": "stream",
     "text": [
      "0\n",
      "3\n",
      "6\n",
      "9\n",
      "12\n",
      "15\n",
      "18\n",
      "21\n",
      "24\n",
      "27\n",
      "30\n",
      "33\n",
      "36\n",
      "39\n",
      "42\n",
      "45\n",
      "48\n",
      "51\n",
      "54\n",
      "57\n",
      "60\n",
      "63\n",
      "66\n",
      "69\n",
      "72\n",
      "75\n",
      "78\n",
      "81\n",
      "84\n",
      "87\n",
      "90\n",
      "93\n",
      "96\n",
      "99\n",
      "102\n",
      "105\n",
      "108\n",
      "111\n"
     ]
    }
   ],
   "source": [
    "for i in range(0,len(mfa1), 3):\n",
    "    print(i)"
   ]
  },
  {
   "cell_type": "code",
   "execution_count": 48,
   "metadata": {},
   "outputs": [
    {
     "name": "stdout",
     "output_type": "stream",
     "text": [
      "{'ATG': 1, 'CAA': 1, 'CCA': 3, 'TCT': 1, 'ACC': 3, 'GCT': 3, 'GCC': 1, 'AAA': 2, 'GAA': 2, 'AAG': 3, 'AGC': 1, 'AGT': 1, 'GAC': 2, 'AAC': 1, 'TAT': 1, 'ATT': 2, 'ATC': 1, 'GGT': 1, 'GTC': 1, 'TTC': 1, 'TGG': 1, 'GCA': 1, 'TGT': 1, 'GTT': 1, 'TAG': 1, 'UUU': 1}\n"
     ]
    }
   ],
   "source": [
    "codon_counts = {}\n",
    "for position in range(0, len(mfa1), 3):\n",
    "    codon = mfa1[position:position+3]\n",
    "    codon_counts[codon] = codon_counts.get(codon, 0) + 1\n",
    "print(codon_counts)"
   ]
  },
  {
   "cell_type": "markdown",
   "metadata": {},
   "source": [
    "Next, we'll move on to counting nucleotides in the whole yeast genome. We don't want to include the whole genome sequence in this notebook, and so we'll use existing python tools to read it from a file. First, we need to install the `biopython` package"
   ]
  },
  {
   "cell_type": "code",
   "execution_count": 49,
   "metadata": {},
   "outputs": [
    {
     "name": "stdout",
     "output_type": "stream",
     "text": [
      "Collecting biopython\n",
      "  Using cached https://files.pythonhosted.org/packages/ed/77/de3ba8f3d3015455f5df859c082729198ee6732deaeb4b87b9cfbfbaafe3/biopython-1.74-cp36-cp36m-manylinux1_x86_64.whl\n",
      "Requirement already satisfied: numpy in /srv/app/venv/lib/python3.6/site-packages (from biopython)\n",
      "Installing collected packages: biopython\n",
      "Successfully installed biopython-1.74\n"
     ]
    }
   ],
   "source": [
    "!pip install biopython"
   ]
  },
  {
   "cell_type": "markdown",
   "metadata": {},
   "source": [
    "Then, we need to import the `SeqIO` module, which has functions for reading Fasta-format files."
   ]
  },
  {
   "cell_type": "code",
   "execution_count": 50,
   "metadata": {},
   "outputs": [],
   "source": [
    "from Bio import SeqIO"
   ]
  },
  {
   "cell_type": "markdown",
   "metadata": {},
   "source": [
    "The `SeqIO` module has a function called `parse()` that reads sequence entries from a Fasta-format file. The Fasta format is pretty simple: each sequence has a name on a line starting with a `>`, followed by the sequence itself. So, a Fasta file might look like:\n",
    "```\n",
    ">one\n",
    "AGCTACGT...\n",
    ">two\n",
    "TGACTGCA...\n",
    "...\n",
    "```\n",
    "The `parse()` function will turn each of these into a `SeqRecord`, a custom data type that holds the name and the sequence. You can get the sequence name from `record` using `record.id` and the sequence itself using `record.seq`. This sequence isn't an ordinary Python string -- it's another custom data type, called a `Seq`, but you can convert it into a string using `str(record.seq)`.\n",
    "\n",
    "The cell below will loop through entries from the yeast genome sequence and print the sequence name, the length of the sequence, and the first 20 nucleotides of the sequence. "
   ]
  },
  {
   "cell_type": "code",
   "execution_count": 58,
   "metadata": {},
   "outputs": [
    {
     "name": "stdout",
     "output_type": "stream",
     "text": [
      "this has a line break\n",
      "here\n"
     ]
    }
   ],
   "source": [
    "my_string = \"this has a line break\\nhere\"\n",
    "print(my_string)"
   ]
  },
  {
   "cell_type": "code",
   "execution_count": 59,
   "metadata": {},
   "outputs": [
    {
     "name": "stdout",
     "output_type": "stream",
     "text": [
      "ref|NC_001133| \n",
      " 230218   CCACACCACACCCACACACC\n",
      "ref|NC_001134| \n",
      " 813184   AAATAGCCCTCATGTACGTC\n",
      "ref|NC_001135| \n",
      " 316620   CCCACACACCACACCCACAC\n",
      "ref|NC_001136| \n",
      " 1531933   ACACCACACCCACACCACAC\n",
      "ref|NC_001137| \n",
      " 576874   CGTCTCCTCCAAGCCCTGTT\n",
      "ref|NC_001138| \n",
      " 270161   GATCTCGCAAGTGCATTCCT\n",
      "ref|NC_001139| \n",
      " 1090940   CCACACCCACACACACCACA\n",
      "ref|NC_001140| \n",
      " 562643   CCCACACACACCACACCCAC\n",
      "ref|NC_001141| \n",
      " 439888   CACACACACCACACCCACAC\n",
      "ref|NC_001142| \n",
      " 745751   CCCACACACACACCACACCC\n",
      "ref|NC_001143| \n",
      " 666816   CACCACACCCACACACCACA\n",
      "ref|NC_001144| \n",
      " 1078177   CACACACACACACCACCCAC\n",
      "ref|NC_001145| \n",
      " 924431   CCACACACACACCACACCCA\n",
      "ref|NC_001146| \n",
      " 784333   CCGGCTTTCTGACCGAAATT\n",
      "ref|NC_001147| \n",
      " 1091291   ACACCACACCCACACCACAC\n",
      "ref|NC_001148| \n",
      " 948066   AAATAGCCCTCATGTACGTC\n",
      "ref|NC_001224| \n",
      " 85779   TTCATAATTAATTTTTTATA\n"
     ]
    }
   ],
   "source": [
    "for record in SeqIO.parse(\"../S288C_R64-2-1/S288C_reference_sequence_R64-2-1_20150113.fsa\", \"fasta\"):\n",
    "    seq = str(record.seq)\n",
    "    print(record.id, \"\\n\", len(seq), \" \", seq[0:20])"
   ]
  },
  {
   "cell_type": "markdown",
   "metadata": {},
   "source": [
    "**Exercise** Fill in the `...` below in order to count the occurrences of each nucleotide in the yeast genome."
   ]
  },
  {
   "cell_type": "code",
   "execution_count": 60,
   "metadata": {},
   "outputs": [
    {
     "name": "stdout",
     "output_type": "stream",
     "text": [
      "{'C': 2320576, 'A': 3766349, 'T': 3753080, 'G': 2317100}\n"
     ]
    }
   ],
   "source": [
    "nt_counts = {}\n",
    "for record in SeqIO.parse(\"../S288C_R64-2-1/S288C_reference_sequence_R64-2-1_20150113.fsa\", \"fasta\"):\n",
    "    seq = str(record.seq)\n",
    "    for position in range(0, len(record.seq)):\n",
    "        nt = seq[position]\n",
    "        nt_counts[nt] = nt_counts.get(nt, 0) + 1\n",
    "print(nt_counts)"
   ]
  },
  {
   "cell_type": "markdown",
   "metadata": {},
   "source": [
    "Our `nt_counts` tells us the _frequency_ of each nucleotide, that is, the number of times it occurs in the genome. We now want to use this to calculate the _probability_ of each nucleotide. To do this, we can simply divide by the total number of nucleotides we counted. Although we do know the four possible nucleotide options and we could manually look up each of `A`, `C`, `G`, and `T` in the `nt_counts` dictionary, it's a better practice to do this in a more programmatic way.\n",
    "\n",
    "The `values()` method returns a kind of list of all the value entries in a dictionary:"
   ]
  },
  {
   "cell_type": "code",
   "execution_count": 61,
   "metadata": {},
   "outputs": [
    {
     "name": "stdout",
     "output_type": "stream",
     "text": [
      "dict_values([2320576, 3766349, 3753080, 2317100])\n"
     ]
    }
   ],
   "source": [
    "print(nt_counts.values())"
   ]
  },
  {
   "cell_type": "markdown",
   "metadata": {},
   "source": [
    "We can loop over this list in a `for` loop:"
   ]
  },
  {
   "cell_type": "code",
   "execution_count": 62,
   "metadata": {},
   "outputs": [
    {
     "name": "stdout",
     "output_type": "stream",
     "text": [
      "2320576\n",
      "3766349\n",
      "3753080\n",
      "2317100\n"
     ]
    }
   ],
   "source": [
    "for value in nt_counts.values():\n",
    "    print(value)"
   ]
  },
  {
   "cell_type": "markdown",
   "metadata": {},
   "source": [
    "**Exercise** Complete the for loop below in order to count the total number of nucleotides, which should match the size of the yeast genome."
   ]
  },
  {
   "cell_type": "code",
   "execution_count": 65,
   "metadata": {},
   "outputs": [
    {
     "name": "stdout",
     "output_type": "stream",
     "text": [
      "12157105\n"
     ]
    }
   ],
   "source": [
    "nt_total_new = 0\n",
    "for value in nt_counts.values():\n",
    "    nt_total_new = nt_total_new + value\n",
    "print(nt_total_new)"
   ]
  },
  {
   "cell_type": "markdown",
   "metadata": {},
   "source": [
    "Since looping over a list and addig up all the values is a pretty common task, python includes a function, `sum()`, that carries out this task."
   ]
  },
  {
   "cell_type": "code",
   "execution_count": null,
   "metadata": {},
   "outputs": [],
   "source": [
    "print(\"sum of nt_counts:\", sum(nt_counts.values()))"
   ]
  },
  {
   "cell_type": "markdown",
   "metadata": {},
   "source": [
    "Now we have all the data we need to construct a new dictionary of nucleotide probabilities. Conceptually, we want to loop over each nucleotide and its count in the nt_counts dictionary and use thse to build a new `nt_probs` dictionary. Dictionaries have another method, `items()`, that produces a kind of list of keys (nucleotides) and values (counts)"
   ]
  },
  {
   "cell_type": "code",
   "execution_count": 66,
   "metadata": {},
   "outputs": [
    {
     "name": "stdout",
     "output_type": "stream",
     "text": [
      "dict_items([('C', 2320576), ('A', 3766349), ('T', 3753080), ('G', 2317100)])\n"
     ]
    }
   ],
   "source": [
    "print(nt_counts.items())"
   ]
  },
  {
   "cell_type": "markdown",
   "metadata": {},
   "source": [
    "We can loop over this list in a `for` loop as well. Notice how we capture the two parts of the \"item\" entry, the nucleotide and the count, using two different loop variables."
   ]
  },
  {
   "cell_type": "code",
   "execution_count": 67,
   "metadata": {},
   "outputs": [
    {
     "name": "stdout",
     "output_type": "stream",
     "text": [
      "C\t2320576\n",
      "A\t3766349\n",
      "T\t3753080\n",
      "G\t2317100\n"
     ]
    }
   ],
   "source": [
    "for nt, count in nt_counts.items():\n",
    "    print(nt + \"\\t\" + str(count))"
   ]
  },
  {
   "cell_type": "markdown",
   "metadata": {},
   "source": [
    "**Exercise** Complete the cell below in order to build and print the dictionary of nucleotide probabilities."
   ]
  },
  {
   "cell_type": "code",
   "execution_count": 68,
   "metadata": {},
   "outputs": [
    {
     "name": "stdout",
     "output_type": "stream",
     "text": [
      "0.309806405390099\n"
     ]
    }
   ],
   "source": [
    "prob_a = nt_counts['A'] / nt_total\n",
    "print(prob_a)"
   ]
  },
  {
   "cell_type": "code",
   "execution_count": 70,
   "metadata": {},
   "outputs": [
    {
     "name": "stdout",
     "output_type": "stream",
     "text": [
      "{}\n",
      "C\n",
      "2320576\n",
      "{'C': 0.19088228653120953}\n",
      "A\n",
      "3766349\n",
      "{'C': 0.19088228653120953, 'A': 0.309806405390099}\n",
      "T\n",
      "3753080\n",
      "{'C': 0.19088228653120953, 'A': 0.309806405390099, 'T': 0.3087149448820258}\n",
      "G\n",
      "2317100\n",
      "{'C': 0.19088228653120953, 'A': 0.309806405390099, 'T': 0.3087149448820258, 'G': 0.19059636319666565}\n"
     ]
    }
   ],
   "source": [
    "nt_probs = {}\n",
    "for nt in nt_counts:\n",
    "    print(nt_probs)\n",
    "    print(nt)\n",
    "    print(nt_counts[nt])\n",
    "    nt_probs[nt] = nt_counts[nt] / nt_total\n",
    "print(nt_probs)"
   ]
  }
 ],
 "metadata": {
  "kernelspec": {
   "display_name": "Python 3",
   "language": "python",
   "name": "python3"
  },
  "language_info": {
   "codemirror_mode": {
    "name": "ipython",
    "version": 3
   },
   "file_extension": ".py",
   "mimetype": "text/x-python",
   "name": "python",
   "nbconvert_exporter": "python",
   "pygments_lexer": "ipython3",
   "version": "3.6.8"
  }
 },
 "nbformat": 4,
 "nbformat_minor": 2
}
