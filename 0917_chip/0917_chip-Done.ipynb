{
 "cells": [
  {
   "cell_type": "markdown",
   "metadata": {},
   "source": [
    "BED format files are just a special kind of tab-delimited data file, and so we can read them in using Pandas."
   ]
  },
  {
   "cell_type": "code",
   "execution_count": 1,
   "metadata": {},
   "outputs": [],
   "source": [
    "import pandas as pd"
   ]
  },
  {
   "cell_type": "markdown",
   "metadata": {},
   "source": [
    "We can read in this data using the `read_csv()` function in Pandas, with `sep=\"\\t\"` because it's tab-delimited.\n",
    "\n",
    "Reading in the peaks file as a tab-delimited file will use the first line for column names by default."
   ]
  },
  {
   "cell_type": "code",
   "execution_count": 4,
   "metadata": {},
   "outputs": [
    {
     "data": {
      "text/html": [
       "<div>\n",
       "<style scoped>\n",
       "    .dataframe tbody tr th:only-of-type {\n",
       "        vertical-align: middle;\n",
       "    }\n",
       "\n",
       "    .dataframe tbody tr th {\n",
       "        vertical-align: top;\n",
       "    }\n",
       "\n",
       "    .dataframe thead th {\n",
       "        text-align: right;\n",
       "    }\n",
       "</style>\n",
       "<table border=\"1\" class=\"dataframe\">\n",
       "  <thead>\n",
       "    <tr style=\"text-align: right;\">\n",
       "      <th></th>\n",
       "      <th>chrI</th>\n",
       "      <th>72280</th>\n",
       "      <th>73586</th>\n",
       "      <th>MACS_peak_1</th>\n",
       "      <th>70.72</th>\n",
       "    </tr>\n",
       "  </thead>\n",
       "  <tbody>\n",
       "    <tr>\n",
       "      <th>0</th>\n",
       "      <td>chrI</td>\n",
       "      <td>100877</td>\n",
       "      <td>101489</td>\n",
       "      <td>MACS_peak_2</td>\n",
       "      <td>74.70</td>\n",
       "    </tr>\n",
       "    <tr>\n",
       "      <th>1</th>\n",
       "      <td>chrI</td>\n",
       "      <td>141083</td>\n",
       "      <td>142278</td>\n",
       "      <td>MACS_peak_3</td>\n",
       "      <td>574.05</td>\n",
       "    </tr>\n",
       "    <tr>\n",
       "      <th>2</th>\n",
       "      <td>chrI</td>\n",
       "      <td>222800</td>\n",
       "      <td>223346</td>\n",
       "      <td>MACS_peak_4</td>\n",
       "      <td>90.32</td>\n",
       "    </tr>\n",
       "    <tr>\n",
       "      <th>3</th>\n",
       "      <td>chrII</td>\n",
       "      <td>137479</td>\n",
       "      <td>138048</td>\n",
       "      <td>MACS_peak_5</td>\n",
       "      <td>71.61</td>\n",
       "    </tr>\n",
       "    <tr>\n",
       "      <th>4</th>\n",
       "      <td>chrII</td>\n",
       "      <td>145391</td>\n",
       "      <td>146109</td>\n",
       "      <td>MACS_peak_6</td>\n",
       "      <td>112.91</td>\n",
       "    </tr>\n",
       "  </tbody>\n",
       "</table>\n",
       "</div>"
      ],
      "text/plain": [
       "    chrI   72280   73586  MACS_peak_1   70.72\n",
       "0   chrI  100877  101489  MACS_peak_2   74.70\n",
       "1   chrI  141083  142278  MACS_peak_3  574.05\n",
       "2   chrI  222800  223346  MACS_peak_4   90.32\n",
       "3  chrII  137479  138048  MACS_peak_5   71.61\n",
       "4  chrII  145391  146109  MACS_peak_6  112.91"
      ]
     },
     "execution_count": 4,
     "metadata": {},
     "output_type": "execute_result"
    }
   ],
   "source": [
    "peaks = pd.read_csv(\"ChIP_1M_peaks.bed\", sep=\"\\t\")\n",
    "peaks.head()"
   ]
  },
  {
   "cell_type": "markdown",
   "metadata": {},
   "source": [
    "We can use `header=None` to indicate that there is no header."
   ]
  },
  {
   "cell_type": "code",
   "execution_count": 5,
   "metadata": {},
   "outputs": [
    {
     "data": {
      "text/html": [
       "<div>\n",
       "<style scoped>\n",
       "    .dataframe tbody tr th:only-of-type {\n",
       "        vertical-align: middle;\n",
       "    }\n",
       "\n",
       "    .dataframe tbody tr th {\n",
       "        vertical-align: top;\n",
       "    }\n",
       "\n",
       "    .dataframe thead th {\n",
       "        text-align: right;\n",
       "    }\n",
       "</style>\n",
       "<table border=\"1\" class=\"dataframe\">\n",
       "  <thead>\n",
       "    <tr style=\"text-align: right;\">\n",
       "      <th></th>\n",
       "      <th>0</th>\n",
       "      <th>1</th>\n",
       "      <th>2</th>\n",
       "      <th>3</th>\n",
       "      <th>4</th>\n",
       "    </tr>\n",
       "  </thead>\n",
       "  <tbody>\n",
       "    <tr>\n",
       "      <th>0</th>\n",
       "      <td>chrI</td>\n",
       "      <td>72280</td>\n",
       "      <td>73586</td>\n",
       "      <td>MACS_peak_1</td>\n",
       "      <td>70.72</td>\n",
       "    </tr>\n",
       "    <tr>\n",
       "      <th>1</th>\n",
       "      <td>chrI</td>\n",
       "      <td>100877</td>\n",
       "      <td>101489</td>\n",
       "      <td>MACS_peak_2</td>\n",
       "      <td>74.70</td>\n",
       "    </tr>\n",
       "    <tr>\n",
       "      <th>2</th>\n",
       "      <td>chrI</td>\n",
       "      <td>141083</td>\n",
       "      <td>142278</td>\n",
       "      <td>MACS_peak_3</td>\n",
       "      <td>574.05</td>\n",
       "    </tr>\n",
       "    <tr>\n",
       "      <th>3</th>\n",
       "      <td>chrI</td>\n",
       "      <td>222800</td>\n",
       "      <td>223346</td>\n",
       "      <td>MACS_peak_4</td>\n",
       "      <td>90.32</td>\n",
       "    </tr>\n",
       "    <tr>\n",
       "      <th>4</th>\n",
       "      <td>chrII</td>\n",
       "      <td>137479</td>\n",
       "      <td>138048</td>\n",
       "      <td>MACS_peak_5</td>\n",
       "      <td>71.61</td>\n",
       "    </tr>\n",
       "  </tbody>\n",
       "</table>\n",
       "</div>"
      ],
      "text/plain": [
       "       0       1       2            3       4\n",
       "0   chrI   72280   73586  MACS_peak_1   70.72\n",
       "1   chrI  100877  101489  MACS_peak_2   74.70\n",
       "2   chrI  141083  142278  MACS_peak_3  574.05\n",
       "3   chrI  222800  223346  MACS_peak_4   90.32\n",
       "4  chrII  137479  138048  MACS_peak_5   71.61"
      ]
     },
     "execution_count": 5,
     "metadata": {},
     "output_type": "execute_result"
    }
   ],
   "source": [
    "peaks = pd.read_csv(\"ChIP_1M_peaks.bed\", sep=\"\\t\", header=None)\n",
    "peaks.head()"
   ]
  },
  {
   "cell_type": "markdown",
   "metadata": {},
   "source": [
    "This gives us numbered columns. We can give the columns our own names instead with the `names=[...]` parameter.\n",
    "\n",
    "The first five columns of a BED file are:\n",
    "1. `chrom` is the name of the chromosome\n",
    "1. `start` is the starting position of the feature in 0-based coordinates\n",
    "1. `end` is the ending position of the feature in Python style -- the first position _after_ the end\n",
    "1. `name` is the name of the feature\n",
    "1. `score` can be used to provide a numeric score. MACS uses this to score peaks."
   ]
  },
  {
   "cell_type": "code",
   "execution_count": 14,
   "metadata": {},
   "outputs": [
    {
     "data": {
      "text/html": [
       "<div>\n",
       "<style scoped>\n",
       "    .dataframe tbody tr th:only-of-type {\n",
       "        vertical-align: middle;\n",
       "    }\n",
       "\n",
       "    .dataframe tbody tr th {\n",
       "        vertical-align: top;\n",
       "    }\n",
       "\n",
       "    .dataframe thead th {\n",
       "        text-align: right;\n",
       "    }\n",
       "</style>\n",
       "<table border=\"1\" class=\"dataframe\">\n",
       "  <thead>\n",
       "    <tr style=\"text-align: right;\">\n",
       "      <th></th>\n",
       "      <th>chrom</th>\n",
       "      <th>start</th>\n",
       "      <th>end</th>\n",
       "      <th>name</th>\n",
       "      <th>score</th>\n",
       "    </tr>\n",
       "  </thead>\n",
       "  <tbody>\n",
       "    <tr>\n",
       "      <th>0</th>\n",
       "      <td>chrI</td>\n",
       "      <td>72280</td>\n",
       "      <td>73586</td>\n",
       "      <td>MACS_peak_1</td>\n",
       "      <td>70.72</td>\n",
       "    </tr>\n",
       "    <tr>\n",
       "      <th>1</th>\n",
       "      <td>chrI</td>\n",
       "      <td>100877</td>\n",
       "      <td>101489</td>\n",
       "      <td>MACS_peak_2</td>\n",
       "      <td>74.70</td>\n",
       "    </tr>\n",
       "    <tr>\n",
       "      <th>2</th>\n",
       "      <td>chrI</td>\n",
       "      <td>141083</td>\n",
       "      <td>142278</td>\n",
       "      <td>MACS_peak_3</td>\n",
       "      <td>574.05</td>\n",
       "    </tr>\n",
       "    <tr>\n",
       "      <th>3</th>\n",
       "      <td>chrI</td>\n",
       "      <td>222800</td>\n",
       "      <td>223346</td>\n",
       "      <td>MACS_peak_4</td>\n",
       "      <td>90.32</td>\n",
       "    </tr>\n",
       "    <tr>\n",
       "      <th>4</th>\n",
       "      <td>chrII</td>\n",
       "      <td>137479</td>\n",
       "      <td>138048</td>\n",
       "      <td>MACS_peak_5</td>\n",
       "      <td>71.61</td>\n",
       "    </tr>\n",
       "  </tbody>\n",
       "</table>\n",
       "</div>"
      ],
      "text/plain": [
       "   chrom   start     end         name   score\n",
       "0   chrI   72280   73586  MACS_peak_1   70.72\n",
       "1   chrI  100877  101489  MACS_peak_2   74.70\n",
       "2   chrI  141083  142278  MACS_peak_3  574.05\n",
       "3   chrI  222800  223346  MACS_peak_4   90.32\n",
       "4  chrII  137479  138048  MACS_peak_5   71.61"
      ]
     },
     "execution_count": 14,
     "metadata": {},
     "output_type": "execute_result"
    }
   ],
   "source": [
    "peaks = pd.read_csv(\"ChIP_1M_peaks.bed\", sep=\"\\t\", header=None,\n",
    "                    names=[\"chrom\", \"start\", \"end\", \"name\", \"score\"])\n",
    "peaks.head()"
   ]
  },
  {
   "cell_type": "markdown",
   "metadata": {},
   "source": [
    "The peaks are listed in order of their genomic position. We want to look at the \"best\" peaks, and so we want to sort them by score, with the highest score first."
   ]
  },
  {
   "cell_type": "code",
   "execution_count": 17,
   "metadata": {},
   "outputs": [],
   "source": [
    "peaks_sorted = peaks.sort_values(by=\"score\", ascending=False)"
   ]
  },
  {
   "cell_type": "markdown",
   "metadata": {},
   "source": [
    "We can also look at the \"summits\", which are 1-base-wide features within the peaks."
   ]
  },
  {
   "cell_type": "code",
   "execution_count": 18,
   "metadata": {},
   "outputs": [
    {
     "data": {
      "text/html": [
       "<div>\n",
       "<style scoped>\n",
       "    .dataframe tbody tr th:only-of-type {\n",
       "        vertical-align: middle;\n",
       "    }\n",
       "\n",
       "    .dataframe tbody tr th {\n",
       "        vertical-align: top;\n",
       "    }\n",
       "\n",
       "    .dataframe thead th {\n",
       "        text-align: right;\n",
       "    }\n",
       "</style>\n",
       "<table border=\"1\" class=\"dataframe\">\n",
       "  <thead>\n",
       "    <tr style=\"text-align: right;\">\n",
       "      <th></th>\n",
       "      <th>chrom</th>\n",
       "      <th>start</th>\n",
       "      <th>end</th>\n",
       "      <th>name</th>\n",
       "      <th>score</th>\n",
       "    </tr>\n",
       "  </thead>\n",
       "  <tbody>\n",
       "    <tr>\n",
       "      <th>0</th>\n",
       "      <td>chrI</td>\n",
       "      <td>73174</td>\n",
       "      <td>73175</td>\n",
       "      <td>MACS_peak_1</td>\n",
       "      <td>13.0</td>\n",
       "    </tr>\n",
       "    <tr>\n",
       "      <th>1</th>\n",
       "      <td>chrI</td>\n",
       "      <td>101289</td>\n",
       "      <td>101290</td>\n",
       "      <td>MACS_peak_2</td>\n",
       "      <td>19.0</td>\n",
       "    </tr>\n",
       "    <tr>\n",
       "      <th>2</th>\n",
       "      <td>chrI</td>\n",
       "      <td>141772</td>\n",
       "      <td>141773</td>\n",
       "      <td>MACS_peak_3</td>\n",
       "      <td>105.0</td>\n",
       "    </tr>\n",
       "    <tr>\n",
       "      <th>3</th>\n",
       "      <td>chrI</td>\n",
       "      <td>223145</td>\n",
       "      <td>223146</td>\n",
       "      <td>MACS_peak_4</td>\n",
       "      <td>20.0</td>\n",
       "    </tr>\n",
       "    <tr>\n",
       "      <th>4</th>\n",
       "      <td>chrII</td>\n",
       "      <td>137670</td>\n",
       "      <td>137671</td>\n",
       "      <td>MACS_peak_5</td>\n",
       "      <td>17.0</td>\n",
       "    </tr>\n",
       "  </tbody>\n",
       "</table>\n",
       "</div>"
      ],
      "text/plain": [
       "   chrom   start     end         name  score\n",
       "0   chrI   73174   73175  MACS_peak_1   13.0\n",
       "1   chrI  101289  101290  MACS_peak_2   19.0\n",
       "2   chrI  141772  141773  MACS_peak_3  105.0\n",
       "3   chrI  223145  223146  MACS_peak_4   20.0\n",
       "4  chrII  137670  137671  MACS_peak_5   17.0"
      ]
     },
     "execution_count": 18,
     "metadata": {},
     "output_type": "execute_result"
    }
   ],
   "source": [
    "summits = pd.read_csv(\"ChIP_1M_summits.bed\", sep=\"\\t\", header=None,\n",
    "                      names=[\"chrom\", \"start\", \"end\", \"name\", \"score\"])\n",
    "summits.head()"
   ]
  },
  {
   "cell_type": "code",
   "execution_count": 19,
   "metadata": {},
   "outputs": [
    {
     "name": "stdout",
     "output_type": "stream",
     "text": [
      "Collecting pybedtools\n",
      "Collecting pysam (from pybedtools)\n",
      "Requirement already satisfied: six in /srv/app/venv/lib/python3.6/site-packages (from pybedtools)\n",
      "Installing collected packages: pysam, pybedtools\n",
      "Successfully installed pybedtools-0.8.0 pysam-0.15.3\n"
     ]
    }
   ],
   "source": [
    "!pip3 install pybedtools"
   ]
  },
  {
   "cell_type": "code",
   "execution_count": 20,
   "metadata": {},
   "outputs": [],
   "source": [
    "import pybedtools\n",
    "pybedtools.helpers.set_bedtools_path(\"/home/jovyan/mcb200-2019/bedtools2/bin\")"
   ]
  },
  {
   "cell_type": "code",
   "execution_count": 22,
   "metadata": {},
   "outputs": [],
   "source": [
    "summits_bed = pybedtools.BedTool.from_dataframe(summits)"
   ]
  },
  {
   "cell_type": "code",
   "execution_count": 23,
   "metadata": {},
   "outputs": [
    {
     "data": {
      "text/plain": [
       "<BedTool(/tmp/pybedtools.dym908cp.tmp)>"
      ]
     },
     "execution_count": 23,
     "metadata": {},
     "output_type": "execute_result"
    }
   ],
   "source": [
    "summits_bed"
   ]
  },
  {
   "cell_type": "code",
   "execution_count": 24,
   "metadata": {},
   "outputs": [
    {
     "name": "stdout",
     "output_type": "stream",
     "text": [
      "chrI\t73174\t73175\tMACS_peak_1\t13.0\n",
      "chrI\t101289\t101290\tMACS_peak_2\t19.0\n",
      "chrI\t141772\t141773\tMACS_peak_3\t105.0\n",
      "chrI\t223145\t223146\tMACS_peak_4\t20.0\n",
      "chrII\t137670\t137671\tMACS_peak_5\t17.0\n",
      "chrII\t145916\t145917\tMACS_peak_6\t25.0\n",
      "chrII\t444847\t444848\tMACS_peak_7\t29.0\n",
      "chrII\t477469\t477470\tMACS_peak_8\t31.0\n",
      "chrII\t478725\t478726\tMACS_peak_9\t19.0\n",
      "chrIII\t259\t260\tMACS_peak_10\t26.0\n",
      "chrIII\t57066\t57067\tMACS_peak_11\t20.0\n",
      "chrIII\t90767\t90768\tMACS_peak_12\t13.0\n",
      "chrIII\t137449\t137450\tMACS_peak_13\t19.0\n",
      "chrIII\t227880\t227881\tMACS_peak_14\t12.0\n",
      "chrIV\t149140\t149141\tMACS_peak_15\t13.0\n",
      "chrIV\t369270\t369271\tMACS_peak_16\t19.0\n",
      "chrIV\t417047\t417048\tMACS_peak_17\t17.0\n",
      "chrIV\t465445\t465446\tMACS_peak_18\t16.0\n",
      "chrIV\t678033\t678034\tMACS_peak_19\t19.0\n",
      "chrIV\t806357\t806358\tMACS_peak_20\t23.0\n",
      "chrIV\t892702\t892703\tMACS_peak_21\t26.0\n",
      "chrIV\t974483\t974484\tMACS_peak_22\t30.0\n",
      "chrIV\t1165315\t1165316\tMACS_peak_23\t16.0\n",
      "chrIV\t1357491\t1357492\tMACS_peak_24\t29.0\n",
      "chrIX\t325731\t325732\tMACS_peak_25\t11.0\n",
      "chrIX\t387157\t387158\tMACS_peak_26\t32.0\n",
      "chrV\t86498\t86499\tMACS_peak_27\t35.0\n",
      "chrV\t116105\t116106\tMACS_peak_28\t16.0\n",
      "chrV\t364353\t364354\tMACS_peak_29\t34.0\n",
      "chrVI\t31287\t31288\tMACS_peak_30\t11.0\n",
      "chrVI\t106303\t106304\tMACS_peak_31\t17.0\n",
      "chrVI\t210370\t210371\tMACS_peak_32\t53.0\n",
      "chrVII\t69368\t69369\tMACS_peak_33\t26.0\n",
      "chrVII\t80617\t80618\tMACS_peak_34\t32.0\n",
      "chrVII\t369354\t369355\tMACS_peak_35\t31.0\n",
      "chrVII\t480582\t480583\tMACS_peak_36\t13.0\n",
      "chrVII\t555995\t555996\tMACS_peak_37\t35.0\n",
      "chrVII\t772132\t772133\tMACS_peak_38\t48.0\n",
      "chrVII\t882643\t882644\tMACS_peak_39\t15.0\n",
      "chrVII\t915019\t915020\tMACS_peak_40\t59.0\n",
      "chrVIII\t212798\t212799\tMACS_peak_41\t19.0\n",
      "chrVIII\t236971\t236972\tMACS_peak_42\t35.0\n",
      "chrVIII\t451978\t451979\tMACS_peak_43\t13.0\n",
      "chrVIII\t556861\t556862\tMACS_peak_44\t24.0\n",
      "chrX\t121709\t121710\tMACS_peak_45\t15.0\n",
      "chrX\t139680\t139681\tMACS_peak_46\t12.0\n",
      "chrX\t381065\t381066\tMACS_peak_47\t16.0\n",
      "chrX\t519275\t519276\tMACS_peak_48\t23.0\n",
      "chrX\t521871\t521872\tMACS_peak_49\t26.0\n",
      "chrX\t640018\t640019\tMACS_peak_50\t32.0\n",
      "chrXI\t22058\t22059\tMACS_peak_51\t29.0\n",
      "chrXI\t326576\t326577\tMACS_peak_52\t13.0\n",
      "chrXII\t11231\t11232\tMACS_peak_53\t12.0\n",
      "chrXII\t48872\t48873\tMACS_peak_54\t16.0\n",
      "chrXII\t65575\t65576\tMACS_peak_55\t30.0\n",
      "chrXII\t88366\t88367\tMACS_peak_56\t45.0\n",
      "chrXII\t97708\t97709\tMACS_peak_57\t51.0\n",
      "chrXII\t233030\t233031\tMACS_peak_58\t16.0\n",
      "chrXII\t369903\t369904\tMACS_peak_59\t12.0\n",
      "chrXII\t490220\t490221\tMACS_peak_60\t86.0\n",
      "chrXII\t823474\t823475\tMACS_peak_61\t37.0\n",
      "chrXII\t838519\t838520\tMACS_peak_62\t12.0\n",
      "chrXII\t1065054\t1065055\tMACS_peak_63\t15.0\n",
      "chrXIII\t24669\t24670\tMACS_peak_64\t11.0\n",
      "chrXIII\t346116\t346117\tMACS_peak_65\t15.0\n",
      "chrXIII\t632168\t632169\tMACS_peak_66\t21.0\n",
      "chrXIII\t822604\t822605\tMACS_peak_67\t20.0\n",
      "chrXIV\t359362\t359363\tMACS_peak_68\t39.0\n",
      "chrXIV\t415075\t415076\tMACS_peak_69\t22.0\n",
      "chrXIV\t481161\t481162\tMACS_peak_70\t18.0\n",
      "chrXIV\t507361\t507362\tMACS_peak_71\t19.0\n",
      "chrXIV\t619905\t619906\tMACS_peak_72\t45.0\n",
      "chrXIV\t763195\t763196\tMACS_peak_73\t13.0\n",
      "chrXV\t160020\t160021\tMACS_peak_74\t13.0\n",
      "chrXV\t170645\t170646\tMACS_peak_75\t22.0\n",
      "chrXV\t371020\t371021\tMACS_peak_76\t14.0\n",
      "chrXV\t380853\t380854\tMACS_peak_77\t19.0\n",
      "chrXV\t430179\t430180\tMACS_peak_78\t25.0\n",
      "chrXV\t445348\t445349\tMACS_peak_79\t16.0\n",
      "chrXV\t522822\t522823\tMACS_peak_80\t14.0\n",
      "chrXV\t722827\t722828\tMACS_peak_81\t16.0\n",
      "chrXV\t877913\t877914\tMACS_peak_82\t31.0\n",
      "chrXV\t978650\t978651\tMACS_peak_83\t16.0\n",
      "chrXVI\t75097\t75098\tMACS_peak_84\t40.0\n",
      "chrXVI\t98886\t98887\tMACS_peak_85\t28.0\n",
      "chrXVI\t345902\t345903\tMACS_peak_86\t12.0\n",
      "chrXVI\t352478\t352479\tMACS_peak_87\t18.0\n",
      "chrXVI\t701095\t701096\tMACS_peak_88\t13.0\n",
      "\n"
     ]
    }
   ],
   "source": [
    "print(summits_bed)"
   ]
  },
  {
   "cell_type": "code",
   "execution_count": null,
   "metadata": {},
   "outputs": [],
   "source": []
  }
 ],
 "metadata": {
  "kernelspec": {
   "display_name": "Python 3",
   "language": "python",
   "name": "python3"
  },
  "language_info": {
   "codemirror_mode": {
    "name": "ipython",
    "version": 3
   },
   "file_extension": ".py",
   "mimetype": "text/x-python",
   "name": "python",
   "nbconvert_exporter": "python",
   "pygments_lexer": "ipython3",
   "version": "3.6.8"
  }
 },
 "nbformat": 4,
 "nbformat_minor": 2
}
