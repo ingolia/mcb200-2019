{
 "cells": [
  {
   "cell_type": "markdown",
   "metadata": {},
   "source": [
    "BED format files are just a special kind of tab-delimited data file, and so we can read them in using Pandas."
   ]
  },
  {
   "cell_type": "code",
   "execution_count": null,
   "metadata": {},
   "outputs": [],
   "source": []
  },
  {
   "cell_type": "markdown",
   "metadata": {},
   "source": [
    "We can read in this data using the `read_csv()` function in Pandas, with `sep=\"\\t\"` because it's tab-delimited.\n",
    "\n",
    "Reading in the peaks file as a tab-delimited file will use the first line for column names by default."
   ]
  },
  {
   "cell_type": "code",
   "execution_count": null,
   "metadata": {},
   "outputs": [],
   "source": []
  },
  {
   "cell_type": "markdown",
   "metadata": {},
   "source": [
    "We can use `header=None` to indicate that there is no header."
   ]
  },
  {
   "cell_type": "code",
   "execution_count": null,
   "metadata": {},
   "outputs": [],
   "source": []
  },
  {
   "cell_type": "markdown",
   "metadata": {},
   "source": [
    "This gives us numbered columns. We can give the columns our own names instead with the `names=[...]` parameter.\n",
    "\n",
    "The first five columns of a BED file are:\n",
    "1. `chrom` is the name of the chromosome\n",
    "1. `start` is the starting position of the feature in 0-based coordinates\n",
    "1. `end` is the ending position of the feature in Python style -- the first position _after_ the end\n",
    "1. `name` is the name of the feature\n",
    "1. `score` can be used to provide a numeric score. MACS uses this to score peaks."
   ]
  },
  {
   "cell_type": "code",
   "execution_count": null,
   "metadata": {},
   "outputs": [],
   "source": []
  },
  {
   "cell_type": "markdown",
   "metadata": {},
   "source": [
    "The peaks are listed in order of their genomic position. We want to look at the \"best\" peaks, and so we want to sort them by score, with the highest score first."
   ]
  },
  {
   "cell_type": "code",
   "execution_count": null,
   "metadata": {},
   "outputs": [],
   "source": []
  },
  {
   "cell_type": "markdown",
   "metadata": {},
   "source": [
    "We can also look at the \"summits\", which are 1-base-wide features within the peaks."
   ]
  },
  {
   "cell_type": "code",
   "execution_count": null,
   "metadata": {},
   "outputs": [],
   "source": []
  }
 ],
 "metadata": {
  "kernelspec": {
   "display_name": "Python 3",
   "language": "python",
   "name": "python3"
  },
  "language_info": {
   "codemirror_mode": {
    "name": "ipython",
    "version": 3
   },
   "file_extension": ".py",
   "mimetype": "text/x-python",
   "name": "python",
   "nbconvert_exporter": "python",
   "pygments_lexer": "ipython3",
   "version": "3.7.4"
  }
 },
 "nbformat": 4,
 "nbformat_minor": 2
}
