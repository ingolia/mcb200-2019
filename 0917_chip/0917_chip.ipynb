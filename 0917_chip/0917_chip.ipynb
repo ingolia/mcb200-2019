{
 "cells": [
  {
   "cell_type": "markdown",
   "metadata": {},
   "source": [
    "BED format files are just a special kind of tab-delimited data file, and so we can read them in using Pandas."
   ]
  },
  {
   "cell_type": "code",
   "execution_count": 2,
   "metadata": {},
   "outputs": [],
   "source": [
    "import pandas as pd"
   ]
  },
  {
   "cell_type": "markdown",
   "metadata": {},
   "source": [
    "We can read in this data using the `read_csv()` function in Pandas, with `sep=\"\\t\"` because it's tab-delimited.\n",
    "\n",
    "Reading in the peaks file as a tab-delimited file will use the first line for column names by default."
   ]
  },
  {
   "cell_type": "code",
   "execution_count": 4,
   "metadata": {},
   "outputs": [
    {
     "name": "stdout",
     "output_type": "stream",
     "text": [
      "    chrI   72280   73586  MACS_peak_1   70.72\n",
      "0   chrI  100877  101489  MACS_peak_2   74.70\n",
      "1   chrI  141083  142278  MACS_peak_3  574.05\n",
      "2   chrI  222800  223346  MACS_peak_4   90.32\n",
      "3  chrII  137479  138048  MACS_peak_5   71.61\n",
      "4  chrII  145391  146109  MACS_peak_6  112.91\n"
     ]
    }
   ],
   "source": [
    "peaks = pd.read_csv(\"ChIP_1M_peaks.bed\", sep=\"\\t\")\n",
    "print(peaks.head())"
   ]
  },
  {
   "cell_type": "markdown",
   "metadata": {},
   "source": [
    "We can use `header=None` to indicate that there is no header."
   ]
  },
  {
   "cell_type": "code",
   "execution_count": 5,
   "metadata": {},
   "outputs": [
    {
     "name": "stdout",
     "output_type": "stream",
     "text": [
      "       0       1       2            3       4\n",
      "0   chrI   72280   73586  MACS_peak_1   70.72\n",
      "1   chrI  100877  101489  MACS_peak_2   74.70\n",
      "2   chrI  141083  142278  MACS_peak_3  574.05\n",
      "3   chrI  222800  223346  MACS_peak_4   90.32\n",
      "4  chrII  137479  138048  MACS_peak_5   71.61\n"
     ]
    }
   ],
   "source": [
    "peaks = pd.read_csv(\"ChIP_1M_peaks.bed\", sep=\"\\t\", header=None)\n",
    "print(peaks.head())"
   ]
  },
  {
   "cell_type": "markdown",
   "metadata": {},
   "source": [
    "This gives us numbered columns. We can give the columns our own names instead with the `names=[...]` parameter.\n",
    "\n",
    "The first five columns of a BED file are:\n",
    "1. `chrom` is the name of the chromosome\n",
    "1. `start` is the starting position of the feature in 0-based coordinates\n",
    "1. `end` is the ending position of the feature in Python style -- the first position _after_ the end\n",
    "1. `name` is the name of the feature\n",
    "1. `score` can be used to provide a numeric score. MACS uses this to score peaks."
   ]
  },
  {
   "cell_type": "code",
   "execution_count": 8,
   "metadata": {},
   "outputs": [
    {
     "name": "stdout",
     "output_type": "stream",
     "text": [
      "   chrom   start     end         name   score\n",
      "0   chrI   72280   73586  MACS_peak_1   70.72\n",
      "1   chrI  100877  101489  MACS_peak_2   74.70\n",
      "2   chrI  141083  142278  MACS_peak_3  574.05\n",
      "3   chrI  222800  223346  MACS_peak_4   90.32\n",
      "4  chrII  137479  138048  MACS_peak_5   71.61\n"
     ]
    }
   ],
   "source": [
    "peaks = pd.read_csv(\"ChIP_1M_peaks.bed\", sep=\"\\t\", header=None, names=[\"chrom\", \"start\", \"end\", \"name\", \"score\"])\n",
    "print(peaks.head())"
   ]
  },
  {
   "cell_type": "markdown",
   "metadata": {},
   "source": [
    "The peaks are listed in order of their genomic position. We want to look at the \"best\" peaks, and so we want to sort them by score, with the highest score first."
   ]
  },
  {
   "cell_type": "code",
   "execution_count": 10,
   "metadata": {},
   "outputs": [
    {
     "name": "stdout",
     "output_type": "stream",
     "text": [
      "     chrom   start     end          name   score\n",
      "59  chrXII  489239  490823  MACS_peak_60  926.51\n",
      "2     chrI  141083  142278   MACS_peak_3  574.05\n",
      "31   chrVI  210170  210861  MACS_peak_32  353.14\n",
      "37  chrVII  771714  772791  MACS_peak_38  315.88\n",
      "34  chrVII  368400  371541  MACS_peak_35  309.39\n"
     ]
    }
   ],
   "source": [
    "peaks_sorted = peaks.sort_values(by=\"score\", ascending=False)\n",
    "print(peaks_sorted.head())"
   ]
  },
  {
   "cell_type": "markdown",
   "metadata": {},
   "source": [
    "We can also look at the \"summits\", which are 1-base-wide features within the peaks."
   ]
  },
  {
   "cell_type": "code",
   "execution_count": 13,
   "metadata": {},
   "outputs": [
    {
     "name": "stdout",
     "output_type": "stream",
     "text": [
      "     chrom   start     end          name  score\n",
      "2     chrI  141772  141773   MACS_peak_3  105.0\n",
      "59  chrXII  490220  490221  MACS_peak_60   86.0\n",
      "39  chrVII  915019  915020  MACS_peak_40   59.0\n",
      "31   chrVI  210370  210371  MACS_peak_32   53.0\n",
      "56  chrXII   97708   97709  MACS_peak_57   51.0\n"
     ]
    }
   ],
   "source": [
    "summits = pd.read_csv(\"ChIP_1M_summits.bed\", sep=\"\\t\", header=None, names=[\"chrom\", \"start\", \"end\", \"name\", \"score\"])\n",
    "summits_sorted = summits.sort_values(by=\"score\", ascending=False)\n",
    "print(summits_sorted.head())"
   ]
  }
 ],
 "metadata": {
  "kernelspec": {
   "display_name": "Python 3",
   "language": "python",
   "name": "python3"
  },
  "language_info": {
   "codemirror_mode": {
    "name": "ipython",
    "version": 3
   },
   "file_extension": ".py",
   "mimetype": "text/x-python",
   "name": "python",
   "nbconvert_exporter": "python",
   "pygments_lexer": "ipython3",
   "version": "3.7.4"
  }
 },
 "nbformat": 4,
 "nbformat_minor": 2
}
