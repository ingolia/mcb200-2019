{
 "cells": [
  {
   "cell_type": "markdown",
   "metadata": {},
   "source": [
    "# Sequence Alignment\n",
    "\n",
    "We'll write a tool to align two sequences using the Needleman-Wunsch algorithm.\n",
    "\n",
    "We start by defining our sequences, along with our scoring parameters."
   ]
  },
  {
   "cell_type": "code",
   "execution_count": null,
   "metadata": {},
   "outputs": [],
   "source": [
    "seq1 = 'THISLINE'\n",
    "seq2 = 'ISALIGNED'\n",
    "\n",
    "match = 1\n",
    "mismatch = -1\n",
    "gap = -2"
   ]
  },
  {
   "cell_type": "markdown",
   "metadata": {},
   "source": [
    "We'll use a `numpy` matrix for our score matrix. The size of this matrix needs to be the length of each sequence, _plus one_. We can create a 2-dimensional `numpy` matrix in the same way we created a 1-dimensional `numpy` array, using `zeros`. Instead of a single length, we use a tuple to indicate the dimensions of the matrix. Notice that the first dimension, corresponding to `seq1`, is the row number in this matrix and the second dimension, corresponding to `seq2`, is the column number. You can tell because `seq2` is one position longer than `seq1`, and likewise, there's one more column than row."
   ]
  },
  {
   "cell_type": "code",
   "execution_count": null,
   "metadata": {},
   "outputs": [],
   "source": [
    "import numpy as np\n"
   ]
  },
  {
   "cell_type": "markdown",
   "metadata": {},
   "source": [
    "We'll start by initializing the top and left-hand edges of the matrix. \n",
    "\n",
    "First, the very top-left corner is zero."
   ]
  },
  {
   "cell_type": "code",
   "execution_count": null,
   "metadata": {},
   "outputs": [],
   "source": []
  },
  {
   "cell_type": "markdown",
   "metadata": {},
   "source": [
    "The top of the matrix corresponds to gaps at the start in the aligned `seq1`, where the column / j number goes up but the row / i number stays 0.\n",
    "\n",
    "Because these entries are at the edge of the score matrix, the only possible way to make an alignment is to come from the previous cell on the top edge and add a gap. This means that the score formula is\n",
    "```\n",
    "score of (0, j) = score of (0, j-1) + gap\n",
    "```"
   ]
  },
  {
   "cell_type": "code",
   "execution_count": null,
   "metadata": {},
   "outputs": [],
   "source": [
    "\n",
    "print(scores)"
   ]
  },
  {
   "cell_type": "markdown",
   "metadata": {},
   "source": [
    "Now, we'll handle the left-hand edge of the matrix in the same way."
   ]
  },
  {
   "cell_type": "code",
   "execution_count": null,
   "metadata": {},
   "outputs": [],
   "source": [
    "\n",
    "print(scores)"
   ]
  },
  {
   "cell_type": "markdown",
   "metadata": {},
   "source": [
    "For the rest of the table, we have three options:\n",
    "* gap in sequence 1, so look in the cell with the same position in `seq1` (same i) but one earlier position in `seq2` (j - 1) and add a gap penalty\n",
    "* gap in sequence 2, so look in the cell with one earlier position in `seq1` (i - 1) and the same position in `seq2` (same j)\n",
    "* align the nucleotides from sequence 1 and sequence 2, which could be a match or a mismatch. We look in the cell above and to the left (i - 1 and j - 1), and then add the (mis)match score. One tricky point: when we're in row 1, we're looking back to `seq1` position 0, and so forth. \n",
    "\n",
    "We'll compute each of these three scores -- `gap1_score`, `gap2_score`, and `pair_score` -- and then choose the best of these three options.\n",
    "\n",
    "We'll loop over each position in the matrix and fill it in using the best score. When computing the score for a cell, we need to be sure that every other cell to the left and/or above is filled in already. Looping over rows from `i=1` to the end, and then within each row looping over columns from `j=1` to the end, is a safe way to do this."
   ]
  },
  {
   "cell_type": "code",
   "execution_count": null,
   "metadata": {},
   "outputs": [],
   "source": [
    "\n",
    "print(scores)"
   ]
  },
  {
   "cell_type": "markdown",
   "metadata": {},
   "source": [
    "## Alignment score statistics\n",
    "\n",
    "We can use the code from the cells above and turn them into a function that takes two sequences as input and computes an alignment score."
   ]
  },
  {
   "cell_type": "code",
   "execution_count": null,
   "metadata": {},
   "outputs": [],
   "source": [
    "def align_score(s1, s2):\n",
    "    scores = np.zeros((len(s1)+1, len(s2)+1))\n",
    "    scores[0,0] = 0\n",
    "    for j in range(1, len(s2)+1):\n",
    "        scores[0,j] = scores[0, j-1] + gap\n",
    "    for i in range(1, len(s1)+1):\n",
    "        scores[i,0] = scores[i-1,0] + gap\n",
    "    for i in range(1, len(s1) + 1):\n",
    "        for j in range(1, len(s2) + 1):\n",
    "            gap1_score = scores[i][j-1] + gap\n",
    "            gap2_score = scores[i-1][j] + gap\n",
    "            if s1[i-1] == s2[j-1]:\n",
    "                pair_score = scores[i-1][j-1] + match\n",
    "            else:\n",
    "                pair_score = scores[i-1][j-1] + mismatch\n",
    "            if gap1_score > gap2_score and gap1_score > pair_score:\n",
    "                scores[i][j] = gap1_score\n",
    "            elif gap2_score > gap1_score and gap2_score > pair_score:\n",
    "                scores[i][j] = gap2_score\n",
    "            else:\n",
    "                scores[i][j] = pair_score\n",
    "    return(scores[len(s1),len(s2)])\n",
    "align_score('THISLINE', 'ISALIGNED')"
   ]
  },
  {
   "cell_type": "markdown",
   "metadata": {},
   "source": [
    "Now we can generate _random_ sequences and test their alignment score against a query sequence."
   ]
  },
  {
   "cell_type": "code",
   "execution_count": null,
   "metadata": {},
   "outputs": [],
   "source": [
    "query = 'ACGTACGTACGTACGTACGT'\n"
   ]
  },
  {
   "cell_type": "markdown",
   "metadata": {},
   "source": [
    "We can plot a histogram of the scores"
   ]
  },
  {
   "cell_type": "code",
   "execution_count": null,
   "metadata": {},
   "outputs": [],
   "source": [
    "import matplotlib.pyplot as plt\n"
   ]
  },
  {
   "cell_type": "markdown",
   "metadata": {},
   "source": [
    "We can pick out the highest-scoring sequences"
   ]
  },
  {
   "cell_type": "code",
   "execution_count": null,
   "metadata": {},
   "outputs": [],
   "source": []
  },
  {
   "cell_type": "markdown",
   "metadata": {},
   "source": [
    "Biopython has pair-wise alignent built in. We can use the `PairwiseAligner` from the `Bio.Align` module to run the same computation that we carried out. First, we need to set up the right parameters for the aligner."
   ]
  },
  {
   "cell_type": "code",
   "execution_count": null,
   "metadata": {},
   "outputs": [],
   "source": [
    "!pip3 install biopython\n",
    "from Bio import Align\n",
    "aligner = Align.PairwiseAligner()\n",
    "print(aligner)\n",
    "aligner.score(\"THISLINE\", \"ISALIGNED\")"
   ]
  },
  {
   "cell_type": "markdown",
   "metadata": {},
   "source": [
    "The biopython aligner runs much faster than the tool we wrote here, so we can generate a lot more samples"
   ]
  },
  {
   "cell_type": "code",
   "execution_count": null,
   "metadata": {},
   "outputs": [],
   "source": []
  },
  {
   "cell_type": "markdown",
   "metadata": {},
   "source": [
    "Based on these samples, we can get a get a better estimate of rare, high-scoring alignments."
   ]
  },
  {
   "cell_type": "code",
   "execution_count": null,
   "metadata": {},
   "outputs": [],
   "source": []
  },
  {
   "cell_type": "markdown",
   "metadata": {},
   "source": [
    "You can also see an informative web tool that computes alignment matrices here:\n",
    "[Online Needleman-Wunsch tool](http://rna.informatik.uni-freiburg.de/Teaching/index.jsp?toolName=Needleman-Wunsch)"
   ]
  },
  {
   "cell_type": "markdown",
   "metadata": {},
   "source": [
    "## Bonus: Computing the optimal alignment\n",
    "\n",
    "Usually, we want to know the actual alignment between sequences, not just the score. To do this, we need to\n",
    "* keep track of the \"arrows\" in our matrix -- where did the score \"come from\"?\n",
    "* walk backwards through the matrix"
   ]
  },
  {
   "cell_type": "code",
   "execution_count": null,
   "metadata": {},
   "outputs": [],
   "source": [
    "def align(s1, s2):\n",
    "    # Initialize a matrix of scores and \"back steps\"\n",
    "    scores = np.zeros((len(s1)+1, len(s2)+1))\n",
    "    paths = np.full((len(s1)+1, len(s2)+1), 'NONE')\n",
    "    \n",
    "    scores[0,0] = 0\n",
    "    paths[0,0] = 'INIT'\n",
    "    \n",
    "    print(scores)\n",
    "    print(paths)\n",
    "    for j in range(1, len(s2)+1):\n",
    "        scores[0,j] = scores[0, j-1] + gap\n",
    "        paths[0,j] = 'GAP1'\n",
    "    print(scores)\n",
    "    print(paths)\n",
    "\n",
    "    for i in range(1, len(s1)+1):\n",
    "        scores[i,0] = scores[i-1,0] + gap\n",
    "        paths[i,0] = 'GAP2'\n",
    "    print(scores)\n",
    "    print(paths)\n",
    "    \n",
    "    for i in range(1, len(s1) + 1):\n",
    "        for j in range(1, len(s2) + 1):\n",
    "            gap1_score = scores[i][j-1] + gap\n",
    "            gap2_score = scores[i-1][j] + gap\n",
    "            if s1[i-1] == s2[j-1]:\n",
    "                pair_score = scores[i-1][j-1] + match\n",
    "            else:\n",
    "                pair_score = scores[i-1][j-1] + mismatch\n",
    "            if gap1_score > gap2_score and gap1_score > pair_score:\n",
    "                scores[i][j] = gap1_score\n",
    "                paths[i][j] = 'GAP1'\n",
    "            elif gap2_score > gap1_score and gap2_score > pair_score:\n",
    "                scores[i][j] = gap2_score\n",
    "                paths[i][j] = 'GAP2'\n",
    "            else:\n",
    "                scores[i][j] = pair_score\n",
    "                paths[i][j] = 'PAIR'\n",
    "\n",
    "    print(scores)\n",
    "    print(paths)\n",
    "    \n",
    "    align1 = ''\n",
    "    align2 = ''\n",
    "    i = len(s1)\n",
    "    j = len(s2)\n",
    "    while i > 0 or j > 0:\n",
    "        position = paths[i, j]\n",
    "        print(\"From\", (i, j), \"path\", position)\n",
    "        if position == 'GAP1':\n",
    "            j = j - 1\n",
    "            align1 = '-' + align1\n",
    "            align2 = s2[j] + align2\n",
    "        elif position == 'GAP2':\n",
    "            i = i - 1\n",
    "            align1 = s1[i] + align1\n",
    "            align2 = '-' + align2\n",
    "        elif position == 'PAIR':\n",
    "            i = i - 1\n",
    "            j = j - 1\n",
    "            align1 = s1[i] + align1\n",
    "            align2 = s2[j] + align2\n",
    "        else:\n",
    "            print(\"Unknown position\", position)\n",
    "            exit(1)\n",
    "    return (scores[len(s1),len(s2)], align1, align2)\n",
    "\n",
    "align('THISLINE', 'ISALIGNED')"
   ]
  }
 ],
 "metadata": {
  "kernelspec": {
   "display_name": "Python 3",
   "language": "python",
   "name": "python3"
  },
  "language_info": {
   "codemirror_mode": {
    "name": "ipython",
    "version": 3
   },
   "file_extension": ".py",
   "mimetype": "text/x-python",
   "name": "python",
   "nbconvert_exporter": "python",
   "pygments_lexer": "ipython3",
   "version": "3.7.4"
  }
 },
 "nbformat": 4,
 "nbformat_minor": 2
}
