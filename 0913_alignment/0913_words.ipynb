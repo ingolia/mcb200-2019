{
 "cells": [
  {
   "cell_type": "markdown",
   "metadata": {},
   "source": [
    "## BLAST-style searching\n",
    "\n",
    "We'll create an index of every 3-residue sequence in the yeast proteome and use it to search quickly for homologous genes.\n",
    "\n",
    "First, we need to read in the yeast proteome. This should be familiar from the signal peptide homework..."
   ]
  },
  {
   "cell_type": "code",
   "execution_count": null,
   "metadata": {},
   "outputs": [],
   "source": [
    "!pip3 install biopython\n",
    "from Bio import SeqIO\n",
    "first_gene = next(SeqIO.parse(\"../S288C_R64-2-1/orf_trans_all_R64-2-1_20150113.fasta\", \"fasta\"))\n",
    "print(first_gene.id, str(first_gene.seq))     "
   ]
  },
  {
   "cell_type": "markdown",
   "metadata": {},
   "source": [
    "Now, we need to extract the 3-residue \"words\" from gene sequences.\n",
    "\n",
    "This is a lot like pulling out dinucleotides in order to look at conditional probabilities.\n",
    "\n",
    "We'll start by grabbing the first 20 words from the first yeast gene, and reporting the amino acid 3-mer word along with the gene name and position."
   ]
  },
  {
   "cell_type": "code",
   "execution_count": null,
   "metadata": {},
   "outputs": [],
   "source": []
  },
  {
   "cell_type": "markdown",
   "metadata": {},
   "source": [
    "Next, we'll create a dictionary where keys are 3-residue words and values are lists of (gene, position) tuples. That is, for every 3-residue word, we'll have a list of gene and position where that word shows up."
   ]
  },
  {
   "cell_type": "code",
   "execution_count": null,
   "metadata": {},
   "outputs": [],
   "source": [
    "\n",
    "print(words['VLT'])\n",
    "print(words['VSD'])"
   ]
  },
  {
   "cell_type": "markdown",
   "metadata": {},
   "source": [
    "Now, we can build this dictionary index for the whole yeast proteome. The resulting dictionary is quite large! "
   ]
  },
  {
   "cell_type": "code",
   "execution_count": null,
   "metadata": {},
   "outputs": [],
   "source": [
    "\n",
    "print(first_word[0], len(first_word[1]))\n",
    "print(list(words.items())[0])"
   ]
  },
  {
   "cell_type": "markdown",
   "metadata": {},
   "source": [
    "Now we can search our dictionary for proteins that share many words with the URA3 gene from Candida albicans."
   ]
  },
  {
   "cell_type": "code",
   "execution_count": null,
   "metadata": {},
   "outputs": [],
   "source": []
  },
  {
   "cell_type": "markdown",
   "metadata": {},
   "source": [
    "We can also search for \"hits\" that match the human gene orotidine 5'-phosphate decarboxylase"
   ]
  },
  {
   "cell_type": "code",
   "execution_count": null,
   "metadata": {},
   "outputs": [],
   "source": [
    "# Search for \"orotidine 5'-phosphate decarboxylase human\"\n"
   ]
  },
  {
   "cell_type": "code",
   "execution_count": null,
   "metadata": {},
   "outputs": [],
   "source": []
  }
 ],
 "metadata": {
  "kernelspec": {
   "display_name": "Python 3",
   "language": "python",
   "name": "python3"
  },
  "language_info": {
   "codemirror_mode": {
    "name": "ipython",
    "version": 3
   },
   "file_extension": ".py",
   "mimetype": "text/x-python",
   "name": "python",
   "nbconvert_exporter": "python",
   "pygments_lexer": "ipython3",
   "version": "3.7.4"
  }
 },
 "nbformat": 4,
 "nbformat_minor": 2
}
