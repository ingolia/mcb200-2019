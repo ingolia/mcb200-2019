{
 "cells": [
  {
   "cell_type": "markdown",
   "metadata": {},
   "source": [
    "We'll continue our work with ChIP-Seq peaks. First, we'll load the BED file of summits."
   ]
  },
  {
   "cell_type": "code",
   "execution_count": null,
   "metadata": {},
   "outputs": [],
   "source": [
    "import pandas as pd\n",
    "\n",
    "summits = pd.read_csv(\"ChIP_1M_summits.bed\",\n",
    "                      sep=\"\\t\", header=None,\n",
    "                      names=[\"chrom\", \"start\", \"end\", \"name\", \"score\"])\n",
    "summits.head()"
   ]
  },
  {
   "cell_type": "markdown",
   "metadata": {},
   "source": [
    "Now, we want to sort the summits by score in descending order, so the highest-scoring peaks are at the top."
   ]
  },
  {
   "cell_type": "code",
   "execution_count": null,
   "metadata": {},
   "outputs": [],
   "source": [
    "summits_sorted = summits.sort_values(by=\"score\", ascending=False)\n",
    "print(summits_sorted.head())"
   ]
  },
  {
   "cell_type": "markdown",
   "metadata": {},
   "source": [
    "Then, we can take the 25 highest-scoring summits from the top of the list using head"
   ]
  },
  {
   "cell_type": "code",
   "execution_count": null,
   "metadata": {},
   "outputs": [],
   "source": [
    "summits25 = summits_sorted.head(25)\n",
    "summits25"
   ]
  },
  {
   "cell_type": "markdown",
   "metadata": {},
   "source": [
    "Set up pybedtools again (it should be faster after the first time!)"
   ]
  },
  {
   "cell_type": "code",
   "execution_count": null,
   "metadata": {},
   "outputs": [],
   "source": [
    "!pip3 install pybedtools\n",
    "import pybedtools\n",
    "#pybedtools.helpers.set_bedtools_path(\"/home/jovyan/mcb200-2019/bedtools2/bin/\")"
   ]
  },
  {
   "cell_type": "markdown",
   "metadata": {},
   "source": [
    "Convert the top-25 summits data frame into a BedTool object of genome locations"
   ]
  },
  {
   "cell_type": "code",
   "execution_count": null,
   "metadata": {},
   "outputs": [],
   "source": [
    "summits25bed = pybedtools.BedTool.from_dataframe(summits25)"
   ]
  },
  {
   "cell_type": "markdown",
   "metadata": {},
   "source": [
    "Create another BedTool object of genes from the yeast genome"
   ]
  },
  {
   "cell_type": "code",
   "execution_count": null,
   "metadata": {},
   "outputs": [],
   "source": [
    "genes = pybedtools.BedTool('../S288C_R64-2-1/saccharomyces_cerevisiae_R64-2-1_20150113_mrna.bed')\n",
    "genes.head()"
   ]
  },
  {
   "cell_type": "markdown",
   "metadata": {},
   "source": [
    "Find the genes that are closest to the high-scoring BED summits -- these are potential Hsf1 targets.\n"
   ]
  },
  {
   "cell_type": "code",
   "execution_count": null,
   "metadata": {},
   "outputs": [],
   "source": [
    "summits25bed = summits25bed.sort()\n",
    "genes = genes.sort()\n",
    "neighbors_bed = summits25bed.closest(genes, k=2)\n",
    "print(neighbors_bed)\n"
   ]
  },
  {
   "cell_type": "markdown",
   "metadata": {},
   "source": [
    "Convert the BED file back into a data frame"
   ]
  },
  {
   "cell_type": "code",
   "execution_count": null,
   "metadata": {},
   "outputs": [],
   "source": [
    "neighbors = neighbors_bed.to_dataframe()\n",
    "neighbors.head()"
   ]
  },
  {
   "cell_type": "markdown",
   "metadata": {},
   "source": [
    "We'd like to know a bit about these genes without needing to look them all up individually on SGD.\n",
    "\n",
    "We can get this information from another data table from the yeast genome database that maps systematic names (e.g., YAL005C) to standard names (e.g. SSA1) and includes a brief synopsis of the gene function."
   ]
  },
  {
   "cell_type": "code",
   "execution_count": null,
   "metadata": {},
   "outputs": [],
   "source": [
    "sgd = pd.read_csv(\"../S288C_R64-2-1/SGD_features.tab\",\n",
    "                      sep=\"\\t\", header=None)\n",
    "sgd = sgd[ [3,4,15] ]\n",
    "neighbors = neighbors[ ['chrom', 'start', 'end', 'score', 'itemRgb'] ]\n",
    "sgd.head(20)"
   ]
  },
  {
   "cell_type": "markdown",
   "metadata": {},
   "source": [
    "We merge the data frame of neighboring genes with the data frame of gene names.\n",
    "\n",
    "We use a _left_ join because we want to keep every row in the left data frame, `neighbors`.\n",
    "\n",
    "We join `itemRgb` from neighbors (which contains systematic names) with `3` from sgd (which contains systematic names)."
   ]
  },
  {
   "cell_type": "code",
   "execution_count": null,
   "metadata": {},
   "outputs": [],
   "source": [
    "neighbors.merge(sgd, left_on=\"itemRgb\", right_on=3, how=\"left\")"
   ]
  },
  {
   "cell_type": "markdown",
   "metadata": {},
   "source": [
    "It looks like we have some genes with the same underlying function -- but are there more than we expect by chance?\n",
    "\n",
    "We can write a table of all the gene names with Hsf1 targets and search Gene Ontology for enrichment."
   ]
  },
  {
   "cell_type": "code",
   "execution_count": null,
   "metadata": {},
   "outputs": [],
   "source": [
    "print(neighbors['itemRgb'].to_string(index=False))"
   ]
  },
  {
   "cell_type": "markdown",
   "metadata": {},
   "source": [
    "## Motif Searching\n",
    "\n",
    "We can also extract the DNA sequences around the Hsf1 summits to look for an enriched DNA motif.\n",
    "\n",
    "First, we need to define the regions of interest. The summit itself is just 1 nt long, so we extend it 100 bases in each direction using the pybedtools `slop` function."
   ]
  },
  {
   "cell_type": "code",
   "execution_count": null,
   "metadata": {},
   "outputs": [],
   "source": [
    "motif_regions = summits25bed.slop(b=100, g=\"../S288C_R64-2-1/S288C_reference_sequence_R64-2-1_20150113_genome.txt\")\n",
    "print(motif_regions)"
   ]
  },
  {
   "cell_type": "markdown",
   "metadata": {},
   "source": [
    "Now, we can extract the sequence for these motif regions"
   ]
  },
  {
   "cell_type": "code",
   "execution_count": null,
   "metadata": {},
   "outputs": [],
   "source": [
    "res = motif_regions.sequence(fi=\"../S288C_R64-2-1/S288C_reference_sequence_R64-2-1_20150113.fsa\")\n",
    "print(res.seqfn)\n",
    "print(open(res.seqfn).read())"
   ]
  }
 ],
 "metadata": {
  "kernelspec": {
   "display_name": "Python 3",
   "language": "python",
   "name": "python3"
  },
  "language_info": {
   "codemirror_mode": {
    "name": "ipython",
    "version": 3
   },
   "file_extension": ".py",
   "mimetype": "text/x-python",
   "name": "python",
   "nbconvert_exporter": "python",
   "pygments_lexer": "ipython3",
   "version": "3.7.4"
  }
 },
 "nbformat": 4,
 "nbformat_minor": 2
}
