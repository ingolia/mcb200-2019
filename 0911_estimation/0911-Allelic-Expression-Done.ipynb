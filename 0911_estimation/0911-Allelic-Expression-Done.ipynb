{
 "cells": [
  {
   "cell_type": "markdown",
   "metadata": {},
   "source": [
    "# Allele-Specific Expression\n",
    "\n",
    "RNA sequencing can distinguish transcripts expressed from different copies of genes on homologous chromosomes when single-nucleotide polymorphisms (perhaps silent) distinguish the two alleles. Linkage between these distinctive SNPs and _cis_-regulatory sequences can provide information on regulatory variation within a shared cellular context."
   ]
  },
  {
   "cell_type": "markdown",
   "metadata": {},
   "source": [
    "## Null Hypothesis Testing\n",
    "\n",
    "The null hypothesis in allele-specific expression analysis is that the alleles are expressed equally and so each read is equally likely to be derived from each allele.\n",
    "\n",
    "Here, we'll take two approaches to get a _p_ value for the null hypothesis of equal expression in situations where just 25% of the reads come from one allele and 75% from the other. We'll look at this with just 8 reads, with 32 reads, and then with 100 reads."
   ]
  },
  {
   "cell_type": "markdown",
   "metadata": {},
   "source": [
    "### Permutation Testing\n",
    "\n",
    "First, we'll generate many random sets of data according to the null model and look at the distribution of allele skew in these random data. Our approach to generating random sets of reads is simple: we choose randomly between `0` and `1`, and then count how often we choose `1` by summing the results of this random choice."
   ]
  },
  {
   "cell_type": "code",
   "execution_count": 8,
   "metadata": {},
   "outputs": [
    {
     "name": "stdout",
     "output_type": "stream",
     "text": [
      "G\n",
      "[0 0 0 1 0 0 1 1]\n",
      "5\n"
     ]
    }
   ],
   "source": [
    "import numpy as np\n",
    "#import matplotlib.pyplot as plt\n",
    "\n",
    "print(np.random.choice(['A', 'C', 'G', 'T']))\n",
    "print(np.random.choice([0,1], 8))\n",
    "random_numbers = np.random.choice([0,1], 8)\n",
    "print(sum(random_numbers))"
   ]
  },
  {
   "cell_type": "markdown",
   "metadata": {},
   "source": [
    "Now, we'll generate 10,000 random samples of 8 reads each, and tabulate how many random samples have zero, one, ..., eight reads from that sample."
   ]
  },
  {
   "cell_type": "code",
   "execution_count": 13,
   "metadata": {},
   "outputs": [
    {
     "name": "stdout",
     "output_type": "stream",
     "text": [
      "[0, 0, 0, 0, 0, 0, 0, 0, 0]\n",
      "reads= [1 1 0 0 0 1 0 1] 4 counts= [0, 0, 0, 0, 1, 0, 0, 0, 0]\n",
      "reads= [0 0 1 1 0 1 0 1] 4 counts= [0, 0, 0, 0, 2, 0, 0, 0, 0]\n",
      "reads= [0 0 1 0 1 1 0 1] 4 counts= [0, 0, 0, 0, 3, 0, 0, 0, 0]\n",
      "reads= [1 1 0 1 0 0 0 1] 4 counts= [0, 0, 0, 0, 4, 0, 0, 0, 0]\n",
      "reads= [1 0 0 0 1 0 0 0] 2 counts= [0, 0, 1, 0, 4, 0, 0, 0, 0]\n",
      "reads= [0 0 0 1 1 0 1 1] 4 counts= [0, 0, 1, 0, 5, 0, 0, 0, 0]\n",
      "reads= [1 0 0 0 1 0 0 0] 2 counts= [0, 0, 2, 0, 5, 0, 0, 0, 0]\n",
      "reads= [1 1 1 1 1 1 0 0] 6 counts= [0, 0, 2, 0, 5, 0, 1, 0, 0]\n",
      "reads= [0 0 0 1 0 1 0 1] 3 counts= [0, 0, 2, 1, 5, 0, 1, 0, 0]\n",
      "reads= [1 1 0 0 0 0 0 1] 3 counts= [0, 0, 2, 2, 5, 0, 1, 0, 0]\n"
     ]
    }
   ],
   "source": [
    "allele_counts_8 = [0]*9\n",
    "print(allele_counts_8)\n",
    "for i in range(0,10):\n",
    "    reads = np.random.choice([0,1],8)\n",
    "    n_reads = sum(reads)\n",
    "    allele_counts_8[n_reads] = allele_counts_8[n_reads] + 1\n",
    "    print(\"reads=\", reads, n_reads, \"counts=\",allele_counts_8)\n",
    "    \n",
    "nucleotides = np.random.choice(['A', 'C'], 8)\n",
    "num_As = 0\n",
    "for nt in nucleotides:\n",
    "    if nt == 'A':\n",
    "        num_As = num_As + 1"
   ]
  },
  {
   "cell_type": "code",
   "execution_count": 14,
   "metadata": {},
   "outputs": [
    {
     "name": "stdout",
     "output_type": "stream",
     "text": [
      "[0, 0, 0, 0, 0, 0, 0, 0, 0]\n",
      "[46, 291, 1081, 2142, 2757, 2241, 1114, 298, 30]\n"
     ]
    }
   ],
   "source": [
    "allele_counts_8 = [0] * 9\n",
    "print(allele_counts_8)\n",
    "for i in range(0,10000):\n",
    "    n_reads = sum(np.random.choice([0,1], 8))\n",
    "    allele_counts_8[n_reads] += 1\n",
    "    # x = x + 1 is the same as x += 1\n",
    "print(allele_counts_8)\n"
   ]
  },
  {
   "cell_type": "markdown",
   "metadata": {},
   "source": [
    "Next, we'll plot the distribution"
   ]
  },
  {
   "cell_type": "code",
   "execution_count": 16,
   "metadata": {},
   "outputs": [
    {
     "data": {
      "text/plain": [
       "[<matplotlib.lines.Line2D at 0x7f3d804e9e10>]"
      ]
     },
     "execution_count": 16,
     "metadata": {},
     "output_type": "execute_result"
    },
    {
     "data": {
      "image/png": "[encoded data removed]",
      "text/plain": [
       "<Figure size 432x288 with 1 Axes>"
      ]
     },
     "metadata": {
      "needs_background": "light"
     },
     "output_type": "display_data"
    }
   ],
   "source": [
    "import matplotlib.pyplot as plt\n",
    "plt.plot(allele_counts_8)"
   ]
  },
  {
   "cell_type": "markdown",
   "metadata": {},
   "source": [
    "We can use this to ask: in what fraction of random samples do you see 12.5% (one-eighth) or fewer `1` reads? What can you conclude from seeing this kind of skew in a sample of 8 reads?"
   ]
  },
  {
   "cell_type": "code",
   "execution_count": 17,
   "metadata": {},
   "outputs": [
    {
     "name": "stdout",
     "output_type": "stream",
     "text": [
      "337\n",
      "10000\n",
      "0.0337\n"
     ]
    }
   ],
   "source": [
    "print(allele_counts_8[0] + allele_counts_8[1])\n",
    "print(sum(allele_counts_8))\n",
    "print(sum(allele_counts_8[0:2]) / sum(allele_counts_8))"
   ]
  },
  {
   "cell_type": "markdown",
   "metadata": {},
   "source": [
    "What if we had no prior reason to look for a strong skew in one direction versus the other? That is, we're interested in situations where we had ≤12.5% or ≥87.5% frequence of `1` alleles?"
   ]
  },
  {
   "cell_type": "code",
   "execution_count": 18,
   "metadata": {},
   "outputs": [
    {
     "name": "stdout",
     "output_type": "stream",
     "text": [
      "337\n",
      "328\n",
      "0.0665\n"
     ]
    }
   ],
   "source": [
    "print(allele_counts_8[0] + allele_counts_8[1])\n",
    "print(allele_counts_8[7] + allele_counts_8[8])\n",
    "\n",
    "print((sum(allele_counts_8[0:2]) \n",
    "       + sum(allele_counts_8[7:9])) \n",
    "      / sum(allele_counts_8))"
   ]
  },
  {
   "cell_type": "markdown",
   "metadata": {},
   "source": [
    "We can repeat the same analysis, for 32 reads per random sample."
   ]
  },
  {
   "cell_type": "code",
   "execution_count": 25,
   "metadata": {},
   "outputs": [
    {
     "name": "stdout",
     "output_type": "stream",
     "text": [
      "13\n",
      "[0, 0, 1, 8, 94, 478, 2126, 7776, 24585, 65306, 149626, 300562, 524526, 809315, 1097962, 1317243, 1400101, 1316716, 1097614, 808085, 526377, 301605, 149871, 65063, 24481, 7792, 2155, 443, 75, 13, 1, 0, 0]\n"
     ]
    },
    {
     "data": {
      "text/plain": [
       "[<matplotlib.lines.Line2D at 0x7f3d7ff755f8>]"
      ]
     },
     "execution_count": 25,
     "metadata": {},
     "output_type": "execute_result"
    },
    {
     "data": {
      "image/png": "[encoded data removed]",
      "text/plain": [
       "<Figure size 432x288 with 1 Axes>"
      ]
     },
     "metadata": {
      "needs_background": "light"
     },
     "output_type": "display_data"
    }
   ],
   "source": [
    "print(sum(np.random.choice([0,1], 32)))\n",
    "allele_counts_32 = [0] * 33\n",
    "for i in range(0,10000000):\n",
    "    n_reads = sum(np.random.choice([0,1], 32))\n",
    "    allele_counts_32[n_reads] += 1\n",
    "print(allele_counts_32)\n",
    "plt.plot(allele_counts_32)"
   ]
  },
  {
   "cell_type": "markdown",
   "metadata": {},
   "source": [
    "Now we can test for a similar skew in our 32-read samples. "
   ]
  },
  {
   "cell_type": "code",
   "execution_count": 23,
   "metadata": {},
   "outputs": [
    {
     "name": "stdout",
     "output_type": "stream",
     "text": [
      "1\n",
      "0\n",
      "0.0001\n"
     ]
    }
   ],
   "source": [
    "print(sum(allele_counts_32[0:5]))\n",
    "print(sum(allele_counts_32[28:33]))\n",
    "print((sum(allele_counts_32[0:5]) \n",
    "       + sum(allele_counts_32[28:33])) \n",
    "      / sum(allele_counts_32))"
   ]
  },
  {
   "cell_type": "markdown",
   "metadata": {},
   "source": [
    "What about a stronger skew: at least 31 reads from one allele and no more than 1 from the other?"
   ]
  },
  {
   "cell_type": "code",
   "execution_count": 21,
   "metadata": {},
   "outputs": [
    {
     "name": "stdout",
     "output_type": "stream",
     "text": [
      "0.0\n"
     ]
    }
   ],
   "source": [
    "print((sum(allele_counts_32[0:2]) \n",
    "       + sum(allele_counts_32[31:33])) \n",
    "      / sum(allele_counts_32))"
   ]
  },
  {
   "cell_type": "markdown",
   "metadata": {},
   "source": [
    "## Random Variables\n",
    "\n",
    "There is probably a small but non-zero odds of getting this strong skew in the 32-read sample -- but we would need to generate a lot of random samples in order to figure out exactly how small. Instead, we can treat the number of reads from the `1` allele as a random variable with a binomial distribution. This isn't always a fair description of biological data, but it's a reasonable starting point here. \n",
    "\n",
    "### Binomial Distribution\n",
    "\n",
    "The scipy package contains a statistics module with a sub-module specific for the binomial distribution. We can get the probability\n",
    "```\n",
    "P( k successes out of N trials with probability p of success per trial )\n",
    "```\n",
    "using\n",
    "```\n",
    "binom.pmf(k, N, p)\n",
    "```\n",
    "\"pmf\" here stands for \"probability mass function\".\n",
    "\n",
    "For instance, we can ask about exactly 2 \"successes\" out of 8 \"trials\" -- think of this as 2 reads from the `1` allele out of 8 reads counted in total. We can also ask abotu exactly 2 reads from the `1` allele out of 32 total."
   ]
  },
  {
   "cell_type": "code",
   "execution_count": 27,
   "metadata": {},
   "outputs": [
    {
     "name": "stdout",
     "output_type": "stream",
     "text": [
      "Requirement already satisfied: scipy in /srv/app/venv/lib/python3.6/site-packages\n",
      "Requirement already satisfied: numpy>=1.8.2 in /srv/app/venv/lib/python3.6/site-packages (from scipy)\n",
      "0.10937500000000006\n",
      "2.328306436538698e-10\n"
     ]
    }
   ],
   "source": [
    "!pip3 install scipy\n",
    "from scipy.stats import binom\n",
    "print(binom.pmf(2, 8, 0.5))\n",
    "print(binom.pmf(0, 32, 0.5))"
   ]
  },
  {
   "cell_type": "markdown",
   "metadata": {},
   "source": [
    "We can also test a range of different k values, making it easy to sum up across many possibilities:"
   ]
  },
  {
   "cell_type": "code",
   "execution_count": 33,
   "metadata": {},
   "outputs": [
    {
     "name": "stdout",
     "output_type": "stream",
     "text": [
      "k= 0 binominal(k,32,0.5)= 2.328306436538698e-10\n",
      "k= 1 binominal(k,32,0.5)= 7.450580596923771e-09\n",
      "k= 2 binominal(k,32,0.5)= 1.1548399925231895e-07\n",
      "k= 3 binominal(k,32,0.5)= 1.154839992523193e-06\n",
      "k= 4 binominal(k,32,0.5)= 8.372589945793018e-06\n"
     ]
    }
   ],
   "source": [
    "for k in range(0,5):\n",
    "    print(\"k=\", k, \"binominal(k,32,0.5)=\", binom.pmf(k,32,0.5))"
   ]
  },
  {
   "cell_type": "code",
   "execution_count": 34,
   "metadata": {},
   "outputs": [
    {
     "name": "stdout",
     "output_type": "stream",
     "text": [
      "[2.32830644e-10 7.45058060e-09 1.15483999e-07 1.15483999e-06\n",
      " 8.37258995e-06]\n",
      "9.650597348809107e-06\n"
     ]
    }
   ],
   "source": [
    "print(binom.pmf(range(0,5), 32, 0.5))\n",
    "print(sum(binom.pmf(range(0,5), 32, 0.5)))"
   ]
  },
  {
   "cell_type": "markdown",
   "metadata": {},
   "source": [
    "We can use this to compute a precise value for the very small probability of the 1-or-fewer vs 31-or-more skew in 32 reads."
   ]
  },
  {
   "cell_type": "code",
   "execution_count": 35,
   "metadata": {},
   "outputs": [
    {
     "name": "stdout",
     "output_type": "stream",
     "text": [
      "[2.32830644e-10 7.45058060e-09 7.45058060e-09 2.32830644e-10]\n",
      "1.536682248115531e-08\n"
     ]
    }
   ],
   "source": [
    "print(binom.pmf([0,1,31,32], 32, 0.5))\n",
    "print(sum(binom.pmf([0,1,31,32], 32, 0.5)))"
   ]
  },
  {
   "cell_type": "markdown",
   "metadata": {},
   "source": [
    "We'd need to run a lot of simulations to find that p-value reliably!\n",
    "\n",
    "We can also plot this distribution and compare it to our simulations."
   ]
  },
  {
   "cell_type": "code",
   "execution_count": 40,
   "metadata": {},
   "outputs": [
    {
     "data": {
      "text/plain": [
       "[<matplotlib.lines.Line2D at 0x7f3d9fe63e80>]"
      ]
     },
     "execution_count": 40,
     "metadata": {},
     "output_type": "execute_result"
    },
    {
     "data": {
      "image/png": "[encoded data removed]",
      "text/plain": [
       "<Figure size 432x288 with 1 Axes>"
      ]
     },
     "metadata": {
      "needs_background": "light"
     },
     "output_type": "display_data"
    }
   ],
   "source": [
    "plt.plot(binom.pmf(range(0,32), 32, 0.5) * 10000000, '.-r')\n",
    "plt.plot(allele_counts_32, 'o--b')"
   ]
  },
  {
   "cell_type": "markdown",
   "metadata": {},
   "source": [
    "## Maximum Likelihood Estimation\n",
    "\n",
    "Instead of simply testing whether allele expression is even, we want to _estimate_ the relative skew in expression. To do this, we will start by making a graph where we consider all possible bias values, and then figure out the likelihood function P( 4 reads out of 32 | bias ). We'll use the `binom.pmf` function again, but now we'll consider many different values for the 3rd _p_ parameter instead of the first one.\n",
    "\n",
    "This graph looks similar to others that we've made, but the axes are different -- we'll add x and y axis labels to emphasize this difference."
   ]
  },
  {
   "cell_type": "code",
   "execution_count": 44,
   "metadata": {},
   "outputs": [
    {
     "data": {
      "text/plain": [
       "array([0.00000000e+00, 5.26339530e-78, 2.94189501e-62, 3.90939770e-53,\n",
       "       1.00540105e-46, 8.41068796e-42, 8.04335490e-38, 1.71912139e-34,\n",
       "       1.22520578e-31, 3.76886240e-29, 5.96773852e-27, 5.51511367e-25,\n",
       "       3.26364922e-23, 1.32682727e-21, 3.91403713e-20, 8.74859034e-19,\n",
       "       1.53425437e-17, 2.17207600e-16, 2.54159106e-15, 2.50696678e-14,\n",
       "       2.11948819e-13, 1.55778585e-12, 1.00753526e-11, 5.79497056e-11,\n",
       "       2.99120715e-10, 1.39672749e-09, 5.94141806e-09, 2.31667850e-08,\n",
       "       8.32558647e-08, 2.77107398e-07, 8.57918875e-07, 2.48021243e-06,\n",
       "       6.71861245e-06, 1.71067056e-05, 4.10543723e-05, 9.30992013e-05,\n",
       "       1.99941599e-04, 4.07482575e-04, 7.89499518e-04, 1.45659314e-03,\n",
       "       2.56271405e-03, 4.30527399e-03, 6.91416805e-03, 1.06257160e-02,\n",
       "       1.56401518e-02, 2.20658915e-02, 2.98595758e-02, 3.87761051e-02,\n",
       "       4.83453350e-02, 5.78898415e-02, 6.65905000e-02, 7.35947673e-02,\n",
       "       7.81496813e-02, 7.97319258e-02, 7.81446413e-02, 7.35567501e-02,\n",
       "       6.64741922e-02, 5.76496407e-02, 4.79525989e-02, 3.82304777e-02,\n",
       "       2.91909148e-02, 2.13269931e-02, 1.48936254e-02, 9.92983414e-03,\n",
       "       6.31201467e-03, 3.81959951e-03, 2.19659265e-03, 1.19820619e-03,\n",
       "       6.18633162e-04, 3.01587447e-04, 1.38454455e-04, 5.96774456e-05,\n",
       "       2.40691984e-05, 9.04941164e-06, 3.15820519e-06, 1.01821434e-06,\n",
       "       3.01620318e-07, 8.15884287e-08, 2.00120594e-08, 4.41524221e-09,\n",
       "       8.68142363e-10, 1.50500204e-10, 2.27171454e-11, 2.94204996e-12,\n",
       "       3.21257436e-13, 2.89670374e-14, 2.10303952e-15, 1.19198225e-16,\n",
       "       5.07588800e-18, 1.54717129e-19, 3.17150093e-21, 4.02720353e-23,\n",
       "       2.83397543e-25, 9.45400867e-28, 1.18931488e-30, 3.95688225e-34,\n",
       "       1.92135133e-38, 4.46696686e-44, 4.07196138e-52, 4.95538219e-66,\n",
       "       0.00000000e+00])"
      ]
     },
     "execution_count": 44,
     "metadata": {},
     "output_type": "execute_result"
    }
   ],
   "source": [
    "np.arange(0,1.01,0.01)\n",
    "binom.pmf(53, 100, np.arange(0,1.01,0.01))"
   ]
  },
  {
   "cell_type": "code",
   "execution_count": 45,
   "metadata": {},
   "outputs": [
    {
     "name": "stdout",
     "output_type": "stream",
     "text": [
      "[0.   0.01 0.02 0.03 0.04 0.05 0.06 0.07 0.08 0.09 0.1  0.11 0.12 0.13\n",
      " 0.14 0.15 0.16 0.17 0.18 0.19 0.2  0.21 0.22 0.23 0.24 0.25 0.26 0.27\n",
      " 0.28 0.29 0.3  0.31 0.32 0.33 0.34 0.35 0.36 0.37 0.38 0.39 0.4  0.41\n",
      " 0.42 0.43 0.44 0.45 0.46 0.47 0.48 0.49 0.5  0.51 0.52 0.53 0.54 0.55\n",
      " 0.56 0.57 0.58 0.59 0.6  0.61 0.62 0.63 0.64 0.65 0.66 0.67 0.68 0.69\n",
      " 0.7  0.71 0.72 0.73 0.74 0.75 0.76 0.77 0.78 0.79 0.8  0.81 0.82 0.83\n",
      " 0.84 0.85 0.86 0.87 0.88 0.89 0.9  0.91 0.92 0.93 0.94 0.95 0.96 0.97\n",
      " 0.98 0.99]\n",
      "[0.00000000e+00 2.71397056e-04 3.26790773e-03 1.24140435e-02\n",
      " 2.93531135e-02 5.34515925e-02 8.24146817e-02 1.13170804e-01\n",
      " 1.42639168e-01 1.68247533e-01 1.88195809e-01 2.01516499e-01\n",
      " 2.07998157e-01 2.08032968e-01 2.02436332e-01 1.92271378e-01\n",
      " 1.78697972e-01 1.62855322e-01 1.45779874e-01 1.28355539e-01\n",
      " 1.11290810e-01 9.51164030e-02 8.01972140e-02 6.67530835e-02\n",
      " 5.48839340e-02 4.45959164e-02 3.58262397e-02 2.84652382e-02\n",
      " 2.23749312e-02 1.74038543e-02 1.33983038e-02 1.02103587e-02\n",
      " 7.70316414e-03 5.75400080e-03 4.25564651e-03 3.11649078e-03\n",
      " 2.25979455e-03 1.62241504e-03 1.15324446e-03 8.11546654e-04\n",
      " 5.65320402e-04 3.89772717e-04 2.65950410e-04 1.79551676e-04\n",
      " 1.19920973e-04 7.92182135e-05 5.17459405e-05 3.34145382e-05\n",
      " 2.13244704e-05 1.34452516e-05 8.37258995e-06 5.14743212e-06\n",
      " 3.12311304e-06 1.86923190e-06 1.10309778e-06 6.41535697e-07\n",
      " 3.67491021e-07 2.07222000e-07 1.14950745e-07 6.26867447e-08\n",
      " 3.35818364e-08 1.76582646e-08 9.10598952e-09 4.60076610e-09\n",
      " 2.27514772e-09 1.09996370e-09 5.19284192e-10 2.39061263e-10\n",
      " 1.07165434e-10 4.67028596e-11 1.97518135e-11 8.09090346e-12\n",
      " 3.20312986e-12 1.22263414e-12 4.48745705e-13 1.57901036e-13\n",
      " 5.30870778e-14 1.69887722e-14 5.15267982e-15 1.47390096e-15\n",
      " 3.95384381e-16 9.88235806e-17 2.28404805e-17 4.83840091e-18\n",
      " 9.29600485e-19 1.59974455e-19 2.42883765e-20 3.19382090e-21\n",
      " 3.55488259e-22 3.25368042e-23 2.35933560e-24 1.29055203e-25\n",
      " 4.98299703e-27 1.23736150e-28 1.72411452e-30 1.09112429e-32\n",
      " 2.20081923e-35 7.28285649e-39 8.90356358e-44 3.45430325e-52]\n"
     ]
    },
    {
     "data": {
      "text/plain": [
       "Text(0, 0.5, 'P(4 reads / 32 total)')"
      ]
     },
     "execution_count": 45,
     "metadata": {},
     "output_type": "execute_result"
    },
    {
     "data": {
      "image/png": "[encoded data removed]",
      "text/plain": [
       "<Figure size 432x288 with 1 Axes>"
      ]
     },
     "metadata": {
      "needs_background": "light"
     },
     "output_type": "display_data"
    }
   ],
   "source": [
    "bias = np.arange(0,1,0.01)\n",
    "print(bias)\n",
    "print(binom.pmf(4, 32, bias))\n",
    "plt.plot(bias, binom.pmf(4, 32, bias))\n",
    "plt.xlabel('Allele bias')\n",
    "plt.ylabel('P(4 reads / 32 total)')"
   ]
  },
  {
   "cell_type": "markdown",
   "metadata": {},
   "source": [
    "As we discussed before, we often want to work with log likelihood functions. In fact, `binom` has the built-in ability to give us a log probability that will be numerically stable when the actual likelihood is a very tiny number, using the `logpmf` method."
   ]
  },
  {
   "cell_type": "code",
   "execution_count": 46,
   "metadata": {},
   "outputs": [
    {
     "data": {
      "text/plain": [
       "[<matplotlib.lines.Line2D at 0x7f3d9fdbef28>]"
      ]
     },
     "execution_count": 46,
     "metadata": {},
     "output_type": "execute_result"
    },
    {
     "data": {
      "image/png": "[encoded data removed]",
      "text/plain": [
       "<Figure size 432x288 with 1 Axes>"
      ]
     },
     "metadata": {
      "needs_background": "light"
     },
     "output_type": "display_data"
    }
   ],
   "source": [
    "plt.figure()\n",
    "plt.plot(bias, binom.logpmf(4, 32, bias))"
   ]
  },
  {
   "cell_type": "markdown",
   "metadata": {},
   "source": [
    "In this plot, the likelihood function looks pretty flat around 0.25, but we might want to adjust the y-axis to focus on the region of high likelihood -- the default puts a lot of emphasis on parts of the plot where the likelihood is very small."
   ]
  },
  {
   "cell_type": "code",
   "execution_count": 49,
   "metadata": {},
   "outputs": [
    {
     "data": {
      "text/plain": [
       "[0.1, 0.15, -4, 0]"
      ]
     },
     "execution_count": 49,
     "metadata": {},
     "output_type": "execute_result"
    },
    {
     "data": {
      "image/png": "[encoded data removed]",
      "text/plain": [
       "<Figure size 432x288 with 1 Axes>"
      ]
     },
     "metadata": {
      "needs_background": "light"
     },
     "output_type": "display_data"
    }
   ],
   "source": [
    "plt.figure()\n",
    "plt.plot(bias, binom.logpmf(4, 32, bias))\n",
    "plt.axis([0.1, 0.15, -4, 0])"
   ]
  },
  {
   "cell_type": "markdown",
   "metadata": {},
   "source": [
    "We need to find the point on the x-axis where the likelihood is maximized. We can probably guess that this will happen at 0.125, but we can use algorithms from Scipy to find the best likelihood. These methods are typically expressed in terms of _minimization_, and so we'll minimize the negative log likelihood which is equivalent to finding the maximum of the likelihood.\n",
    "\n",
    "To do this, we define a function to compute the negative log likelihood, called `negloglik`, and then use `minimize_scalar` from `scipy.optimize` to find the allele skew value that maximizes the likelihood of our data."
   ]
  },
  {
   "cell_type": "code",
   "execution_count": null,
   "metadata": {},
   "outputs": [],
   "source": [
    "from scipy.optimize import minimize_scalar\n",
    "def negloglik(bias):\n",
    "    return -binom.logpmf(4, 32, bias)\n",
    "plt.plot(bias, negloglik(bias))\n",
    "mle = minimize_scalar(negloglik, bounds=(0,1), method='bounded')\n",
    "print(mle)"
   ]
  },
  {
   "cell_type": "markdown",
   "metadata": {},
   "source": [
    "Below, we'll plot the log likelihood functions for:\n",
    "* 1 read out of 8\n",
    "* 4 reads out of 32\n",
    "* 16 reads out of 128"
   ]
  },
  {
   "cell_type": "code",
   "execution_count": 50,
   "metadata": {},
   "outputs": [
    {
     "data": {
      "text/plain": [
       "[0, 1, -10, 0]"
      ]
     },
     "execution_count": 50,
     "metadata": {},
     "output_type": "execute_result"
    },
    {
     "data": {
      "image/png": "[encoded data removed]",
      "text/plain": [
       "<Figure size 432x288 with 1 Axes>"
      ]
     },
     "metadata": {
      "needs_background": "light"
     },
     "output_type": "display_data"
    }
   ],
   "source": [
    "x = np.arange(0,1,0.01)\n",
    "plt.plot(x, binom.logpmf(1, 8, x), color=\"magenta\")\n",
    "plt.plot(x, binom.logpmf(4, 32, x), color=\"black\")\n",
    "plt.plot(x, binom.logpmf(16, 128, x), color=\"cyan\")\n",
    "plt.axis([0,1,-10,0])"
   ]
  },
  {
   "cell_type": "code",
   "execution_count": null,
   "metadata": {},
   "outputs": [],
   "source": []
  }
 ],
 "metadata": {
  "kernelspec": {
   "display_name": "Python 3",
   "language": "python",
   "name": "python3"
  },
  "language_info": {
   "codemirror_mode": {
    "name": "ipython",
    "version": 3
   },
   "file_extension": ".py",
   "mimetype": "text/x-python",
   "name": "python",
   "nbconvert_exporter": "python",
   "pygments_lexer": "ipython3",
   "version": "3.6.8"
  }
 },
 "nbformat": 4,
 "nbformat_minor": 2
}
